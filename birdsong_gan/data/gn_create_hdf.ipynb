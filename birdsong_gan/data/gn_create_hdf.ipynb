{
 "cells": [
  {
   "cell_type": "code",
   "execution_count": 1,
   "metadata": {},
   "outputs": [],
   "source": [
    "%load_ext autoreload\n",
    "%autoreload 2"
   ]
  },
  {
   "cell_type": "code",
   "execution_count": 25,
   "metadata": {},
   "outputs": [],
   "source": [
    "import sys\n",
    "import os\n",
    "sys.path.append(os.pardir)"
   ]
  },
  {
   "cell_type": "code",
   "execution_count": 49,
   "metadata": {},
   "outputs": [],
   "source": [
    "from create_hdf_dataset import create_bird_spectrogram_hdf, create_hdfs, create_bird_spectrogram_hdf_external"
   ]
  },
  {
   "cell_type": "code",
   "execution_count": 50,
   "metadata": {},
   "outputs": [],
   "source": [
    "from glob import glob"
   ]
  },
  {
   "cell_type": "code",
   "execution_count": 23,
   "metadata": {},
   "outputs": [],
   "source": [
    "import h5py\n",
    "import numpy as np"
   ]
  },
  {
   "cell_type": "markdown",
   "metadata": {},
   "source": [
    "# define path to wav files and output path for hdf files"
   ]
  },
  {
   "cell_type": "markdown",
   "metadata": {},
   "source": [
    "using bird data from tchernichovski and jarvis 2021"
   ]
  },
  {
   "cell_type": "code",
   "execution_count": 135,
   "metadata": {},
   "outputs": [],
   "source": [
    "path2wavs = '/home/gagan/data/tchernichovski_jarvis_2021/'\n",
    "\n",
    "out_path = '/home/gagan/data/zudeep/bird_hdfs/'"
   ]
  },
  {
   "cell_type": "code",
   "execution_count": 182,
   "metadata": {},
   "outputs": [
    {
     "name": "stdout",
     "output_type": "stream",
     "text": [
      ".... 230 birds found ....\n"
     ]
    }
   ],
   "source": [
    "birds = glob(path2wavs + 'Box*')\n",
    "birdnames = [b.split('/')[-1] for b in birds]\n",
    "print('.... %d birds found ....'%(len(birdnames)))"
   ]
  },
  {
   "cell_type": "code",
   "execution_count": 137,
   "metadata": {},
   "outputs": [
    {
     "data": {
      "text/plain": [
       "'Box5_HP24'"
      ]
     },
     "execution_count": 137,
     "metadata": {},
     "output_type": "execute_result"
    }
   ],
   "source": [
    "birdnames[0]"
   ]
  },
  {
   "cell_type": "markdown",
   "metadata": {},
   "source": [
    "# create individual bird hdfs"
   ]
  },
  {
   "cell_type": "markdown",
   "metadata": {},
   "source": [
    "Tchernichovski, Jarvis 2021 birds"
   ]
  },
  {
   "cell_type": "code",
   "execution_count": null,
   "metadata": {},
   "outputs": [],
   "source": [
    "for i in range(len(birdnames)):\n",
    "    if not os.path.exists(os.path.join(out_path, birdnames[i])):\n",
    "        create_bird_spectrogram_hdf_external(birdnames[i], birds[i], out_path, target_sampling_rate=16000, standardize=False, nfft=256,\n",
    "                                         min_syll_dur_frames=20, energy_thresh_percent=0.1, compress_type='gzip', compression_idx=9)"
   ]
  },
  {
   "cell_type": "markdown",
   "metadata": {},
   "source": [
    "Our birdsongs"
   ]
  },
  {
   "cell_type": "code",
   "execution_count": 9,
   "metadata": {},
   "outputs": [],
   "source": [
    "path2wavs = '/home/gagan/data/zudeep/wav_files/'"
   ]
  },
  {
   "cell_type": "code",
   "execution_count": 17,
   "metadata": {},
   "outputs": [
    {
     "name": "stdout",
     "output_type": "stream",
     "text": [
      "\n",
      " ..... bird is b14r16_tutor ....\n",
      "\n",
      "\n",
      " ..... bird is k6r16_tutor ....\n",
      "\n",
      "\n",
      " ..... bird is b9r14 ....\n",
      "\n",
      "\n",
      " ..... bird is b13r14 ....\n",
      "\n",
      "\n",
      " ..... bird is r15y5_tutor ....\n",
      "\n",
      "..... bird r15y5_tutor finished in 20.28 secs.....\n",
      "\n",
      " ..... bird is r15y2_tutor ....\n",
      "\n",
      "..... bird r15y2_tutor finished in 19.77 secs.....\n",
      "\n",
      " ..... bird is g20r15_tutor ....\n",
      "\n",
      "..... bird g20r15_tutor finished in 9.06 secs.....\n"
     ]
    }
   ],
   "source": [
    "create_hdfs(path2wavs, out_path, extention='SAP_allfiles', extention2 = 'songs', \n",
    "                downsample_factor = 2, nfft = 256)"
   ]
  },
  {
   "cell_type": "markdown",
   "metadata": {},
   "source": [
    "# explore one birds file"
   ]
  },
  {
   "cell_type": "markdown",
   "metadata": {},
   "source": [
    " load one hdf file"
   ]
  },
  {
   "cell_type": "code",
   "execution_count": 215,
   "metadata": {},
   "outputs": [],
   "source": [
    "bird = 'r15y5_tutor'"
   ]
  },
  {
   "cell_type": "code",
   "execution_count": 238,
   "metadata": {},
   "outputs": [],
   "source": [
    "birdfile = h5py.File(os.path.join(out_path, bird),'r')"
   ]
  },
  {
   "cell_type": "markdown",
   "metadata": {},
   "source": [
    "list some data folders for this bird"
   ]
  },
  {
   "cell_type": "code",
   "execution_count": 220,
   "metadata": {},
   "outputs": [
    {
     "data": {
      "text/plain": [
       "['tutor']"
      ]
     },
     "execution_count": 220,
     "metadata": {},
     "output_type": "execute_result"
    }
   ],
   "source": [
    "list(birdfile['/'].keys())"
   ]
  },
  {
   "cell_type": "markdown",
   "metadata": {},
   "source": [
    "list some wav files for one folder"
   ]
  },
  {
   "cell_type": "code",
   "execution_count": 221,
   "metadata": {},
   "outputs": [
    {
     "data": {
      "text/plain": [
       "['r15y5U-f00597-2.wav_100',\n",
       " 'r15y5U-f00598-1.wav_100',\n",
       " 'r15y5U-f00600-1.wav_100',\n",
       " 'r15y5U-f00601-1.wav_100',\n",
       " 'r15y5U-f00614-1.wav_100']"
      ]
     },
     "execution_count": 221,
     "metadata": {},
     "output_type": "execute_result"
    }
   ],
   "source": [
    "list(birdfile['/tutor'].keys())[-5:]"
   ]
  },
  {
   "cell_type": "code",
   "execution_count": 237,
   "metadata": {},
   "outputs": [],
   "source": [
    "birdfile.close()"
   ]
  },
  {
   "cell_type": "code",
   "execution_count": null,
   "metadata": {},
   "outputs": [],
   "source": [
    "names = []\n",
    "with h5py.File(os.path.join(out_path, bird), 'r') as hf:\n",
    "    aa = hf.visit(print)\n",
    "    names.append(aa)"
   ]
  },
  {
   "cell_type": "code",
   "execution_count": 236,
   "metadata": {},
   "outputs": [],
   "source": []
  },
  {
   "cell_type": "code",
   "execution_count": 239,
   "metadata": {},
   "outputs": [],
   "source": [
    "names = get_dataset_keys(birdfile)"
   ]
  },
  {
   "cell_type": "markdown",
   "metadata": {},
   "source": [
    "# plot a spectrogram"
   ]
  },
  {
   "cell_type": "code",
   "execution_count": 29,
   "metadata": {},
   "outputs": [],
   "source": [
    "import matplotlib.pyplot as plt\n",
    "from utils.utils import transform, rescale_spectrogram"
   ]
  },
  {
   "cell_type": "code",
   "execution_count": 287,
   "metadata": {},
   "outputs": [
    {
     "data": {
      "text/plain": [
       "(129, 71, 2)"
      ]
     },
     "execution_count": 287,
     "metadata": {},
     "output_type": "execute_result"
    }
   ],
   "source": [
    "S = np.array(birdfile['idx_1000112_Box4_LB5_UD_LB5_43535.42576086_3_11_11_49_36.wav_42'])\n",
    "S.shape"
   ]
  },
  {
   "cell_type": "code",
   "execution_count": 288,
   "metadata": {},
   "outputs": [],
   "source": [
    "S = transform(S)"
   ]
  },
  {
   "cell_type": "code",
   "execution_count": 289,
   "metadata": {},
   "outputs": [
    {
     "data": {
      "image/png": "[encoded data removed]",
      "text/plain": [
       "<Figure size 1080x432 with 1 Axes>"
      ]
     },
     "metadata": {
      "needs_background": "light"
     },
     "output_type": "display_data"
    }
   ],
   "source": [
    "plt.figure(figsize = (15,6))\n",
    "plt.imshow(rescale_spectrogram(S), cmap = 'gray', origin='lower')\n",
    "plt.show()"
   ]
  },
  {
   "cell_type": "markdown",
   "metadata": {},
   "source": [
    "# make single hdf file"
   ]
  },
  {
   "cell_type": "code",
   "execution_count": 250,
   "metadata": {},
   "outputs": [],
   "source": [
    "def make_single_hdf(path2hdfs, save_dir):\n",
    "    \"\"\"Go through each hdf file \n",
    "    \"\"\"\n",
    "    # make sure all files in this folder are hdfs\n",
    "    bird_hdfs = os.listdir(path2hdfs)\n",
    "    idx = 0\n",
    "    with h5py.File(save_dir, 'w') as file:\n",
    "        \n",
    "        for b in bird_hdfs:\n",
    "            \n",
    "            birdfile = h5py.File(os.path.join(path2hdfs,b), 'r')\n",
    "            # get file names\n",
    "            fnames = get_dataset_keys(birdfile)\n",
    "            # go through file names, get spectrograms and put them in new file\n",
    "            for f in fnames:\n",
    "                data = np.array(birdfile[f])\n",
    "                # replace all / with _\n",
    "                fn = f.replace('/','_')\n",
    "                file.create_dataset('idx_'+str(idx)+'_'+fn, data=data, \n",
    "                                 compression = 'gzip', compression_opts = 5)\n",
    "                idx += 1\n",
    "            birdfile.close()\n",
    "            print('..... done with bird %s, count = %d .....'%(b, idx))\n",
    "            \n",
    "    return idx"
   ]
  },
  {
   "cell_type": "code",
   "execution_count": null,
   "metadata": {},
   "outputs": [],
   "source": [
    "make_single_hdf('/home/gagan/data/zudeep/bird_hdfs/', '/home/gagan/data/zudeep/all_birds.hdf')"
   ]
  },
  {
   "cell_type": "markdown",
   "metadata": {},
   "source": [
    "load the single birds file, divide indices into train and test"
   ]
  },
  {
   "cell_type": "code",
   "execution_count": 252,
   "metadata": {},
   "outputs": [],
   "source": [
    "birdfile = h5py.File('/home/gagan/data/zudeep/all_birds.hdf','r')"
   ]
  },
  {
   "cell_type": "code",
   "execution_count": 263,
   "metadata": {},
   "outputs": [],
   "source": [
    "id_list_train, id_list_test = make_single_file_id_lists(birdfile)"
   ]
  },
  {
   "cell_type": "code",
   "execution_count": 276,
   "metadata": {},
   "outputs": [
    {
     "data": {
      "text/plain": [
       "1150493"
      ]
     },
     "execution_count": 276,
     "metadata": {},
     "output_type": "execute_result"
    }
   ],
   "source": [
    "len(id_list_train)"
   ]
  },
  {
   "cell_type": "code",
   "execution_count": 285,
   "metadata": {},
   "outputs": [
    {
     "data": {
      "text/plain": [
       "{'id': 125,\n",
       " 'birdname': 'Box4',\n",
       " 'within_file': 'idx_1000112_Box4_LB5_UD_LB5_43535.42576086_3_11_11_49_36.wav_42',\n",
       " 'age_weight': nan}"
      ]
     },
     "execution_count": 285,
     "metadata": {},
     "output_type": "execute_result"
    }
   ],
   "source": [
    "id_list_train[101]"
   ]
  },
  {
   "cell_type": "code",
   "execution_count": 267,
   "metadata": {},
   "outputs": [],
   "source": [
    "import pickle"
   ]
  },
  {
   "cell_type": "code",
   "execution_count": 268,
   "metadata": {},
   "outputs": [],
   "source": [
    "with open('/home/gagan/data/zudeep/id_list_train_single_file.pkl','wb') as f:\n",
    "    pickle.dump(id_list_train, f, protocol=pickle.HIGHEST_PROTOCOL)\n",
    "    \n",
    "with open('/home/gagan/data/zudeep/id_list_test_single_file.pkl','wb') as f:\n",
    "    pickle.dump(id_list_test, f, protocol=pickle.HIGHEST_PROTOCOL)"
   ]
  },
  {
   "cell_type": "code",
   "execution_count": 262,
   "metadata": {},
   "outputs": [],
   "source": [
    "def make_single_file_id_lists(birdfile, train_size=0.8):\n",
    "    \"\"\"Makes id lists for train and test when all data is within one \n",
    "        HDF file.\n",
    "    \"\"\"\n",
    "    all_wav_names = list(birdfile.keys())\n",
    "    N = len(all_wav_names)\n",
    "    idx_train = np.random.choice(N, size = int(train_size*N), replace=False)\n",
    "    id_list_train = []\n",
    "    id_list_test = []\n",
    "    \n",
    "    for i, f in enumerate(all_wav_names):\n",
    "        if i in idx_train:\n",
    "            birdname = f.split('_')[2]\n",
    "            id_list_train.append({'id':i, 'birdname': birdname,\n",
    "                                'within_file': f, 'age_weight': np.nan,\n",
    "                                 })\n",
    "        else:\n",
    "            id_list_test.append({'id':i, 'birdname': birdname,\n",
    "                                'within_file': f, 'age_weight': np.nan,\n",
    "                                 })\n",
    "            \n",
    "    return id_list_train, id_list_test"
   ]
  },
  {
   "cell_type": "markdown",
   "metadata": {},
   "source": [
    "# make id lists"
   ]
  },
  {
   "cell_type": "markdown",
   "metadata": {},
   "source": [
    "ID lists are used by the songbird_dataset class to select random spectrograms during training"
   ]
  },
  {
   "cell_type": "code",
   "execution_count": 5,
   "metadata": {},
   "outputs": [
    {
     "data": {
      "text/plain": [
       "'/media/songbird/datapartition/mdgan_training_input_with_age_HDF/'"
      ]
     },
     "execution_count": 5,
     "metadata": {},
     "output_type": "execute_result"
    }
   ],
   "source": [
    "out_path"
   ]
  },
  {
   "cell_type": "code",
   "execution_count": 7,
   "metadata": {},
   "outputs": [
    {
     "name": "stdout",
     "output_type": "stream",
     "text": [
      "..... 0 of 14 birds indexed .....\n",
      "..... 1 of 14 birds indexed .....\n",
      "..... 2 of 14 birds indexed .....\n",
      "..... 3 of 14 birds indexed .....\n",
      "..... 4 of 14 birds indexed .....\n",
      "..... 5 of 14 birds indexed .....\n",
      "..... 6 of 14 birds indexed .....\n",
      "..... 7 of 14 birds indexed .....\n",
      "..... 8 of 14 birds indexed .....\n",
      "..... 9 of 14 birds indexed .....\n",
      "..... 10 of 14 birds indexed .....\n",
      "..... 11 of 14 birds indexed .....\n",
      "..... 12 of 14 birds indexed .....\n",
      "..... 13 of 14 birds indexed .....\n"
     ]
    }
   ],
   "source": [
    "id_list, age_weight_list, cnt = make_ID_list(out_path)"
   ]
  },
  {
   "cell_type": "markdown",
   "metadata": {},
   "source": [
    "# split id lists into test and train"
   ]
  },
  {
   "cell_type": "code",
   "execution_count": 8,
   "metadata": {},
   "outputs": [],
   "source": [
    "id_list_train, id_list_test = split_ids_train_test(id_list, train_test_ratio = 0.9)"
   ]
  },
  {
   "cell_type": "markdown",
   "metadata": {},
   "source": [
    "# save id and age weight lists with pickle (only use pickle!)"
   ]
  },
  {
   "cell_type": "code",
   "execution_count": 11,
   "metadata": {},
   "outputs": [],
   "source": [
    "import pickle"
   ]
  },
  {
   "cell_type": "code",
   "execution_count": 13,
   "metadata": {},
   "outputs": [],
   "source": [
    "with open('/media/songbird/datapartition/id_list_train.pkl','wb') as f:\n",
    "    pickle.dump(id_list_train, f, protocol=pickle.HIGHEST_PROTOCOL)\n",
    "    \n",
    "with open('/media/songbird/datapartition/id_list_test.pkl','wb') as f:\n",
    "    pickle.dump(id_list_test, f, protocol=pickle.HIGHEST_PROTOCOL)"
   ]
  },
  {
   "cell_type": "code",
   "execution_count": 14,
   "metadata": {},
   "outputs": [],
   "source": [
    "age_weights_train = [ids['age_weight'] for ids in id_list_train]\n",
    "age_weights_test = [ids['age_weight'] for ids in id_list_test]"
   ]
  },
  {
   "cell_type": "code",
   "execution_count": 15,
   "metadata": {},
   "outputs": [],
   "source": [
    "with open('/media/songbird/datapartition/age_weights_training.pkl', 'wb') as f: \n",
    "    pickle.dump(age_weights_train, f, protocol=pickle.HIGHEST_PROTOCOL)\n",
    "with open('/media/songbird/datapartition/age_weights_test.pkl', 'wb') as f: \n",
    "    pickle.dump(age_weights_test, f, protocol=pickle.HIGHEST_PROTOCOL)"
   ]
  },
  {
   "cell_type": "code",
   "execution_count": null,
   "metadata": {},
   "outputs": [],
   "source": []
  }
 ],
 "metadata": {
  "kernelspec": {
   "display_name": "Python 3",
   "language": "python",
   "name": "python3"
  },
  "language_info": {
   "codemirror_mode": {
    "name": "ipython",
    "version": 3
   },
   "file_extension": ".py",
   "mimetype": "text/x-python",
   "name": "python",
   "nbconvert_exporter": "python",
   "pygments_lexer": "ipython3",
   "version": "3.8.8"
  }
 },
 "nbformat": 4,
 "nbformat_minor": 4
}
