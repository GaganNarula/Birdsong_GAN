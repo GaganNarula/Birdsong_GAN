{
 "cells": [
  {
   "cell_type": "code",
   "execution_count": 1,
   "id": "union-absence",
   "metadata": {},
   "outputs": [],
   "source": [
    "%load_ext autoreload\n",
    "%autoreload 2"
   ]
  },
  {
   "cell_type": "code",
   "execution_count": 19,
   "id": "pediatric-rough",
   "metadata": {},
   "outputs": [],
   "source": [
    "from models.generative_model import GaussHMMGAN"
   ]
  },
  {
   "cell_type": "code",
   "execution_count": 39,
   "id": "sporting-colony",
   "metadata": {},
   "outputs": [],
   "source": [
    "import joblib\n",
    "import matplotlib.pyplot as plt"
   ]
  },
  {
   "cell_type": "code",
   "execution_count": 37,
   "id": "located-journalist",
   "metadata": {},
   "outputs": [],
   "source": [
    "from utils.utils import rescale_spectrogram"
   ]
  },
  {
   "cell_type": "code",
   "execution_count": 2,
   "id": "comparative-louisiana",
   "metadata": {},
   "outputs": [],
   "source": [
    "from data.dataset import bird_dataset_single_hdf"
   ]
  },
  {
   "cell_type": "markdown",
   "id": "reliable-syndication",
   "metadata": {},
   "source": [
    "# choose a bird"
   ]
  },
  {
   "cell_type": "code",
   "execution_count": 72,
   "id": "reasonable-typing",
   "metadata": {},
   "outputs": [
    {
     "name": "stdout",
     "output_type": "stream",
     "text": [
      "... total number of folders for bird r15y5 = 41 ...\n"
     ]
    }
   ],
   "source": [
    "dataset = bird_dataset_single_hdf('/home/songbird/datapartition/all_birds.hdf', 'r15y5')"
   ]
  },
  {
   "cell_type": "markdown",
   "id": "lesser-sensitivity",
   "metadata": {},
   "source": [
    "# do several days"
   ]
  },
  {
   "cell_type": "code",
   "execution_count": 46,
   "id": "great-hampton",
   "metadata": {},
   "outputs": [],
   "source": [
    "nsamps = 3"
   ]
  },
  {
   "cell_type": "code",
   "execution_count": 75,
   "id": "official-wedding",
   "metadata": {},
   "outputs": [],
   "source": [
    "fig, ax = plt.subplots(nrows=nsamps * 7, ncols=2, figsize=(17,27))\n",
    "\n",
    "i = 0\n",
    "for day in [5,10,15,20,25,30,35]:\n",
    "    \n",
    "    X = dataset.get(day, nsamps)\n",
    "    \n",
    "    model = GaussHMMGAN(netGpath='/home/songbird/datapartition/mdgan_output/daily_gan/r15y5_nz12_alldaysnets/netG_epoch_60_day_all.pth', \n",
    "                    netEpath='/home/songbird/datapartition/mdgan_output/daily_gan/r15y5_nz12_alldaysnets/netE_epoch_60_day_all.pth',\n",
    "                    hmmpath='/home/songbird/datapartition/mdgan_output/daily_gan/r15y5_nz12_alldaysnets/day_'+str(day)+ \\\n",
    "                        '/hmm_hiddensize_60/model_day_'+str(day)+'.pkl'\n",
    "                   )\n",
    "\n",
    "    sample_seqs = model.sample(nsamples=nsamps, timesteps = [x.shape[1]//16 for x in X])\n",
    "    \n",
    "    model = None\n",
    "    \n",
    "    for j in range(nsamps):\n",
    "        ax[i,0].imshow(rescale_spectrogram(X[j]), origin='lower', cmap='gray')\n",
    "        ax[i,0].set_ylabel('Day '+str(day))\n",
    "        ax[i,1].imshow(rescale_spectrogram(sample_seqs[j]), origin='lower', cmap='gray')\n",
    "        ax[i,0].tick_params(  # changes apply to the x-axis\n",
    "            which='both',      # both major and minor ticks are affected\n",
    "            bottom=False,      # ticks along the bottom edge are off\n",
    "            top=False,         # ticks along the top edge are off\n",
    "            left=False,\n",
    "            labelbottom=False) # labels along the bottom edge are off\n",
    "        ax[i,1].tick_params(  # changes apply to the x-axis\n",
    "            which='both',      # both major and minor ticks are affected\n",
    "            bottom=False,      # ticks along the bottom edge are off\n",
    "            top=False,         # ticks along the top edge are off\n",
    "            left=False,\n",
    "            labelbottom=False) # labels along the bottom edge are off\n",
    "        \n",
    "        i += 1\n",
    "        \n",
    "#plt.show()\n",
    "plt.savefig('/home/songbird/Dropbox/Work/MDGAN_paper/Figures_for_paper/Final_figures/Figure3/r15y5_nz12_hmm60_samples.jpg', dpi=100, format='jpg')\n",
    "plt.close()"
   ]
  },
  {
   "cell_type": "code",
   "execution_count": 71,
   "id": "medical-stylus",
   "metadata": {},
   "outputs": [],
   "source": [
    "dataset.close()"
   ]
  },
  {
   "cell_type": "code",
   "execution_count": null,
   "id": "aerial-midwest",
   "metadata": {},
   "outputs": [],
   "source": []
  }
 ],
 "metadata": {
  "kernelspec": {
   "display_name": "Python 3",
   "language": "python",
   "name": "python3"
  },
  "language_info": {
   "codemirror_mode": {
    "name": "ipython",
    "version": 3
   },
   "file_extension": ".py",
   "mimetype": "text/x-python",
   "name": "python",
   "nbconvert_exporter": "python",
   "pygments_lexer": "ipython3",
   "version": "3.8.8"
  }
 },
 "nbformat": 4,
 "nbformat_minor": 5
}
