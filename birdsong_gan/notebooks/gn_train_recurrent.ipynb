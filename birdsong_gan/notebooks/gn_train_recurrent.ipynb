{
 "cells": [
  {
   "cell_type": "code",
   "execution_count": 1,
   "id": "a8badc06",
   "metadata": {},
   "outputs": [],
   "source": [
    "%load_ext autoreload\n",
    "%autoreload 2"
   ]
  },
  {
   "cell_type": "code",
   "execution_count": 12,
   "id": "a5413652",
   "metadata": {},
   "outputs": [],
   "source": [
    "import sys\n",
    "import os\n",
    "sys.path.append(os.pardir)\n",
    "import gc\n",
    "import pdb\n",
    "import numpy as np\n",
    "import torch\n",
    "from torch.utils.data import DataLoader\n",
    "from data.dataset import songbird_full_spectrogram\n",
    "from configs.cfg import *"
   ]
  },
  {
   "cell_type": "code",
   "execution_count": 3,
   "id": "98bd1c33",
   "metadata": {},
   "outputs": [],
   "source": [
    "from train.train_recurrent import train, evaluate\n",
    "from models.nets_recurrent import RecurrentNetv1"
   ]
  },
  {
   "cell_type": "code",
   "execution_count": 4,
   "id": "87d34684",
   "metadata": {},
   "outputs": [],
   "source": [
    "opts_dict = {'training_path': os.path.join(EXT_PATH,'id_list_train.pkl'), 'outf': SAVE_PATH, 'external_file_path': EXT_PATH,\n",
    "             'test_path':os.path.join(EXT_PATH,'id_list_test.pkl'),\n",
    "        'age_weights_path': '', \n",
    "       'distance_fun': 'L1', 'subset_age_weights' : [0., 1.], 'workers': 6, 'batchSize': 128, \n",
    "        'imageH': 129, 'imageW': 16, 'noverlap':0, 'nz': 16, 'nepochs': 50, 'log_every': 500,\n",
    "        'checkpoint_models':  True, 'ksteps_ahead': 5, \n",
    "       'lr': 1e-5, 'l2': 0.0, 'schedule_lr':False, 'beta1': 0.5, 'cuda': True, 'ngpu': 1,\n",
    "        'log_every': 300, 'sample_rate': 16000.,'noise_dist': 'normal','z_var': 1.,\n",
    "        'nfft': 256, 'get_audio': False,'manualSeed': [], 'do_pca': True, \n",
    "        'num_rnn': 200, 'num_layers': 2, 'dropout': 0.1, 'num_linear':200,\n",
    "        'bidirectional':True, 'leak': 0.1, 'max_length':400}"
   ]
  },
  {
   "cell_type": "markdown",
   "id": "6c126b6f",
   "metadata": {},
   "source": [
    "# setup datasets and dataloaders"
   ]
  },
  {
   "cell_type": "code",
   "execution_count": 13,
   "id": "7029fd73",
   "metadata": {},
   "outputs": [],
   "source": [
    "# initialize the dataset and dataloader objects\n",
    "train_dataset = songbird_full_spectrogram(opts_dict['training_path'], opts_dict['external_file_path'], \n",
    "                                          opts_dict['subset_age_weights'], opts_dict['max_length'])\n",
    "\n",
    "train_dataloader = DataLoader(train_dataset, batch_size=opts_dict['batchSize'], sampler = None,\n",
    "                                         shuffle=True, num_workers=int(opts_dict['workers']),\n",
    "                                    drop_last = True)\n",
    "\n",
    "test_dataset = songbird_full_spectrogram(opts_dict['test_path'], opts_dict['external_file_path'],\n",
    "                               opts_dict['subset_age_weights'], opts_dict['max_length'])\n",
    "\n",
    "test_dataloader = DataLoader(test_dataset, batch_size= opts_dict['batchSize'],\n",
    "                                         shuffle=True, num_workers=int(opts_dict['workers']),\n",
    "                            drop_last = True)\n"
   ]
  },
  {
   "cell_type": "code",
   "execution_count": 14,
   "id": "1f002739",
   "metadata": {},
   "outputs": [
    {
     "data": {
      "text/plain": [
       "685129"
      ]
     },
     "execution_count": 14,
     "metadata": {},
     "output_type": "execute_result"
    }
   ],
   "source": [
    "len(train_dataset)"
   ]
  },
  {
   "cell_type": "code",
   "execution_count": 15,
   "id": "168c6a4a",
   "metadata": {},
   "outputs": [],
   "source": [
    "xx, age = train_dataset.__getitem__(1050)"
   ]
  },
  {
   "cell_type": "code",
   "execution_count": 16,
   "id": "437e8c65",
   "metadata": {},
   "outputs": [
    {
     "data": {
      "text/plain": [
       "torch.Size([129, 400])"
      ]
     },
     "execution_count": 16,
     "metadata": {},
     "output_type": "execute_result"
    }
   ],
   "source": [
    "xx.shape"
   ]
  },
  {
   "cell_type": "code",
   "execution_count": 17,
   "id": "f939c59a",
   "metadata": {},
   "outputs": [
    {
     "data": {
      "text/plain": [
       "tensor([0.4100])"
      ]
     },
     "execution_count": 17,
     "metadata": {},
     "output_type": "execute_result"
    }
   ],
   "source": [
    "age"
   ]
  },
  {
   "cell_type": "markdown",
   "id": "82112009",
   "metadata": {},
   "source": [
    "# setup model and test it"
   ]
  },
  {
   "cell_type": "code",
   "execution_count": 18,
   "id": "f8156849",
   "metadata": {},
   "outputs": [],
   "source": [
    "# instantiate network\n",
    "model =  RecurrentNetv1(Hin=opts_dict['imageH'], nz=opts_dict['imageH'],\n",
    "                        nrnn=opts_dict['num_rnn'], nlin=opts_dict['num_linear'], \n",
    "                        nlayers=opts_dict['num_layers'], bidirectional= opts_dict['bidirectional'], \n",
    "                        dropout=opts_dict['dropout'], leak=opts_dict['leak'])\n",
    "\n",
    "model = model.cuda()\n"
   ]
  },
  {
   "cell_type": "code",
   "execution_count": 66,
   "id": "e9317922",
   "metadata": {},
   "outputs": [
    {
     "data": {
      "text/plain": [
       "297"
      ]
     },
     "execution_count": 66,
     "metadata": {},
     "output_type": "execute_result"
    }
   ],
   "source": [
    "del model\n",
    "gc.collect()"
   ]
  },
  {
   "cell_type": "code",
   "execution_count": 69,
   "id": "d219d822",
   "metadata": {},
   "outputs": [
    {
     "data": {
      "text/plain": [
       "torch.Size([32, 100, 129])"
      ]
     },
     "execution_count": 69,
     "metadata": {},
     "output_type": "execute_result"
    }
   ],
   "source": [
    "# test on some input\n",
    "xx = torch.cuda.FloatTensor(32,100,129)\n",
    "\n",
    "yy = model(xx)\n",
    "yy.shape"
   ]
  },
  {
   "cell_type": "markdown",
   "id": "abd897d9",
   "metadata": {},
   "source": [
    "# train"
   ]
  },
  {
   "cell_type": "code",
   "execution_count": null,
   "id": "7fe14a99",
   "metadata": {},
   "outputs": [],
   "source": [
    "# train\n",
    "model, train_loss = train(model, train_dataloader, test_dataloader, opts_dict)"
   ]
  },
  {
   "cell_type": "code",
   "execution_count": null,
   "id": "6fb66ae0",
   "metadata": {},
   "outputs": [],
   "source": []
  }
 ],
 "metadata": {
  "kernelspec": {
   "display_name": "Python 3",
   "language": "python",
   "name": "python3"
  },
  "language_info": {
   "codemirror_mode": {
    "name": "ipython",
    "version": 3
   },
   "file_extension": ".py",
   "mimetype": "text/x-python",
   "name": "python",
   "nbconvert_exporter": "python",
   "pygments_lexer": "ipython3",
   "version": "3.8.8"
  }
 },
 "nbformat": 4,
 "nbformat_minor": 5
}
