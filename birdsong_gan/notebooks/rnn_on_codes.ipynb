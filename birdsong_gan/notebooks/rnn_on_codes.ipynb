{
 "cells": [
  {
   "cell_type": "markdown",
   "id": "68f10a72-9b51-4e4f-8657-c364492f256c",
   "metadata": {},
   "source": [
    "# Examine the codes, and try to learn a model "
   ]
  },
  {
   "cell_type": "code",
   "execution_count": 10,
   "id": "ba134d65-0b4e-4f9d-bbba-5c841a452aca",
   "metadata": {},
   "outputs": [],
   "source": [
    "import os\n",
    "import torch\n",
    "import torch.nn as nn\n",
    "import numpy as np"
   ]
  },
  {
   "cell_type": "code",
   "execution_count": 2,
   "id": "157aeb8b-b451-4c68-bb3a-31bd927b528e",
   "metadata": {},
   "outputs": [],
   "source": [
    "from datasets import load_from_disk"
   ]
  },
  {
   "cell_type": "code",
   "execution_count": 3,
   "id": "91b0fec3-eaff-48f7-97bf-ec15dfbbbd50",
   "metadata": {},
   "outputs": [],
   "source": [
    "ds = load_from_disk(\"/home/gagan/ek_processed_data/vqvae_encoded_songbird_data/model_2024-02-28_firm_galaxy/\")"
   ]
  },
  {
   "cell_type": "code",
   "execution_count": 4,
   "id": "5881445d-f7d1-4003-9c95-a91def3d1175",
   "metadata": {},
   "outputs": [
    {
     "data": {
      "text/plain": [
       "488517"
      ]
     },
     "execution_count": 4,
     "metadata": {},
     "output_type": "execute_result"
    }
   ],
   "source": [
    "len(ds)"
   ]
  },
  {
   "cell_type": "code",
   "execution_count": 6,
   "id": "fb0bca7e-7ed3-4952-b5ee-82490307231f",
   "metadata": {},
   "outputs": [
    {
     "data": {
      "text/plain": [
       "Dataset({\n",
       "    features: ['codes', 'bird_name', 'days_post_hatch', 'recording_date'],\n",
       "    num_rows: 488517\n",
       "})"
      ]
     },
     "execution_count": 6,
     "metadata": {},
     "output_type": "execute_result"
    }
   ],
   "source": [
    "ds"
   ]
  },
  {
   "cell_type": "code",
   "execution_count": 20,
   "id": "2d500e14-c28b-48b1-8ddb-44c8ae41d3f4",
   "metadata": {},
   "outputs": [
    {
     "data": {
      "text/plain": [
       "torch.Size([10, 64, 8])"
      ]
     },
     "execution_count": 20,
     "metadata": {},
     "output_type": "execute_result"
    }
   ],
   "source": [
    "codes = torch.Tensor(ds[0][\"codes\"])\n",
    "codes.shape"
   ]
  },
  {
   "cell_type": "code",
   "execution_count": null,
   "id": "6e2c7836-175c-4b8c-8eb2-3ca826ca564b",
   "metadata": {},
   "outputs": [],
   "source": [
    "codes[0:2,0]"
   ]
  },
  {
   "cell_type": "code",
   "execution_count": 29,
   "id": "2eaad03d-b5db-4a6e-9b9d-4a27512fc3f4",
   "metadata": {},
   "outputs": [
    {
     "data": {
      "text/plain": [
       "torch.Size([5120])"
      ]
     },
     "execution_count": 29,
     "metadata": {},
     "output_type": "execute_result"
    }
   ],
   "source": [
    "codes = codes.flatten()\n",
    "codes.shape"
   ]
  },
  {
   "cell_type": "code",
   "execution_count": 25,
   "id": "961212bd-3d3b-4ac5-b27c-b144f62a8639",
   "metadata": {},
   "outputs": [],
   "source": [
    "codes = codes.to(torch.int32)"
   ]
  },
  {
   "cell_type": "markdown",
   "id": "54b6003b-a17a-461b-a06d-3505dbd0e90f",
   "metadata": {},
   "source": [
    "# Recurrent network"
   ]
  },
  {
   "cell_type": "code",
   "execution_count": 17,
   "id": "6c5158c1-cf41-4bbc-9c0b-5c6889e9268d",
   "metadata": {},
   "outputs": [],
   "source": [
    "class Rnet(torch.nn.Module):\n",
    "\n",
    "    def __init__(self, num_embeddings: int = 512,\n",
    "                 embedding_dim: int = 512, \n",
    "                 num_layers: int = 2,\n",
    "                 hidden_size: int = 512,\n",
    "                 dropout: float = 0.1,\n",
    "                ):\n",
    "        super().__init__()\n",
    "\n",
    "        dropout_ = 0.0 if num_layers == 0 else dropout\n",
    "        self.embedding = nn.Embedding(num_embeddings, embedding_dim)\n",
    "        self.net = nn.GRU(input_size=embedding_dim, hidden_size=hidden_size,\n",
    "        bidirectional=False, batch_first=True, num_layers=num_layers, dropout=dropout_)\n",
    "        self.norm = nn.LayerNorm(hidden_size)\n",
    "        self.output_layer = nn.Linear(hidden_size, num_embeddings)\n",
    "\n",
    "    def forward(self, x: torch.Tensor) -> torch.Tensor:\n",
    "        # x has shape (B, T, C)\n",
    "        x = self.embedding(x)\n",
    "        o, _ = self.net(x)\n",
    "        o = self.norm(o)\n",
    "        return self.output_layer(o)"
   ]
  },
  {
   "cell_type": "code",
   "execution_count": 18,
   "id": "063ff92c-2a27-478d-a897-f7a349851c98",
   "metadata": {},
   "outputs": [],
   "source": [
    "net = Rnet()"
   ]
  },
  {
   "cell_type": "code",
   "execution_count": 19,
   "id": "cb1f99d2-e0b7-46ec-ab07-3efd6cdddcc7",
   "metadata": {},
   "outputs": [
    {
     "data": {
      "text/plain": [
       "Rnet(\n",
       "  (embedding): Embedding(512, 512)\n",
       "  (net): GRU(512, 512, num_layers=2, batch_first=True, dropout=0.1)\n",
       "  (norm): LayerNorm((512,), eps=1e-05, elementwise_affine=True)\n",
       "  (output_layer): Linear(in_features=512, out_features=512, bias=True)\n",
       ")"
      ]
     },
     "execution_count": 19,
     "metadata": {},
     "output_type": "execute_result"
    }
   ],
   "source": [
    "net"
   ]
  },
  {
   "cell_type": "code",
   "execution_count": 26,
   "id": "4b43626b-1843-48b6-9c21-4c2c1cc7be2d",
   "metadata": {},
   "outputs": [],
   "source": [
    "z = net.embedding(codes)"
   ]
  },
  {
   "cell_type": "code",
   "execution_count": 27,
   "id": "afde25f2-9a30-4807-ad5a-c86d5a388482",
   "metadata": {},
   "outputs": [
    {
     "data": {
      "text/plain": [
       "torch.Size([1, 10, 512, 512])"
      ]
     },
     "execution_count": 27,
     "metadata": {},
     "output_type": "execute_result"
    }
   ],
   "source": [
    "z.shape"
   ]
  },
  {
   "cell_type": "code",
   "execution_count": 11,
   "id": "99de712b-d9eb-4660-8d1a-dd35bcd66f2c",
   "metadata": {},
   "outputs": [],
   "source": [
    "xx = torch.rand(1, 3, 32, 32)"
   ]
  },
  {
   "cell_type": "code",
   "execution_count": 12,
   "id": "3abc9ea3-6fca-40b6-84d0-79145c926624",
   "metadata": {},
   "outputs": [
    {
     "data": {
      "text/plain": [
       "torch.Size([1, 3, 32, 32])"
      ]
     },
     "execution_count": 12,
     "metadata": {},
     "output_type": "execute_result"
    }
   ],
   "source": [
    "xx.shape"
   ]
  },
  {
   "cell_type": "code",
   "execution_count": null,
   "id": "0d8f119e-709d-46f1-baf9-8e2e602c5fe4",
   "metadata": {},
   "outputs": [],
   "source": []
  }
 ],
 "metadata": {
  "kernelspec": {
   "display_name": "Python 3 (ipykernel)",
   "language": "python",
   "name": "python3"
  },
  "language_info": {
   "codemirror_mode": {
    "name": "ipython",
    "version": 3
   },
   "file_extension": ".py",
   "mimetype": "text/x-python",
   "name": "python",
   "nbconvert_exporter": "python",
   "pygments_lexer": "ipython3",
   "version": "3.10.13"
  }
 },
 "nbformat": 4,
 "nbformat_minor": 5
}
