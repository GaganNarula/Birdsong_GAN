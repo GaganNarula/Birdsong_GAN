{
 "cells": [
  {
   "cell_type": "code",
   "execution_count": 1,
   "id": "successful-depression",
   "metadata": {},
   "outputs": [],
   "source": [
    "%load_ext autoreload\n",
    "%autoreload 2"
   ]
  },
  {
   "cell_type": "code",
   "execution_count": 3,
   "id": "sensitive-reach",
   "metadata": {},
   "outputs": [],
   "source": [
    "import numpy as np\n",
    "import matplotlib.pyplot as plt\n",
    "import joblib"
   ]
  },
  {
   "cell_type": "markdown",
   "id": "absolute-albuquerque",
   "metadata": {},
   "source": [
    "# load a bird, get its songs from some day"
   ]
  },
  {
   "cell_type": "code",
   "execution_count": 6,
   "id": "directed-intention",
   "metadata": {},
   "outputs": [],
   "source": [
    "from data.dataset import bird_dataset_single_hdf"
   ]
  },
  {
   "cell_type": "code",
   "execution_count": 7,
   "id": "young-probe",
   "metadata": {},
   "outputs": [
    {
     "name": "stdout",
     "output_type": "stream",
     "text": [
      "... total number of folders for bird r15y5 = 41 ...\n"
     ]
    }
   ],
   "source": [
    "dataset = bird_dataset_single_hdf('/home/songbird/datapartition/all_birds.hdf', 'r15y5')"
   ]
  },
  {
   "cell_type": "code",
   "execution_count": 8,
   "id": "creative-reunion",
   "metadata": {},
   "outputs": [],
   "source": [
    "# choose a day\n",
    "X = dataset.get(day=18, nsamps=-1)"
   ]
  },
  {
   "cell_type": "code",
   "execution_count": 9,
   "id": "sufficient-colonial",
   "metadata": {},
   "outputs": [
    {
     "data": {
      "text/plain": [
       "2906"
      ]
     },
     "execution_count": 9,
     "metadata": {},
     "output_type": "execute_result"
    }
   ],
   "source": [
    "len(X)"
   ]
  },
  {
   "cell_type": "markdown",
   "id": "optional-matter",
   "metadata": {},
   "source": [
    "# Compare the mean squared error performance of the learned PCA model and the autoencoder"
   ]
  },
  {
   "cell_type": "code",
   "execution_count": 36,
   "id": "emotional-ladder",
   "metadata": {},
   "outputs": [],
   "source": [
    "from utils.utils import load_netG, load_netE, overlap_encode, overlap_decode\n",
    "from reconstruction_error.pca import reconstruction, split_song_sequence"
   ]
  },
  {
   "cell_type": "code",
   "execution_count": 10,
   "id": "distinct-horizon",
   "metadata": {},
   "outputs": [],
   "source": [
    "netG = load_netG('/home/songbird/datapartition/mdgan_output/daily_gan/r15y5_nz16_alldaysnets_ngf64/netG_epoch_60_day_all.pth', nz=16, ngf=64,\n",
    "                 cuda=True, resnet=True)"
   ]
  },
  {
   "cell_type": "code",
   "execution_count": 11,
   "id": "colonial-formation",
   "metadata": {},
   "outputs": [],
   "source": [
    "netE = load_netE('/home/songbird/datapartition/mdgan_output/daily_gan/r15y5_nz16_alldaysnets_ngf64/netE_epoch_60_day_all.pth', nz=16, ngf=64,\n",
    "                 cuda=True, resnet=True)"
   ]
  },
  {
   "cell_type": "code",
   "execution_count": 43,
   "id": "finished-straight",
   "metadata": {},
   "outputs": [],
   "source": [
    "# encode\n",
    "Z = [overlap_encode(x, netE) for x in X]\n",
    "# decode\n",
    "Xhat = [overlap_decode(z, netG)[0] for z in Z]"
   ]
  },
  {
   "cell_type": "code",
   "execution_count": 15,
   "id": "latin-composite",
   "metadata": {},
   "outputs": [
    {
     "data": {
      "text/plain": [
       "2906"
      ]
     },
     "execution_count": 15,
     "metadata": {},
     "output_type": "execute_result"
    }
   ],
   "source": [
    "len(Xhat)"
   ]
  },
  {
   "cell_type": "markdown",
   "id": "fossil-olive",
   "metadata": {},
   "source": [
    "load pca model"
   ]
  },
  {
   "cell_type": "code",
   "execution_count": 19,
   "id": "matched-words",
   "metadata": {},
   "outputs": [],
   "source": [
    "from sklearn.decomposition import PCA"
   ]
  },
  {
   "cell_type": "code",
   "execution_count": 18,
   "id": "hispanic-pickup",
   "metadata": {},
   "outputs": [],
   "source": [
    "pca_model = joblib.load('/home/songbird/datapartition/mdgan_output/daily_gan/r15y5_nz16_alldaysnets_ngf64/pca_model.pkl')"
   ]
  },
  {
   "cell_type": "code",
   "execution_count": 21,
   "id": "cathedral-affect",
   "metadata": {},
   "outputs": [],
   "source": [
    "pca_model = pca_model['pca_model']"
   ]
  },
  {
   "cell_type": "code",
   "execution_count": 26,
   "id": "undefined-kinase",
   "metadata": {},
   "outputs": [
    {
     "data": {
      "text/plain": [
       "<BarContainer object of 2064 artists>"
      ]
     },
     "execution_count": 26,
     "metadata": {},
     "output_type": "execute_result"
    },
    {
     "data": {
      "image/png": "[encoded data removed]",
      "text/plain": [
       "<Figure size 864x432 with 1 Axes>"
      ]
     },
     "metadata": {
      "needs_background": "light"
     },
     "output_type": "display_data"
    }
   ],
   "source": [
    "plt.figure(figsize=(12,6))\n",
    "plt.bar(np.arange(pca_model.mean_.shape[0]), pca_model.mean_)"
   ]
  },
  {
   "cell_type": "code",
   "execution_count": 22,
   "id": "particular-stationery",
   "metadata": {},
   "outputs": [
    {
     "data": {
      "text/plain": [
       "837"
      ]
     },
     "execution_count": 22,
     "metadata": {},
     "output_type": "execute_result"
    }
   ],
   "source": [
    "pca_model.n_components_"
   ]
  },
  {
   "cell_type": "code",
   "execution_count": 62,
   "id": "armed-naples",
   "metadata": {},
   "outputs": [],
   "source": [
    "from copy import deepcopy"
   ]
  },
  {
   "cell_type": "code",
   "execution_count": 76,
   "id": "involved-roberts",
   "metadata": {},
   "outputs": [],
   "source": [
    "pca_short = deepcopy(pca_model)"
   ]
  },
  {
   "cell_type": "code",
   "execution_count": 77,
   "id": "lesbian-benchmark",
   "metadata": {},
   "outputs": [],
   "source": [
    "pca_short.components_ = pca_short.components_[:16,:]"
   ]
  },
  {
   "cell_type": "code",
   "execution_count": 40,
   "id": "pressing-thunder",
   "metadata": {},
   "outputs": [],
   "source": [
    "Xhat_pca = reconstruction(X, pca_model)"
   ]
  },
  {
   "cell_type": "code",
   "execution_count": 78,
   "id": "responsible-correspondence",
   "metadata": {},
   "outputs": [],
   "source": [
    "Xhat_low_pca = reconstruction(X, pca_short)"
   ]
  },
  {
   "cell_type": "code",
   "execution_count": 51,
   "id": "voluntary-heather",
   "metadata": {},
   "outputs": [],
   "source": [
    "def make_vectors(Y):\n",
    "    Yout = []\n",
    "    for seq in Y:\n",
    "        ychunks = split_song_sequence(seq, 16)\n",
    "        ychunks = np.concatenate([y.flatten().reshape(1,-1) for y in ychunks])\n",
    "        Yout.append(ychunks)\n",
    "    return np.concatenate(Yout)"
   ]
  },
  {
   "cell_type": "code",
   "execution_count": 52,
   "id": "gorgeous-stake",
   "metadata": {},
   "outputs": [
    {
     "data": {
      "text/plain": [
       "(61557, 2064)"
      ]
     },
     "execution_count": 52,
     "metadata": {},
     "output_type": "execute_result"
    }
   ],
   "source": [
    "Xorig = make_vectors(X)\n",
    "Xorig.shape"
   ]
  },
  {
   "cell_type": "code",
   "execution_count": 53,
   "id": "thousand-progress",
   "metadata": {},
   "outputs": [
    {
     "data": {
      "text/plain": [
       "(61557, 2064)"
      ]
     },
     "execution_count": 53,
     "metadata": {},
     "output_type": "execute_result"
    }
   ],
   "source": [
    "Xhat = make_vectors(Xhat)\n",
    "Xhat.shape"
   ]
  },
  {
   "cell_type": "code",
   "execution_count": 54,
   "id": "diagnostic-hometown",
   "metadata": {},
   "outputs": [
    {
     "data": {
      "text/plain": [
       "(61557, 2064)"
      ]
     },
     "execution_count": 54,
     "metadata": {},
     "output_type": "execute_result"
    }
   ],
   "source": [
    "Xhat_pca = make_vectors(Xhat_pca)\n",
    "Xhat_pca.shape"
   ]
  },
  {
   "cell_type": "code",
   "execution_count": 79,
   "id": "excited-outline",
   "metadata": {},
   "outputs": [
    {
     "data": {
      "text/plain": [
       "(61557, 2064)"
      ]
     },
     "execution_count": 79,
     "metadata": {},
     "output_type": "execute_result"
    }
   ],
   "source": [
    "Xhat_low_pca = make_vectors(Xhat_low_pca)\n",
    "Xhat_low_pca.shape"
   ]
  },
  {
   "cell_type": "code",
   "execution_count": 80,
   "id": "entitled-screw",
   "metadata": {},
   "outputs": [],
   "source": [
    "L2_gan = ((Xorig - Xhat)**2).sum(axis=1).mean()\n",
    "L2_pca = ((Xorig - Xhat_pca)**2).sum(axis=1).mean()\n",
    "L2_low_pca = ((Xorig - Xhat_low_pca)**2).sum(axis=1).mean()"
   ]
  },
  {
   "cell_type": "code",
   "execution_count": 81,
   "id": "funded-steel",
   "metadata": {},
   "outputs": [
    {
     "name": "stdout",
     "output_type": "stream",
     "text": [
      "11.003618778022323 0.746384519632184 11.12211384467365\n"
     ]
    }
   ],
   "source": [
    "print(L2_gan, L2_pca, L2_low_pca)"
   ]
  },
  {
   "cell_type": "code",
   "execution_count": 83,
   "id": "welcome-product",
   "metadata": {},
   "outputs": [],
   "source": [
    "L1_gan = (np.abs(Xorig - Xhat)).sum(axis=1).mean()\n",
    "L1_pca = (np.abs(Xorig - Xhat_pca)).sum(axis=1).mean()\n",
    "L1_low_pca = (np.abs(Xorig - Xhat_low_pca)).sum(axis=1).mean()"
   ]
  },
  {
   "cell_type": "code",
   "execution_count": 84,
   "id": "developing-enlargement",
   "metadata": {},
   "outputs": [
    {
     "name": "stdout",
     "output_type": "stream",
     "text": [
      "66.7223660434071 22.125343334637336 84.62787285447922\n"
     ]
    }
   ],
   "source": [
    "print(L1_gan, L1_pca, L1_low_pca)"
   ]
  },
  {
   "cell_type": "code",
   "execution_count": null,
   "id": "premium-earth",
   "metadata": {},
   "outputs": [],
   "source": []
  }
 ],
 "metadata": {
  "kernelspec": {
   "display_name": "Python 3",
   "language": "python",
   "name": "python3"
  },
  "language_info": {
   "codemirror_mode": {
    "name": "ipython",
    "version": 3
   },
   "file_extension": ".py",
   "mimetype": "text/x-python",
   "name": "python",
   "nbconvert_exporter": "python",
   "pygments_lexer": "ipython3",
   "version": "3.8.8"
  }
 },
 "nbformat": 4,
 "nbformat_minor": 5
}
