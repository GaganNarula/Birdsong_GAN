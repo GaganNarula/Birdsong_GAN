{
 "cells": [
  {
   "cell_type": "code",
   "execution_count": 1,
   "id": "6b56a6dc",
   "metadata": {},
   "outputs": [],
   "source": [
    "%load_ext autoreload\n",
    "%autoreload 2"
   ]
  },
  {
   "cell_type": "code",
   "execution_count": 2,
   "id": "a7157891",
   "metadata": {},
   "outputs": [],
   "source": [
    "import sys\n",
    "import os\n",
    "sys.path.append(os.pardir)"
   ]
  },
  {
   "cell_type": "code",
   "execution_count": 3,
   "id": "646d73df",
   "metadata": {},
   "outputs": [],
   "source": [
    "import gc"
   ]
  },
  {
   "cell_type": "code",
   "execution_count": 4,
   "id": "101a169f",
   "metadata": {},
   "outputs": [],
   "source": [
    "import pdb"
   ]
  },
  {
   "cell_type": "code",
   "execution_count": 5,
   "id": "3a456945",
   "metadata": {},
   "outputs": [],
   "source": [
    "import numpy as np\n",
    "import torch\n",
    "import umap"
   ]
  },
  {
   "cell_type": "code",
   "execution_count": 49,
   "id": "50e75e0d",
   "metadata": {},
   "outputs": [],
   "source": [
    "import matplotlib.pyplot as plt\n",
    "plt.rcParams.update({'font.size':16})"
   ]
  },
  {
   "cell_type": "code",
   "execution_count": 6,
   "id": "edb810d8",
   "metadata": {},
   "outputs": [],
   "source": [
    "from data.dataset import bird_dataset"
   ]
  },
  {
   "cell_type": "code",
   "execution_count": 7,
   "id": "7912d64a",
   "metadata": {},
   "outputs": [],
   "source": [
    "from utils.utils import load_netG, overlap_encode, overlap_decode, segment_image"
   ]
  },
  {
   "cell_type": "markdown",
   "id": "dcb5b57a",
   "metadata": {},
   "source": [
    "# load a bird, get its songs from all days"
   ]
  },
  {
   "cell_type": "code",
   "execution_count": 8,
   "id": "07694b52",
   "metadata": {},
   "outputs": [
    {
     "name": "stdout",
     "output_type": "stream",
     "text": [
      "...total number of folders = 43 ...\n"
     ]
    }
   ],
   "source": [
    "path2bird = '/home/gagan/data/zudeep/bird_hdfs/r15y2'\n",
    "dataset = bird_dataset(path2bird)"
   ]
  },
  {
   "cell_type": "code",
   "execution_count": 9,
   "id": "b4692303",
   "metadata": {},
   "outputs": [
    {
     "name": "stdout",
     "output_type": "stream",
     "text": [
      "... total available files = 5 ...\n",
      "... total available files = 220 ...\n",
      "... total available files = 316 ...\n",
      "... total available files = 340 ...\n",
      "... total available files = 644 ...\n",
      "... total available files = 877 ...\n",
      "... total available files = 953 ...\n",
      "... total available files = 1315 ...\n",
      "... total available files = 1093 ...\n",
      "... total available files = 517 ...\n",
      "... total available files = 1101 ...\n",
      "... total available files = 1338 ...\n",
      "... total available files = 1544 ...\n",
      "... total available files = 1463 ...\n",
      "... total available files = 1203 ...\n",
      "... total available files = 2005 ...\n",
      "... total available files = 1421 ...\n",
      "... total available files = 1648 ...\n",
      "... total available files = 1355 ...\n",
      "... total available files = 2068 ...\n",
      "... total available files = 1773 ...\n",
      "... total available files = 2351 ...\n",
      "... total available files = 2301 ...\n",
      "... total available files = 2277 ...\n",
      "... total available files = 1740 ...\n",
      "... total available files = 1707 ...\n",
      "... total available files = 1778 ...\n",
      "... total available files = 1958 ...\n",
      "... total available files = 2019 ...\n",
      "... total available files = 1616 ...\n",
      "... total available files = 1785 ...\n",
      "... total available files = 1582 ...\n",
      "... total available files = 1837 ...\n",
      "... total available files = 1430 ...\n",
      "... total available files = 2 ...\n",
      "... total available files = 101 ...\n",
      "... total available files = 535 ...\n",
      "... total available files = 926 ...\n",
      "... total available files = 1136 ...\n",
      "... total available files = 1240 ...\n",
      "... total available files = 1484 ...\n",
      "... total available files = 1359 ...\n",
      "... total available files = 457 ...\n"
     ]
    }
   ],
   "source": [
    "X_real = []\n",
    "\n",
    "for n in range(dataset.nfolders):\n",
    "    \n",
    "    seqs = dataset.get(day = n, nsamps=-1)\n",
    "    for s in seqs:\n",
    "        segs = segment_image(s, width=16)\n",
    "        segs = [np.ndarray.flatten(s) for s in segs]\n",
    "        X_real += segs\n",
    "        \n",
    "        "
   ]
  },
  {
   "cell_type": "code",
   "execution_count": 10,
   "id": "b24fbf40",
   "metadata": {},
   "outputs": [
    {
     "data": {
      "text/plain": [
       "1489096"
      ]
     },
     "execution_count": 10,
     "metadata": {},
     "output_type": "execute_result"
    }
   ],
   "source": [
    "len(X_real)"
   ]
  },
  {
   "cell_type": "code",
   "execution_count": 11,
   "id": "893ee360",
   "metadata": {},
   "outputs": [
    {
     "data": {
      "text/plain": [
       "(2064,)"
      ]
     },
     "execution_count": 11,
     "metadata": {},
     "output_type": "execute_result"
    }
   ],
   "source": [
    "X_real[0].shape"
   ]
  },
  {
   "cell_type": "code",
   "execution_count": 12,
   "id": "0080a1fc",
   "metadata": {},
   "outputs": [],
   "source": [
    "X_real = np.stack(X_real, axis = 0)"
   ]
  },
  {
   "cell_type": "code",
   "execution_count": 13,
   "id": "9a448a50",
   "metadata": {},
   "outputs": [
    {
     "data": {
      "text/plain": [
       "(1489096, 2064)"
      ]
     },
     "execution_count": 13,
     "metadata": {},
     "output_type": "execute_result"
    }
   ],
   "source": [
    "X_real.shape"
   ]
  },
  {
   "cell_type": "code",
   "execution_count": 14,
   "id": "0d27af0b",
   "metadata": {},
   "outputs": [
    {
     "data": {
      "text/plain": [
       "17"
      ]
     },
     "execution_count": 14,
     "metadata": {},
     "output_type": "execute_result"
    }
   ],
   "source": [
    "gc.collect()"
   ]
  },
  {
   "cell_type": "code",
   "execution_count": 16,
   "id": "88a0dd3f",
   "metadata": {},
   "outputs": [],
   "source": [
    "# save \n",
    "np.save('/home/gagan/data/zudeep/processed_files/r15y2_all_spect_chunks.npy', X_real)"
   ]
  },
  {
   "cell_type": "code",
   "execution_count": 17,
   "id": "267ec872",
   "metadata": {},
   "outputs": [],
   "source": [
    "# subsample\n",
    "\n",
    "ids = np.random.choice(len(X_real),size=200000,replace=False)\n",
    "\n",
    "X_real = X_real[ids]"
   ]
  },
  {
   "cell_type": "code",
   "execution_count": 21,
   "id": "3328b856",
   "metadata": {},
   "outputs": [
    {
     "data": {
      "text/plain": [
       "(200000, 2064)"
      ]
     },
     "execution_count": 21,
     "metadata": {},
     "output_type": "execute_result"
    }
   ],
   "source": [
    "X_real.shape"
   ]
  },
  {
   "cell_type": "code",
   "execution_count": 51,
   "id": "8e8cef1d",
   "metadata": {},
   "outputs": [],
   "source": [
    "np.save('/home/gagan/data/zudeep/processed_files/r15y2_subsampled_200000_spect_chunks.npy', X_real)"
   ]
  },
  {
   "cell_type": "code",
   "execution_count": 83,
   "id": "73bbec41",
   "metadata": {},
   "outputs": [],
   "source": [
    "X_real = np.load('/home/gagan/data/zudeep/processed_files/r15y2_subsampled_200000_spect_chunks.npy')"
   ]
  },
  {
   "cell_type": "markdown",
   "id": "1e032394",
   "metadata": {},
   "source": [
    "# create network, generate samples"
   ]
  },
  {
   "cell_type": "code",
   "execution_count": 20,
   "id": "fab3190d",
   "metadata": {},
   "outputs": [],
   "source": [
    "netG = load_netG('/home/gagan/data/zudeep/models/nz_12_residual/2021-05-05_10-41-37.547480/netG_epoch_5.pth', nz=12, ngf=128, cuda=True, resnet=True)"
   ]
  },
  {
   "cell_type": "code",
   "execution_count": 114,
   "id": "4756f4f7",
   "metadata": {},
   "outputs": [
    {
     "data": {
      "text/plain": [
       "(200000, 12)"
      ]
     },
     "execution_count": 114,
     "metadata": {},
     "output_type": "execute_result"
    }
   ],
   "source": [
    "Z = 2.*np.random.randn(200000, 12)\n",
    "\n",
    "#Z = -10 + 20*np.random.rand(200000, 12)\n",
    "Z.shape"
   ]
  },
  {
   "cell_type": "code",
   "execution_count": 115,
   "id": "9e3d20be",
   "metadata": {},
   "outputs": [],
   "source": [
    "Xhat,_ = overlap_decode(Z, netG)"
   ]
  },
  {
   "cell_type": "code",
   "execution_count": 116,
   "id": "46a30930",
   "metadata": {},
   "outputs": [
    {
     "data": {
      "text/plain": [
       "(129, 3200000)"
      ]
     },
     "execution_count": 116,
     "metadata": {},
     "output_type": "execute_result"
    }
   ],
   "source": [
    "Xhat.shape"
   ]
  },
  {
   "cell_type": "code",
   "execution_count": 117,
   "id": "19c8b0f6",
   "metadata": {},
   "outputs": [
    {
     "data": {
      "text/plain": [
       "34"
      ]
     },
     "execution_count": 117,
     "metadata": {},
     "output_type": "execute_result"
    }
   ],
   "source": [
    "segs = segment_image(Xhat, width=16)\n",
    "Xhat = [np.ndarray.flatten(s) for s in segs]\n",
    "del segs\n",
    "gc.collect()"
   ]
  },
  {
   "cell_type": "code",
   "execution_count": 118,
   "id": "d1dd11b3",
   "metadata": {},
   "outputs": [],
   "source": [
    "Xhat = np.stack(Xhat,axis=0)"
   ]
  },
  {
   "cell_type": "code",
   "execution_count": 119,
   "id": "ebd9d033",
   "metadata": {},
   "outputs": [
    {
     "data": {
      "text/plain": [
       "(200000, 2064)"
      ]
     },
     "execution_count": 119,
     "metadata": {},
     "output_type": "execute_result"
    }
   ],
   "source": [
    "Xhat.shape"
   ]
  },
  {
   "cell_type": "markdown",
   "id": "c56a6d05",
   "metadata": {},
   "source": [
    "# project on umap"
   ]
  },
  {
   "cell_type": "code",
   "execution_count": 53,
   "id": "1f0ba752",
   "metadata": {},
   "outputs": [
    {
     "data": {
      "text/plain": [
       "15742"
      ]
     },
     "execution_count": 53,
     "metadata": {},
     "output_type": "execute_result"
    }
   ],
   "source": [
    "del X_real\n",
    "gc.collect()"
   ]
  },
  {
   "cell_type": "code",
   "execution_count": null,
   "id": "db237043",
   "metadata": {},
   "outputs": [],
   "source": []
  },
  {
   "cell_type": "code",
   "execution_count": 45,
   "id": "4f63d667",
   "metadata": {},
   "outputs": [],
   "source": [
    "from umap import UMAP"
   ]
  },
  {
   "cell_type": "code",
   "execution_count": 124,
   "id": "f9412070",
   "metadata": {},
   "outputs": [],
   "source": [
    "umaplearner = UMAP(n_neighbors=15, n_components=2, min_dist = 0.01)"
   ]
  },
  {
   "cell_type": "code",
   "execution_count": null,
   "id": "8d7b2f79",
   "metadata": {},
   "outputs": [],
   "source": [
    "xfake2 = umaplearner.fit_transform(Xhat)"
   ]
  },
  {
   "cell_type": "code",
   "execution_count": null,
   "id": "38df3ab6",
   "metadata": {},
   "outputs": [],
   "source": [
    "xreal2 = umaplearner.fit_transform(X_real)"
   ]
  },
  {
   "cell_type": "code",
   "execution_count": null,
   "id": "f4316f4c",
   "metadata": {},
   "outputs": [],
   "source": [
    "xreal2 = umaplearner.transform(X_real)"
   ]
  },
  {
   "cell_type": "code",
   "execution_count": 98,
   "id": "a1cc6794",
   "metadata": {},
   "outputs": [],
   "source": [
    "xfake2 = umaplearner.transform(Xhat)"
   ]
  },
  {
   "cell_type": "code",
   "execution_count": null,
   "id": "30d300cb",
   "metadata": {},
   "outputs": [],
   "source": [
    "plt.figure(figsize=(15,15))\n",
    "plt.scatter(xreal2[:,0], xreal2[:,1], s = 3)\n",
    "plt.scatter(xfake2[:,0], xfake2[:,1], s = 3, c = 'w', marker='o', edgecolors='r', alpha=0.3)\n",
    "plt.legend(['real', 'sampled'])\n",
    "#plt.savefig('/home/gagan/Dropbox/Work/MDGAN_paper/Figures_for_paper/Final_figures/Figure1/umap_nz12_netGsamples_Variance2_vs_realdata_r15y2_200000_subsampled.png', format='png', dpi=200)\n",
    "#plt.close()"
   ]
  },
  {
   "cell_type": "code",
   "execution_count": 107,
   "id": "1177637c",
   "metadata": {},
   "outputs": [],
   "source": [
    "import seaborn as sns"
   ]
  },
  {
   "cell_type": "code",
   "execution_count": 108,
   "id": "cb2caf62",
   "metadata": {},
   "outputs": [],
   "source": [
    "import pandas as pd"
   ]
  },
  {
   "cell_type": "code",
   "execution_count": 109,
   "id": "7630f1ac",
   "metadata": {},
   "outputs": [],
   "source": [
    "df_real = pd.DataFrame({'x1': xreal2[:,0], 'x2': xreal2[:,1]})\n",
    "df_fake = pd.DataFrame({'x1': xfake2[:,0], 'x2': xfake2[:,1]})\n"
   ]
  },
  {
   "cell_type": "code",
   "execution_count": null,
   "id": "50e9a970",
   "metadata": {},
   "outputs": [],
   "source": [
    "plt.figure(figsize=(15,15))\n",
    "sns.displot(df_real, x=\"x1\", y=\"x2\", kind=\"kde\")\n",
    "sns.displot(df_fake, x=\"x1\", y=\"x2\", kind=\"kde\")"
   ]
  },
  {
   "cell_type": "code",
   "execution_count": null,
   "id": "1b4f0343",
   "metadata": {},
   "outputs": [],
   "source": []
  }
 ],
 "metadata": {
  "kernelspec": {
   "display_name": "Python 3",
   "language": "python",
   "name": "python3"
  },
  "language_info": {
   "codemirror_mode": {
    "name": "ipython",
    "version": 3
   },
   "file_extension": ".py",
   "mimetype": "text/x-python",
   "name": "python",
   "nbconvert_exporter": "python",
   "pygments_lexer": "ipython3",
   "version": "3.8.8"
  }
 },
 "nbformat": 4,
 "nbformat_minor": 5
}
