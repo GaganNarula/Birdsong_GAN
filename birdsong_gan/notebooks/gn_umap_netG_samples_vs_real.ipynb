{
 "cells": [
  {
   "cell_type": "code",
   "execution_count": 1,
   "id": "frozen-situation",
   "metadata": {},
   "outputs": [],
   "source": [
    "%load_ext autoreload\n",
    "%autoreload 2"
   ]
  },
  {
   "cell_type": "code",
   "execution_count": 4,
   "id": "objective-accreditation",
   "metadata": {},
   "outputs": [],
   "source": [
    "import sys\n",
    "import os\n",
    "sys.path.append(os.pardir)\n",
    "\n",
    "import gc\n",
    "import joblib\n",
    "import pdb"
   ]
  },
  {
   "cell_type": "code",
   "execution_count": 6,
   "id": "catholic-federation",
   "metadata": {},
   "outputs": [],
   "source": [
    "import numpy as np\n",
    "import torch\n",
    "import umap"
   ]
  },
  {
   "cell_type": "code",
   "execution_count": 8,
   "id": "chronic-delicious",
   "metadata": {},
   "outputs": [],
   "source": [
    "import matplotlib.pyplot as plt\n",
    "plt.rcParams.update({'font.size':16})\n",
    "import seaborn as sns"
   ]
  },
  {
   "cell_type": "code",
   "execution_count": 9,
   "id": "compact-complex",
   "metadata": {},
   "outputs": [],
   "source": [
    "from data.dataset import bird_dataset_single_hdf"
   ]
  },
  {
   "cell_type": "code",
   "execution_count": 10,
   "id": "regular-finnish",
   "metadata": {},
   "outputs": [],
   "source": [
    "from utils.utils import load_netG, overlap_encode, overlap_decode, segment_image"
   ]
  },
  {
   "cell_type": "code",
   "execution_count": 22,
   "id": "incorporate-confirmation",
   "metadata": {},
   "outputs": [],
   "source": [
    "from hmmlearn.hmm import GaussianHMM"
   ]
  },
  {
   "cell_type": "code",
   "execution_count": 11,
   "id": "french-alignment",
   "metadata": {},
   "outputs": [],
   "source": [
    "from hmm.hmm_utils import generate_samples"
   ]
  },
  {
   "cell_type": "markdown",
   "id": "developmental-fiction",
   "metadata": {},
   "source": [
    "# load a bird, get its songs from some day"
   ]
  },
  {
   "cell_type": "code",
   "execution_count": 49,
   "id": "electronic-hands",
   "metadata": {},
   "outputs": [
    {
     "name": "stdout",
     "output_type": "stream",
     "text": [
      "... total number of folders for bird r15y5 = 41 ...\n"
     ]
    }
   ],
   "source": [
    "dataset = bird_dataset_single_hdf('/home/songbird/datapartition/all_birds.hdf', 'r15y5')"
   ]
  },
  {
   "cell_type": "code",
   "execution_count": 50,
   "id": "lyric-specialist",
   "metadata": {},
   "outputs": [],
   "source": [
    "# choose a day\n",
    "X = dataset.get(day=25, nsamps=-1)"
   ]
  },
  {
   "cell_type": "code",
   "execution_count": 51,
   "id": "analyzed-september",
   "metadata": {},
   "outputs": [
    {
     "data": {
      "text/plain": [
       "(129, 188)"
      ]
     },
     "execution_count": 51,
     "metadata": {},
     "output_type": "execute_result"
    }
   ],
   "source": [
    "X[0].shape"
   ]
  },
  {
   "cell_type": "markdown",
   "id": "listed-kernel",
   "metadata": {},
   "source": [
    "# flatten and stack these "
   ]
  },
  {
   "cell_type": "code",
   "execution_count": 52,
   "id": "honey-runner",
   "metadata": {},
   "outputs": [],
   "source": [
    "X_real = np.concatenate([x.T for x in X])"
   ]
  },
  {
   "cell_type": "code",
   "execution_count": 53,
   "id": "every-liverpool",
   "metadata": {},
   "outputs": [
    {
     "data": {
      "text/plain": [
       "(1033307, 129)"
      ]
     },
     "execution_count": 53,
     "metadata": {},
     "output_type": "execute_result"
    }
   ],
   "source": [
    "X_real.shape"
   ]
  },
  {
   "cell_type": "code",
   "execution_count": 20,
   "id": "victorian-enzyme",
   "metadata": {},
   "outputs": [
    {
     "data": {
      "text/plain": [
       "2807"
      ]
     },
     "execution_count": 20,
     "metadata": {},
     "output_type": "execute_result"
    }
   ],
   "source": [
    "gc.collect()"
   ]
  },
  {
   "cell_type": "markdown",
   "id": "labeled-proposal",
   "metadata": {},
   "source": [
    "# create network, generate samples"
   ]
  },
  {
   "cell_type": "code",
   "execution_count": 47,
   "id": "junior-trading",
   "metadata": {},
   "outputs": [],
   "source": [
    "netG = load_netG('/home/songbird/datapartition/mdgan_output/daily_gan/r15y5_nz12_alldaysnets/netG_epoch_60_day_all.pth',\n",
    "                 nz=12, ngf=128, cuda=True, resnet=True)"
   ]
  },
  {
   "cell_type": "code",
   "execution_count": 48,
   "id": "operating-tournament",
   "metadata": {},
   "outputs": [],
   "source": [
    "# load hmm\n",
    "hmm = joblib.load('/home/songbird/datapartition/mdgan_output/daily_gan/r15y5_nz12_alldaysnets/day_25/hmm_hiddensize_100/model_day_25.pkl')\n",
    "hmm = hmm['model']"
   ]
  },
  {
   "cell_type": "code",
   "execution_count": 54,
   "id": "unavailable-innocent",
   "metadata": {},
   "outputs": [],
   "source": [
    "timesteps_per_sample = [x.shape[1]//16 for x in X]\n"
   ]
  },
  {
   "cell_type": "code",
   "execution_count": 55,
   "id": "referenced-merit",
   "metadata": {},
   "outputs": [],
   "source": [
    "sample_seqs = generate_samples(netG, hmm, nsamples=len(X), invtemp=1., timesteps=timesteps_per_sample, cuda=True)"
   ]
  },
  {
   "cell_type": "code",
   "execution_count": 29,
   "id": "suspended-database",
   "metadata": {},
   "outputs": [
    {
     "data": {
      "text/plain": [
       "(129, 624)"
      ]
     },
     "execution_count": 29,
     "metadata": {},
     "output_type": "execute_result"
    }
   ],
   "source": [
    "sample_seqs[0].shape"
   ]
  },
  {
   "cell_type": "code",
   "execution_count": 56,
   "id": "electric-signature",
   "metadata": {},
   "outputs": [
    {
     "data": {
      "text/plain": [
       "(1013200, 129)"
      ]
     },
     "execution_count": 56,
     "metadata": {},
     "output_type": "execute_result"
    }
   ],
   "source": [
    "Z = np.concatenate([s.T for s in sample_seqs])\n",
    "Z.shape"
   ]
  },
  {
   "cell_type": "code",
   "execution_count": 114,
   "id": "regular-exclusion",
   "metadata": {},
   "outputs": [
    {
     "data": {
      "text/plain": [
       "(200000, 12)"
      ]
     },
     "execution_count": 114,
     "metadata": {},
     "output_type": "execute_result"
    }
   ],
   "source": [
    "Z = 2.*np.random.randn(200000, 12)\n",
    "\n",
    "#Z = -10 + 20*np.random.rand(200000, 12)\n",
    "Z.shape"
   ]
  },
  {
   "cell_type": "code",
   "execution_count": 115,
   "id": "collectible-extension",
   "metadata": {},
   "outputs": [],
   "source": [
    "Xhat,_ = overlap_decode(Z, netG)"
   ]
  },
  {
   "cell_type": "code",
   "execution_count": 116,
   "id": "alternate-aruba",
   "metadata": {},
   "outputs": [
    {
     "data": {
      "text/plain": [
       "(129, 3200000)"
      ]
     },
     "execution_count": 116,
     "metadata": {},
     "output_type": "execute_result"
    }
   ],
   "source": [
    "Xhat.shape"
   ]
  },
  {
   "cell_type": "code",
   "execution_count": 117,
   "id": "chronic-saturn",
   "metadata": {},
   "outputs": [
    {
     "data": {
      "text/plain": [
       "34"
      ]
     },
     "execution_count": 117,
     "metadata": {},
     "output_type": "execute_result"
    }
   ],
   "source": [
    "segs = segment_image(Xhat, width=16)\n",
    "Xhat = [np.ndarray.flatten(s) for s in segs]\n",
    "del segs\n",
    "gc.collect()"
   ]
  },
  {
   "cell_type": "code",
   "execution_count": 118,
   "id": "sized-luxembourg",
   "metadata": {},
   "outputs": [],
   "source": [
    "Xhat = np.stack(Xhat,axis=0)"
   ]
  },
  {
   "cell_type": "code",
   "execution_count": 119,
   "id": "disciplinary-party",
   "metadata": {},
   "outputs": [
    {
     "data": {
      "text/plain": [
       "(200000, 2064)"
      ]
     },
     "execution_count": 119,
     "metadata": {},
     "output_type": "execute_result"
    }
   ],
   "source": [
    "Xhat.shape"
   ]
  },
  {
   "cell_type": "markdown",
   "id": "immediate-ranking",
   "metadata": {},
   "source": [
    "# project on umap"
   ]
  },
  {
   "cell_type": "code",
   "execution_count": 53,
   "id": "secret-taylor",
   "metadata": {},
   "outputs": [
    {
     "data": {
      "text/plain": [
       "15742"
      ]
     },
     "execution_count": 53,
     "metadata": {},
     "output_type": "execute_result"
    }
   ],
   "source": [
    "del X_real\n",
    "gc.collect()"
   ]
  },
  {
   "cell_type": "code",
   "execution_count": 31,
   "id": "exclusive-combine",
   "metadata": {},
   "outputs": [],
   "source": [
    "from umap import UMAP"
   ]
  },
  {
   "cell_type": "code",
   "execution_count": 57,
   "id": "fatal-makeup",
   "metadata": {},
   "outputs": [],
   "source": [
    "umaplearner = UMAP(n_neighbors=15, n_components=2, min_dist = 0.01)"
   ]
  },
  {
   "cell_type": "code",
   "execution_count": 58,
   "id": "social-language",
   "metadata": {},
   "outputs": [],
   "source": [
    "xreal = umaplearner.fit_transform(X_real)"
   ]
  },
  {
   "cell_type": "code",
   "execution_count": 59,
   "id": "bearing-memory",
   "metadata": {},
   "outputs": [
    {
     "data": {
      "text/plain": [
       "(1033307, 2)"
      ]
     },
     "execution_count": 59,
     "metadata": {},
     "output_type": "execute_result"
    }
   ],
   "source": [
    "xreal.shape"
   ]
  },
  {
   "cell_type": "code",
   "execution_count": null,
   "id": "worst-mission",
   "metadata": {},
   "outputs": [],
   "source": [
    "xreal2 = umaplearner.transform(X_real)"
   ]
  },
  {
   "cell_type": "code",
   "execution_count": 60,
   "id": "pretty-envelope",
   "metadata": {},
   "outputs": [
    {
     "name": "stderr",
     "output_type": "stream",
     "text": [
      "/home/songbird/anaconda3/envs/pytorch_gpu/lib/python3.8/site-packages/scipy/sparse/_index.py:125: SparseEfficiencyWarning: Changing the sparsity structure of a csr_matrix is expensive. lil_matrix is more efficient.\n",
      "  self._set_arrayXarray(i, j, x)\n"
     ]
    }
   ],
   "source": [
    "xfake = umaplearner.transform(Z)"
   ]
  },
  {
   "cell_type": "code",
   "execution_count": 61,
   "id": "yellow-adventure",
   "metadata": {},
   "outputs": [
    {
     "data": {
      "text/plain": [
       "(1013200, 2)"
      ]
     },
     "execution_count": 61,
     "metadata": {},
     "output_type": "execute_result"
    }
   ],
   "source": [
    "xfake.shape"
   ]
  },
  {
   "cell_type": "code",
   "execution_count": 63,
   "id": "consolidated-forty",
   "metadata": {},
   "outputs": [],
   "source": [
    "plt.figure(figsize=(15,15))\n",
    "plt.scatter(xreal[:,0], xreal[:,1], s = 5, c = 'b', marker='.', )\n",
    "plt.scatter(xfake[:,0], xfake[:,1], s = 3, c = 'w', marker='o', edgecolors='r', alpha=0.1)\n",
    "plt.legend(['real', 'sampled'])\n",
    "#plt.show()\n",
    "plt.savefig('/home/songbird/Dropbox/Work/MDGAN_paper/Figures_for_paper/Final_figures/Figure2/r15y5_umap_nz12_day25_hmm100_vs_real.jpg',\n",
    "            format='jpg', dpi=200)\n",
    "plt.close()"
   ]
  },
  {
   "cell_type": "code",
   "execution_count": null,
   "id": "going-regulation",
   "metadata": {},
   "outputs": [],
   "source": [
    "'/home/songbird/Dropbox/'"
   ]
  },
  {
   "cell_type": "code",
   "execution_count": 107,
   "id": "christian-preservation",
   "metadata": {},
   "outputs": [],
   "source": [
    "import seaborn as sns"
   ]
  },
  {
   "cell_type": "code",
   "execution_count": 108,
   "id": "considerable-earthquake",
   "metadata": {},
   "outputs": [],
   "source": [
    "import pandas as pd"
   ]
  },
  {
   "cell_type": "code",
   "execution_count": 109,
   "id": "threaded-license",
   "metadata": {},
   "outputs": [],
   "source": [
    "df_real = pd.DataFrame({'x1': xreal2[:,0], 'x2': xreal2[:,1]})\n",
    "df_fake = pd.DataFrame({'x1': xfake2[:,0], 'x2': xfake2[:,1]})\n"
   ]
  },
  {
   "cell_type": "code",
   "execution_count": null,
   "id": "authorized-contamination",
   "metadata": {},
   "outputs": [],
   "source": [
    "plt.figure(figsize=(15,15))\n",
    "sns.displot(df_real, x=\"x1\", y=\"x2\", kind=\"kde\")\n",
    "sns.displot(df_fake, x=\"x1\", y=\"x2\", kind=\"kde\")"
   ]
  },
  {
   "cell_type": "code",
   "execution_count": null,
   "id": "direct-thread",
   "metadata": {},
   "outputs": [],
   "source": []
  }
 ],
 "metadata": {
  "kernelspec": {
   "display_name": "Python 3",
   "language": "python",
   "name": "python3"
  },
  "language_info": {
   "codemirror_mode": {
    "name": "ipython",
    "version": 3
   },
   "file_extension": ".py",
   "mimetype": "text/x-python",
   "name": "python",
   "nbconvert_exporter": "python",
   "pygments_lexer": "ipython3",
   "version": "3.8.8"
  }
 },
 "nbformat": 4,
 "nbformat_minor": 5
}
