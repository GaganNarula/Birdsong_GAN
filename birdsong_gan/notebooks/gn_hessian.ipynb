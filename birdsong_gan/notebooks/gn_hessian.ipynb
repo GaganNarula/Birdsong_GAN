{
 "cells": [
  {
   "cell_type": "code",
   "execution_count": 1,
   "id": "egyptian-vacation",
   "metadata": {},
   "outputs": [],
   "source": [
    "%load_ext autoreload\n",
    "%autoreload 2\n",
    "\n",
    "import sys\n",
    "import os\n",
    "sys.path.append(os.pardir)\n",
    "\n",
    "import matplotlib.pyplot as plt\n",
    "%matplotlib inline"
   ]
  },
  {
   "cell_type": "code",
   "execution_count": 27,
   "id": "clinical-columbia",
   "metadata": {},
   "outputs": [],
   "source": [
    "from hmm.hessian import *"
   ]
  },
  {
   "cell_type": "code",
   "execution_count": 3,
   "id": "retained-wallpaper",
   "metadata": {},
   "outputs": [],
   "source": [
    "from hmm.hmm import HMM\n",
    "from hmm.gaussian_hmm import GaussHMM"
   ]
  },
  {
   "cell_type": "markdown",
   "id": "regional-accounting",
   "metadata": {},
   "source": [
    "# make a fake model"
   ]
  },
  {
   "cell_type": "code",
   "execution_count": 22,
   "id": "studied-concept",
   "metadata": {},
   "outputs": [],
   "source": [
    "model = GaussHMM(K = 2, D = 2)"
   ]
  },
  {
   "cell_type": "code",
   "execution_count": 23,
   "id": "genuine-fence",
   "metadata": {},
   "outputs": [],
   "source": [
    "model.means = np.array([ [-1., 1.], [1., 1.] ])\n",
    "model.covs = np.stack([0.5*np.eye(2) for _ in range(2)])\n"
   ]
  },
  {
   "cell_type": "markdown",
   "id": "healthy-pointer",
   "metadata": {},
   "source": [
    "make fake 2-D data"
   ]
  },
  {
   "cell_type": "code",
   "execution_count": 25,
   "id": "caring-sound",
   "metadata": {},
   "outputs": [
    {
     "data": {
      "text/plain": [
       "(50, 2)"
      ]
     },
     "execution_count": 25,
     "metadata": {},
     "output_type": "execute_result"
    }
   ],
   "source": [
    "h,z = model.sample(50)\n",
    "z.shape"
   ]
  },
  {
   "cell_type": "code",
   "execution_count": null,
   "id": "premium-favorite",
   "metadata": {},
   "outputs": [],
   "source": [
    "# get loglikelihood\n",
    "model.score(z)"
   ]
  },
  {
   "cell_type": "markdown",
   "id": "moved-recall",
   "metadata": {},
   "source": [
    "# load a learned model"
   ]
  },
  {
   "cell_type": "code",
   "execution_count": 4,
   "id": "modular-zoning",
   "metadata": {},
   "outputs": [],
   "source": [
    "path_to_model = '/home/songbird/datapartition/mdgan_output/daily_gan/p20r16_nz12_alldaysnets/day_17/hmm_hiddensize_12/model_day_17.pkl'"
   ]
  },
  {
   "cell_type": "code",
   "execution_count": 5,
   "id": "comfortable-vegetarian",
   "metadata": {},
   "outputs": [],
   "source": [
    "mm = joblib.load(path_to_model)"
   ]
  },
  {
   "cell_type": "code",
   "execution_count": 6,
   "id": "sharing-integral",
   "metadata": {},
   "outputs": [],
   "source": [
    "model = mm['model']"
   ]
  },
  {
   "cell_type": "code",
   "execution_count": 15,
   "id": "alternative-dominican",
   "metadata": {},
   "outputs": [],
   "source": [
    "path_to_data = '/home/songbird/datapartition/mdgan_output/daily_gan/p20r16_nz12_alldaysnets/day_17/hmm_hiddensize_12/data_and_scores_day_17.pkl'"
   ]
  },
  {
   "cell_type": "code",
   "execution_count": 16,
   "id": "combined-cyprus",
   "metadata": {},
   "outputs": [],
   "source": [
    "data = joblib.load(path_to_data)"
   ]
  },
  {
   "cell_type": "code",
   "execution_count": 17,
   "id": "physical-conversation",
   "metadata": {},
   "outputs": [
    {
     "data": {
      "text/plain": [
       "907"
      ]
     },
     "execution_count": 17,
     "metadata": {},
     "output_type": "execute_result"
    }
   ],
   "source": [
    "traindata = data['ztrain']\n",
    "len(traindata)"
   ]
  },
  {
   "cell_type": "code",
   "execution_count": 18,
   "id": "completed-income",
   "metadata": {},
   "outputs": [
    {
     "data": {
      "text/plain": [
       "(12, 12, 12)"
      ]
     },
     "execution_count": 18,
     "metadata": {},
     "output_type": "execute_result"
    }
   ],
   "source": [
    "CC = model.covars_\n",
    "CC.shape"
   ]
  },
  {
   "cell_type": "markdown",
   "id": "driven-controversy",
   "metadata": {},
   "source": [
    "# prepare the parameters"
   ]
  },
  {
   "cell_type": "code",
   "execution_count": 7,
   "id": "prospective-barcelona",
   "metadata": {},
   "outputs": [],
   "source": [
    "CUDA=True"
   ]
  },
  {
   "cell_type": "code",
   "execution_count": 9,
   "id": "iraqi-february",
   "metadata": {},
   "outputs": [
    {
     "name": "stdout",
     "output_type": "stream",
     "text": [
      "431\n"
     ]
    }
   ],
   "source": [
    "params = {}\n",
    "params['means'] = model.means_\n",
    "params['covars'] = np.squeeze(model.covars_)\n",
    "params['transmat'] = model.transmat_\n",
    "params['start_prob'] = model.startprob_\n",
    "\n",
    "mu, varss, A, pi, B, _ = prepare_params_no_redundant(params)\n",
    "#varss = cov[:,0,0]\n",
    "\n",
    "if CUDA:\n",
    "    mu = mu.cuda()\n",
    "    varss = varss.cuda()\n",
    "    A  = A.cuda()\n",
    "    pi = pi.cuda()\n",
    "    B = B.cuda()\n",
    "\n",
    "ndim = mu.shape[-1]\n",
    "nstates = mu.shape[0]\n",
    "totparams = ndim*nstates + nstates*ndim + (nstates*(nstates-1)) + (nstates-1)\n",
    "print(totparams)"
   ]
  },
  {
   "cell_type": "markdown",
   "id": "atlantic-beverage",
   "metadata": {},
   "source": [
    "# check transition matrices for zeros"
   ]
  },
  {
   "cell_type": "code",
   "execution_count": 10,
   "id": "objective-network",
   "metadata": {},
   "outputs": [
    {
     "data": {
      "text/plain": [
       "1.0"
      ]
     },
     "execution_count": 10,
     "metadata": {},
     "output_type": "execute_result"
    }
   ],
   "source": [
    "model.transmat_prior"
   ]
  },
  {
   "cell_type": "code",
   "execution_count": 11,
   "id": "knowing-quebec",
   "metadata": {},
   "outputs": [],
   "source": [
    "TT = model.transmat_"
   ]
  },
  {
   "cell_type": "code",
   "execution_count": 12,
   "id": "retired-french",
   "metadata": {},
   "outputs": [
    {
     "data": {
      "text/plain": [
       "(12, 12)"
      ]
     },
     "execution_count": 12,
     "metadata": {},
     "output_type": "execute_result"
    }
   ],
   "source": [
    "TT.shape"
   ]
  },
  {
   "cell_type": "code",
   "execution_count": 13,
   "id": "israeli-pickup",
   "metadata": {},
   "outputs": [
    {
     "data": {
      "text/plain": [
       "<matplotlib.image.AxesImage at 0x7fd910031c10>"
      ]
     },
     "execution_count": 13,
     "metadata": {},
     "output_type": "execute_result"
    },
    {
     "data": {
      "image/png": "[encoded data removed]",
      "text/plain": [
       "<Figure size 432x288 with 1 Axes>"
      ]
     },
     "metadata": {
      "needs_background": "light"
     },
     "output_type": "display_data"
    }
   ],
   "source": [
    "plt.imshow(TT)"
   ]
  },
  {
   "cell_type": "code",
   "execution_count": 31,
   "id": "sensitive-ecology",
   "metadata": {},
   "outputs": [
    {
     "data": {
      "text/plain": [
       "1.0"
      ]
     },
     "execution_count": 31,
     "metadata": {},
     "output_type": "execute_result"
    }
   ],
   "source": [
    "model.startprob_prior"
   ]
  },
  {
   "cell_type": "code",
   "execution_count": 14,
   "id": "social-adoption",
   "metadata": {},
   "outputs": [
    {
     "data": {
      "text/plain": [
       "[<matplotlib.lines.Line2D at 0x7fd901fd2430>]"
      ]
     },
     "execution_count": 14,
     "metadata": {},
     "output_type": "execute_result"
    },
    {
     "data": {
      "image/png": "[encoded data removed]",
      "text/plain": [
       "<Figure size 432x288 with 1 Axes>"
      ]
     },
     "metadata": {
      "needs_background": "light"
     },
     "output_type": "display_data"
    }
   ],
   "source": [
    "PI = model.startprob_\n",
    "plt.plot(PI, '-db')"
   ]
  },
  {
   "cell_type": "markdown",
   "id": "accepting-correlation",
   "metadata": {},
   "source": [
    "# check hmmlearn likelihood to own function"
   ]
  },
  {
   "cell_type": "code",
   "execution_count": 21,
   "id": "veterinary-letters",
   "metadata": {},
   "outputs": [
    {
     "data": {
      "text/plain": [
       "0.9999087084754078"
      ]
     },
     "execution_count": 21,
     "metadata": {},
     "output_type": "execute_result"
    }
   ],
   "source": [
    "model.startprob_.sum()"
   ]
  },
  {
   "cell_type": "code",
   "execution_count": 37,
   "id": "sporting-western",
   "metadata": {},
   "outputs": [
    {
     "data": {
      "text/plain": [
       "True"
      ]
     },
     "execution_count": 37,
     "metadata": {},
     "output_type": "execute_result"
    }
   ],
   "source": [
    "isinstance(A, torch.Tensor)"
   ]
  },
  {
   "cell_type": "code",
   "execution_count": 22,
   "id": "instrumental-database",
   "metadata": {},
   "outputs": [
    {
     "data": {
      "text/plain": [
       "(36, 12)"
      ]
     },
     "execution_count": 22,
     "metadata": {},
     "output_type": "execute_result"
    }
   ],
   "source": [
    "traindata[50].shape"
   ]
  },
  {
   "cell_type": "code",
   "execution_count": 26,
   "id": "driven-purpose",
   "metadata": {},
   "outputs": [
    {
     "data": {
      "text/plain": [
       "torch.Size([12, 12, 12])"
      ]
     },
     "execution_count": 26,
     "metadata": {},
     "output_type": "execute_result"
    }
   ],
   "source": [
    "varss.shape"
   ]
  },
  {
   "cell_type": "code",
   "execution_count": 29,
   "id": "available-sleep",
   "metadata": {},
   "outputs": [
    {
     "data": {
      "text/plain": [
       "tensor(-103.0724, device='cuda:0', grad_fn=<SumBackward0>)"
      ]
     },
     "execution_count": 29,
     "metadata": {},
     "output_type": "execute_result"
    }
   ],
   "source": [
    "logLLcalculation_scaled_noredudantA(traindata[50], mu, varss, A, pi, B, T = traindata[50].shape[0], cuda=True)"
   ]
  },
  {
   "cell_type": "markdown",
   "id": "cultural-wrong",
   "metadata": {},
   "source": [
    "# get hessian"
   ]
  },
  {
   "cell_type": "code",
   "execution_count": 30,
   "id": "electronic-sunset",
   "metadata": {},
   "outputs": [],
   "source": [
    "# subsample the data\n",
    "ids = np.random.choice(len(traindata), size=10, replace=False)\n",
    "zt = [traindata[i] for i in ids]"
   ]
  },
  {
   "cell_type": "code",
   "execution_count": 40,
   "id": "painted-promise",
   "metadata": {},
   "outputs": [
    {
     "data": {
      "text/plain": [
       "10"
      ]
     },
     "execution_count": 40,
     "metadata": {},
     "output_type": "execute_result"
    }
   ],
   "source": [
    "len(zt)"
   ]
  },
  {
   "cell_type": "code",
   "execution_count": null,
   "id": "running-consequence",
   "metadata": {},
   "outputs": [],
   "source": [
    "\n",
    "# get hessian\n",
    "print('...... computing Hessian over %d sequences ......'%(len(zt)))\n",
    "\n",
    "Htotal = np.zeros((totparams, totparams))\n",
    "\n",
    "for i, z in enumerate(zt):\n",
    "    \n",
    "    H = compute_hessian(mu, varss, A, pi, B, z, cuda=CUDA)\n",
    "    \n",
    "    if np.sum(np.isnan(H))>0.:\n",
    "        continue\n",
    "        \n",
    "    Htotal += H \n",
    "    print('# done with %d / %d seqs # '%(i,len(zt)))\n",
    "\n",
    "\n",
    "Hdet = np.linalg.det(Htotal)\n",
    "\n",
    "if Hdet == 0.:\n",
    "    # it shouldn't be zero\n",
    "    pdb.set_trace()\n",
    "\n",
    "# loglikelihood\n",
    "LL =  model.score(np.concatenate(traindata), [len(t) for t in traindata])\n",
    "# BIC\n",
    "BIC = -2*LL + np.log(Hdet)"
   ]
  },
  {
   "cell_type": "code",
   "execution_count": 37,
   "id": "raised-manner",
   "metadata": {},
   "outputs": [
    {
     "data": {
      "text/plain": [
       "'a'"
      ]
     },
     "execution_count": 37,
     "metadata": {},
     "output_type": "execute_result"
    }
   ],
   "source": [
    "'a'"
   ]
  },
  {
   "cell_type": "code",
   "execution_count": 42,
   "id": "appointed-windows",
   "metadata": {},
   "outputs": [],
   "source": [
    "\n",
    "def create_hess_mat_diagvar_symm_noredundant(H, ndim = 16, nstates = 5):\n",
    "    \n",
    "    totparams = ndim*nstates + nstates*ndim + (nstates*(nstates-1)) + (nstates-1)\n",
    "    Hess = np.zeros((totparams,totparams))\n",
    "    row = 0\n",
    "    row_start = 0\n",
    "    col1 = 0\n",
    "    \n",
    "    ##### NOW COV #####f\n",
    "    # covs vs means\n",
    "    Hcov = H[1]\n",
    "    pdb.set_trace()\n",
    "    for k in range(nstates):\n",
    "        \n",
    "        for j in range(ndim):\n",
    "            \n",
    "            x = Hcov[0][k,j].flatten() # vectorized\n",
    "            col2 = col1 + len(x)\n",
    "            Hess[row, col1:col2] = x.detach().cpu().numpy()\n",
    "            \n",
    "            row += 1\n",
    "            \n",
    "    col1 = col2*1\n",
    "    row = row_start*1\n",
    "    \n",
    "    # covs vs covs\n",
    "    for k in range(nstates):\n",
    "        for j in range(ndim):\n",
    "            \n",
    "            x = Hcov[1][k,j].flatten()\n",
    "            col2 = col1 + len(x)\n",
    "            Hess[row, col1:col2] = x.detach().cpu().numpy()\n",
    "            row += 1\n",
    "            \n",
    "    col1 = col2*1\n",
    "    row = row_start*1\n",
    "    \n",
    "    # covs vs A\n",
    "    for k in range(nstates):\n",
    "        for j in range(ndim):\n",
    "            \n",
    "            x = Hcov[2][k,j].flatten() # vectorized matrix\n",
    "            col2 = col1 + len(x)\n",
    "            Hess[row, col1:col2] = x.detach().cpu().numpy()\n",
    "            row += 1\n",
    "            \n",
    "    col1 = col2*1\n",
    "    row = row_start*1\n",
    "    \n",
    "    # covs vs pi\n",
    "    for k in range(nstates):\n",
    "        for j in range(ndim):\n",
    "            \n",
    "            x = Hcov[3][k,j].flatten() # vectorized matrix\n",
    "            col2 = col1 + len(x)\n",
    "            Hess[row, col1:col2] = x.detach().cpu().numpy()\n",
    "            row += 1\n",
    "\n",
    "    col1 = 0\n",
    "    row = row_start*1\n",
    "    row += nstates\n",
    "    row_start = row*1\n",
    "    \n",
    "    \n",
    "    ### now do means\n",
    "    \n",
    "    Hmu = H[0]\n",
    "    # means vs means\n",
    "    for k in range(nstates):\n",
    "        for j in range(ndim):\n",
    "            x = Hmu[0][k,j].flatten() # vectorized matrix\n",
    "            col2 = col1 + len(x)\n",
    "            Hess[row, col1:col2] = x.detach().cpu().numpy()\n",
    "            row += 1\n",
    "    col1 = col2*1\n",
    "    row = row_start*1\n",
    "    \n",
    "    # means vs covs\n",
    "    for k in range(nstates):\n",
    "        for j in range(ndim):\n",
    "            x = Hmu[1][k,j].flatten() # need to flatten\n",
    "            col2 = col1 + len(x)\n",
    "            Hess[row, col1:col2] = x.detach().cpu().numpy()\n",
    "            row += 1\n",
    "    col1 = col2*1\n",
    "    row = row_start*1\n",
    "    \n",
    "    # means vs A\n",
    "    for k in range(nstates):\n",
    "        for j in range(ndim):\n",
    "            x = Hmu[2][k,j].flatten() # vectorized matrix\n",
    "            col2 = col1 + len(x)\n",
    "            Hess[row, col1:col2] = x.detach().cpu().numpy()\n",
    "            row += 1\n",
    "    col1 = col2*1\n",
    "    row = row_start*1\n",
    "    \n",
    "    # means vs pi\n",
    "    for k in range(nstates):\n",
    "        for j in range(ndim):\n",
    "            x = Hmu[3][k,j].flatten() # vectorized matrix\n",
    "            col2 = col1 + len(x)\n",
    "            Hess[row, col1:col2] = x.detach().cpu().numpy()\n",
    "            row += 1\n",
    "    row = row_start*1\n",
    "    row += ndim*nstates\n",
    "    row_start = row*1\n",
    "    col1 = 0\n",
    "    \n",
    "    \n",
    "    #### NOW DO A ####\n",
    "    HA = H[2]\n",
    "    # A vs means\n",
    "    for k in range(nstates):\n",
    "        for j in range(nstates-1):\n",
    "            x = HA[0][k,j].flatten() # vectorized matrix\n",
    "            col2 = col1 + len(x)\n",
    "            Hess[row, col1:col2] = x.detach().cpu().numpy()\n",
    "            row += 1\n",
    "    col1 = col2*1\n",
    "    row = row_start*1\n",
    "    \n",
    "    # A vs covs\n",
    "    for k in range(nstates):\n",
    "        for j in range(nstates-1):\n",
    "            x = HA[1][k,j] # vectorized matrix\n",
    "            col2 = col1 + len(x)\n",
    "            Hess[row, col1:col2] = x.detach().cpu().numpy()\n",
    "            row += 1\n",
    "    col1 = col2*1\n",
    "    row = row_start*1\n",
    "    \n",
    "    # A vs A\n",
    "    for k in range(nstates):\n",
    "        for j in range(nstates-1):\n",
    "            x = HA[2][k,j].flatten() # vectorized matrix\n",
    "            col2 = col1 + len(x)\n",
    "            Hess[row, col1:col2] = x.detach().cpu().numpy()\n",
    "            row += 1\n",
    "    col1 = col2*1\n",
    "    row = row_start*1\n",
    "    \n",
    "    # A vs pi\n",
    "    for k in range(nstates):\n",
    "        for j in range(nstates-1):\n",
    "            x = HA[3][k,j].flatten() # vectorized matrix\n",
    "            col2 = col1 + len(x)\n",
    "            Hess[row, col1:col2] = x.detach().cpu().numpy()\n",
    "            row += 1\n",
    "    \n",
    "    col1 = 0\n",
    "    row = row_start*1\n",
    "    row += nstates*(nstates-1)\n",
    "    row_start = row*1\n",
    "    \n",
    "    #### NOW DO pi ####\n",
    "    Hpi = H[3]\n",
    "    # pi vs means\n",
    "    for k in range(nstates-1):\n",
    "        x = Hpi[0][k].flatten() # vectorized matrix\n",
    "        col2 = col1 + len(x)\n",
    "        Hess[row, col1:col2] = x.detach().numpy()\n",
    "        row += 1\n",
    "    col1 = col2*1\n",
    "    row = row_start*1\n",
    "    \n",
    "    # pi vs covs\n",
    "    for k in range(nstates-1):\n",
    "        x = Hpi[1][k].flatten() # vectorized matrix\n",
    "        col2 = col1 + len(x)\n",
    "        Hess[row, col1:col2] = x.detach().numpy()\n",
    "        row += 1\n",
    "    col1 = col2*1\n",
    "    row = row_start*1\n",
    "    \n",
    "    # pi vs A\n",
    "    for k in range(nstates-1):\n",
    "        x = Hpi[2][k].flatten() # vectorized matrix\n",
    "        col2 = col1 + len(x)\n",
    "        Hess[row, col1:col2] = x.detach().numpy()\n",
    "        row += 1\n",
    "    col1 = col2*1\n",
    "    row = row_start*1\n",
    "    \n",
    "    # pi vs pi\n",
    "    for k in range(nstates-1):\n",
    "        x = Hpi[3][k] # already vector\n",
    "        col2 = col1 + len(x)\n",
    "        Hess[row, col1:col2] = x.detach().numpy()\n",
    "        row += 1\n",
    "        \n",
    "    # take only upper triangle\n",
    "    #HH = np.zeros_like(Hess)\n",
    "    #HH = np.triu(Hess)\n",
    "    #Hess = HH + np.triu(Hess,k=1).T\n",
    "    return Hess"
   ]
  },
  {
   "cell_type": "code",
   "execution_count": 41,
   "id": "least-leisure",
   "metadata": {},
   "outputs": [],
   "source": [
    "def compute_hessian(mu, varss, A, pi, B, data, cuda=False):\n",
    "    \n",
    "    data = torch.from_numpy(data).float()\n",
    "    data.requires_grad = False\n",
    "    if cuda:\n",
    "        data = data.cuda()\n",
    "    H = torch.autograd.functional.hessian(lambda x1,x2,x3,x4: logLLcalculation_scaled_noredudantA(data,x1,x2,x3,x4,B,\n",
    "                                                                                                  T=data.shape[0],\n",
    "                                                                                                 cuda=cuda), \n",
    "                                      (mu,varss,A,pi), create_graph=False, strict=True)\n",
    "    \n",
    "    return create_hess_mat_diagvar_symm_noredundant(H, data.shape[-1], mu.shape[0]) "
   ]
  },
  {
   "cell_type": "code",
   "execution_count": null,
   "id": "hydraulic-pleasure",
   "metadata": {},
   "outputs": [],
   "source": []
  }
 ],
 "metadata": {
  "kernelspec": {
   "display_name": "Python 3",
   "language": "python",
   "name": "python3"
  },
  "language_info": {
   "codemirror_mode": {
    "name": "ipython",
    "version": 3
   },
   "file_extension": ".py",
   "mimetype": "text/x-python",
   "name": "python",
   "nbconvert_exporter": "python",
   "pygments_lexer": "ipython3",
   "version": "3.8.8"
  }
 },
 "nbformat": 4,
 "nbformat_minor": 5
}
