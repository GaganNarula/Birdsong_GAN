{
 "cells": [
  {
   "cell_type": "code",
   "execution_count": 1,
   "id": "2ba2ec14",
   "metadata": {},
   "outputs": [],
   "source": [
    "%load_ext autoreload\n",
    "%autoreload 2\n",
    "\n",
    "import sys\n",
    "import os\n",
    "sys.path.append(os.pardir)\n",
    "\n",
    "import matplotlib.pyplot as plt\n",
    "%matplotlib inline"
   ]
  },
  {
   "cell_type": "code",
   "execution_count": 2,
   "id": "0ea2cc9b",
   "metadata": {},
   "outputs": [],
   "source": [
    "from hmm.hessian import *"
   ]
  },
  {
   "cell_type": "code",
   "execution_count": 3,
   "id": "824d3af2",
   "metadata": {},
   "outputs": [],
   "source": [
    "from hmm.hmm import HMM\n",
    "from hmm.gaussian_hmm import GaussHMM"
   ]
  },
  {
   "cell_type": "markdown",
   "id": "49d80d1c",
   "metadata": {},
   "source": [
    "# make a fake model"
   ]
  },
  {
   "cell_type": "code",
   "execution_count": 22,
   "id": "49df472c",
   "metadata": {},
   "outputs": [],
   "source": [
    "model = GaussHMM(K = 2, D = 2)"
   ]
  },
  {
   "cell_type": "code",
   "execution_count": 23,
   "id": "dc39dbe7",
   "metadata": {},
   "outputs": [],
   "source": [
    "model.means = np.array([ [-1., 1.], [1., 1.] ])\n",
    "model.covs = np.stack([0.5*np.eye(2) for _ in range(2)])\n"
   ]
  },
  {
   "cell_type": "markdown",
   "id": "615bebb9",
   "metadata": {},
   "source": [
    "make fake 2-D data"
   ]
  },
  {
   "cell_type": "code",
   "execution_count": 25,
   "id": "4c72436e",
   "metadata": {},
   "outputs": [
    {
     "data": {
      "text/plain": [
       "(50, 2)"
      ]
     },
     "execution_count": 25,
     "metadata": {},
     "output_type": "execute_result"
    }
   ],
   "source": [
    "h,z = model.sample(50)\n",
    "z.shape"
   ]
  },
  {
   "cell_type": "code",
   "execution_count": 30,
   "id": "bfe66651",
   "metadata": {},
   "outputs": [
    {
     "ename": "IndexError",
     "evalue": "tuple index out of range",
     "output_type": "error",
     "traceback": [
      "\u001b[0;31m---------------------------------------------------------------------------\u001b[0m",
      "\u001b[0;31mIndexError\u001b[0m                                Traceback (most recent call last)",
      "\u001b[0;32m<ipython-input-30-c48a80519afd>\u001b[0m in \u001b[0;36m<module>\u001b[0;34m\u001b[0m\n\u001b[1;32m      1\u001b[0m \u001b[0;31m# get loglikelihood\u001b[0m\u001b[0;34m\u001b[0m\u001b[0;34m\u001b[0m\u001b[0;34m\u001b[0m\u001b[0m\n\u001b[0;32m----> 2\u001b[0;31m \u001b[0mmodel\u001b[0m\u001b[0;34m.\u001b[0m\u001b[0mscore\u001b[0m\u001b[0;34m(\u001b[0m\u001b[0mz\u001b[0m\u001b[0;34m)\u001b[0m\u001b[0;34m\u001b[0m\u001b[0;34m\u001b[0m\u001b[0m\n\u001b[0m",
      "\u001b[0;32m~/code/birdsong_gan/birdsong_gan/hmm/gaussian_hmm.py\u001b[0m in \u001b[0;36mscore\u001b[0;34m(self, seqs)\u001b[0m\n\u001b[1;32m    250\u001b[0m         \"\"\" Compute loglikelihood with forward recursion for a list of sequences. \n\u001b[1;32m    251\u001b[0m         \"\"\"\n\u001b[0;32m--> 252\u001b[0;31m         \u001b[0mLL\u001b[0m \u001b[0;34m=\u001b[0m  \u001b[0;34m[\u001b[0m\u001b[0mself\u001b[0m\u001b[0;34m.\u001b[0m\u001b[0mforward_recursion_rescaled\u001b[0m\u001b[0;34m(\u001b[0m\u001b[0mx\u001b[0m\u001b[0;34m)\u001b[0m\u001b[0;34m[\u001b[0m\u001b[0;36m1\u001b[0m\u001b[0;34m]\u001b[0m \u001b[0;32mfor\u001b[0m \u001b[0mx\u001b[0m \u001b[0;32min\u001b[0m \u001b[0mseqs\u001b[0m\u001b[0;34m]\u001b[0m\u001b[0;34m\u001b[0m\u001b[0;34m\u001b[0m\u001b[0m\n\u001b[0m\u001b[1;32m    253\u001b[0m         \u001b[0;32mreturn\u001b[0m \u001b[0mnp\u001b[0m\u001b[0;34m.\u001b[0m\u001b[0msum\u001b[0m\u001b[0;34m(\u001b[0m\u001b[0mLL\u001b[0m\u001b[0;34m)\u001b[0m\u001b[0;34m\u001b[0m\u001b[0;34m\u001b[0m\u001b[0m\n\u001b[1;32m    254\u001b[0m \u001b[0;34m\u001b[0m\u001b[0m\n",
      "\u001b[0;32m~/code/birdsong_gan/birdsong_gan/hmm/gaussian_hmm.py\u001b[0m in \u001b[0;36m<listcomp>\u001b[0;34m(.0)\u001b[0m\n\u001b[1;32m    250\u001b[0m         \"\"\" Compute loglikelihood with forward recursion for a list of sequences. \n\u001b[1;32m    251\u001b[0m         \"\"\"\n\u001b[0;32m--> 252\u001b[0;31m         \u001b[0mLL\u001b[0m \u001b[0;34m=\u001b[0m  \u001b[0;34m[\u001b[0m\u001b[0mself\u001b[0m\u001b[0;34m.\u001b[0m\u001b[0mforward_recursion_rescaled\u001b[0m\u001b[0;34m(\u001b[0m\u001b[0mx\u001b[0m\u001b[0;34m)\u001b[0m\u001b[0;34m[\u001b[0m\u001b[0;36m1\u001b[0m\u001b[0;34m]\u001b[0m \u001b[0;32mfor\u001b[0m \u001b[0mx\u001b[0m \u001b[0;32min\u001b[0m \u001b[0mseqs\u001b[0m\u001b[0;34m]\u001b[0m\u001b[0;34m\u001b[0m\u001b[0;34m\u001b[0m\u001b[0m\n\u001b[0m\u001b[1;32m    253\u001b[0m         \u001b[0;32mreturn\u001b[0m \u001b[0mnp\u001b[0m\u001b[0;34m.\u001b[0m\u001b[0msum\u001b[0m\u001b[0;34m(\u001b[0m\u001b[0mLL\u001b[0m\u001b[0;34m)\u001b[0m\u001b[0;34m\u001b[0m\u001b[0;34m\u001b[0m\u001b[0m\n\u001b[1;32m    254\u001b[0m \u001b[0;34m\u001b[0m\u001b[0m\n",
      "\u001b[0;32m~/code/birdsong_gan/birdsong_gan/hmm/gaussian_hmm.py\u001b[0m in \u001b[0;36mforward_recursion_rescaled\u001b[0;34m(self, x)\u001b[0m\n\u001b[1;32m    123\u001b[0m     \u001b[0;32mdef\u001b[0m \u001b[0mforward_recursion_rescaled\u001b[0m\u001b[0;34m(\u001b[0m\u001b[0mself\u001b[0m\u001b[0;34m,\u001b[0m \u001b[0mx\u001b[0m\u001b[0;34m)\u001b[0m\u001b[0;34m:\u001b[0m\u001b[0;34m\u001b[0m\u001b[0;34m\u001b[0m\u001b[0m\n\u001b[1;32m    124\u001b[0m         \u001b[0;34m\"Forward recursion in log space \"\u001b[0m\u001b[0;34m\u001b[0m\u001b[0;34m\u001b[0m\u001b[0m\n\u001b[0;32m--> 125\u001b[0;31m         \u001b[0mself\u001b[0m\u001b[0;34m.\u001b[0m\u001b[0mD\u001b[0m \u001b[0;34m=\u001b[0m \u001b[0mx\u001b[0m\u001b[0;34m.\u001b[0m\u001b[0mshape\u001b[0m\u001b[0;34m[\u001b[0m\u001b[0;36m1\u001b[0m\u001b[0;34m]\u001b[0m\u001b[0;34m\u001b[0m\u001b[0;34m\u001b[0m\u001b[0m\n\u001b[0m\u001b[1;32m    126\u001b[0m         \u001b[0mself\u001b[0m\u001b[0;34m.\u001b[0m\u001b[0mget_emission_logprobs\u001b[0m\u001b[0;34m(\u001b[0m\u001b[0mx\u001b[0m\u001b[0;34m)\u001b[0m\u001b[0;34m\u001b[0m\u001b[0;34m\u001b[0m\u001b[0m\n\u001b[1;32m    127\u001b[0m         \u001b[0;31m# timesteps\u001b[0m\u001b[0;34m\u001b[0m\u001b[0;34m\u001b[0m\u001b[0;34m\u001b[0m\u001b[0m\n",
      "\u001b[0;31mIndexError\u001b[0m: tuple index out of range"
     ]
    }
   ],
   "source": [
    "# get loglikelihood\n",
    "model.score(z)"
   ]
  },
  {
   "cell_type": "markdown",
   "id": "7aac7d9e",
   "metadata": {},
   "source": [
    "# load a learned model"
   ]
  },
  {
   "cell_type": "code",
   "execution_count": 9,
   "id": "42f64482",
   "metadata": {},
   "outputs": [],
   "source": [
    "path_to_model = '/home/gagan/data/zudeep/hmm_dump/r15y5_nz12/day_22_hiddensize_50/model_data_and_scores_day_22.pkl'"
   ]
  },
  {
   "cell_type": "code",
   "execution_count": 10,
   "id": "f1beeb73",
   "metadata": {},
   "outputs": [],
   "source": [
    "mm = joblib.load(path_to_model)"
   ]
  },
  {
   "cell_type": "code",
   "execution_count": 9,
   "id": "b489e2ae",
   "metadata": {},
   "outputs": [],
   "source": [
    "model = mm['model']"
   ]
  },
  {
   "cell_type": "code",
   "execution_count": 11,
   "id": "ac154a79",
   "metadata": {},
   "outputs": [
    {
     "data": {
      "text/plain": [
       "522"
      ]
     },
     "execution_count": 11,
     "metadata": {},
     "output_type": "execute_result"
    }
   ],
   "source": [
    "traindata = mm['ztrain']\n",
    "len(traindata)"
   ]
  },
  {
   "cell_type": "code",
   "execution_count": 11,
   "id": "42ba2a98",
   "metadata": {},
   "outputs": [
    {
     "data": {
      "text/plain": [
       "(50, 1, 12, 12)"
      ]
     },
     "execution_count": 11,
     "metadata": {},
     "output_type": "execute_result"
    }
   ],
   "source": [
    "CC = model.covars_\n",
    "CC.shape"
   ]
  },
  {
   "cell_type": "markdown",
   "id": "3f31f0be",
   "metadata": {},
   "source": [
    "# prepare the parameters"
   ]
  },
  {
   "cell_type": "code",
   "execution_count": 34,
   "id": "83470164",
   "metadata": {},
   "outputs": [],
   "source": [
    "# do you want to send it to gpu?\n",
    "CUDA = False"
   ]
  },
  {
   "cell_type": "code",
   "execution_count": 35,
   "id": "d1b6e685",
   "metadata": {},
   "outputs": [],
   "source": [
    "params = {}\n",
    "params['means'] = model.means_\n",
    "params['covars'] = np.squeeze(model.covars_)\n",
    "params['transmat'] = model.transmat_\n",
    "params['start_prob'] = model.startprob_\n",
    "\n",
    "mu, cov, A, pi, B, _ = prepare_params_no_redundant(params)\n",
    "varss = cov[:,0,0]\n",
    "\n",
    "if CUDA:\n",
    "    mu = mu.cuda()\n",
    "    varss = varss.cuda()\n",
    "    A  = A.cuda()\n",
    "    pi = pi.cuda()\n",
    "    B = B.cuda()\n",
    "\n",
    "ndim = mu.shape[-1]\n",
    "nstates = mu.shape[0]\n",
    "totparams = ndim*nstates + nstates + (nstates*(nstates-1)) + (nstates-1)"
   ]
  },
  {
   "cell_type": "markdown",
   "id": "e3995367",
   "metadata": {},
   "source": [
    "# check transition matrices for zeros"
   ]
  },
  {
   "cell_type": "code",
   "execution_count": 23,
   "id": "a56fdd03",
   "metadata": {},
   "outputs": [
    {
     "data": {
      "text/plain": [
       "1.5"
      ]
     },
     "execution_count": 23,
     "metadata": {},
     "output_type": "execute_result"
    }
   ],
   "source": [
    "model.transmat_prior"
   ]
  },
  {
   "cell_type": "code",
   "execution_count": 26,
   "id": "19f0d563",
   "metadata": {},
   "outputs": [],
   "source": [
    "TT = model.transmat_"
   ]
  },
  {
   "cell_type": "code",
   "execution_count": 27,
   "id": "a208b898",
   "metadata": {},
   "outputs": [
    {
     "data": {
      "text/plain": [
       "(50, 50)"
      ]
     },
     "execution_count": 27,
     "metadata": {},
     "output_type": "execute_result"
    }
   ],
   "source": [
    "TT.shape"
   ]
  },
  {
   "cell_type": "code",
   "execution_count": 29,
   "id": "1cf9714c",
   "metadata": {},
   "outputs": [
    {
     "data": {
      "text/plain": [
       "<matplotlib.image.AxesImage at 0x7f0fa5214d90>"
      ]
     },
     "execution_count": 29,
     "metadata": {},
     "output_type": "execute_result"
    },
    {
     "data": {
      "image/png": "[encoded data removed]",
      "text/plain": [
       "<Figure size 432x288 with 1 Axes>"
      ]
     },
     "metadata": {
      "needs_background": "light"
     },
     "output_type": "display_data"
    }
   ],
   "source": [
    "plt.imshow(TT)"
   ]
  },
  {
   "cell_type": "code",
   "execution_count": 31,
   "id": "bdf08c71",
   "metadata": {},
   "outputs": [
    {
     "data": {
      "text/plain": [
       "1.0"
      ]
     },
     "execution_count": 31,
     "metadata": {},
     "output_type": "execute_result"
    }
   ],
   "source": [
    "model.startprob_prior"
   ]
  },
  {
   "cell_type": "code",
   "execution_count": 30,
   "id": "653c5449",
   "metadata": {},
   "outputs": [
    {
     "data": {
      "text/plain": [
       "[<matplotlib.lines.Line2D at 0x7f0fa5015e50>]"
      ]
     },
     "execution_count": 30,
     "metadata": {},
     "output_type": "execute_result"
    },
    {
     "data": {
      "image/png": "[encoded data removed]",
      "text/plain": [
       "<Figure size 432x288 with 1 Axes>"
      ]
     },
     "metadata": {
      "needs_background": "light"
     },
     "output_type": "display_data"
    }
   ],
   "source": [
    "PI = model.startprob_\n",
    "plt.plot(PI, '-db')"
   ]
  },
  {
   "cell_type": "markdown",
   "id": "e76a7166",
   "metadata": {},
   "source": [
    "# check hmmlearn likelihood to own function"
   ]
  },
  {
   "cell_type": "code",
   "execution_count": 32,
   "id": "c76d9706",
   "metadata": {},
   "outputs": [
    {
     "data": {
      "text/plain": [
       "67.77451920440998"
      ]
     },
     "execution_count": 32,
     "metadata": {},
     "output_type": "execute_result"
    }
   ],
   "source": [
    "model.score(traindata[50])"
   ]
  },
  {
   "cell_type": "code",
   "execution_count": 37,
   "id": "c75c3114",
   "metadata": {},
   "outputs": [
    {
     "data": {
      "text/plain": [
       "True"
      ]
     },
     "execution_count": 37,
     "metadata": {},
     "output_type": "execute_result"
    }
   ],
   "source": [
    "isinstance(A, torch.Tensor)"
   ]
  },
  {
   "cell_type": "code",
   "execution_count": 38,
   "id": "9a0b553b",
   "metadata": {},
   "outputs": [
    {
     "data": {
      "text/plain": [
       "tensor(67.7746, grad_fn=<SumBackward0>)"
      ]
     },
     "execution_count": 38,
     "metadata": {},
     "output_type": "execute_result"
    }
   ],
   "source": [
    "logLLcalculation_scaled_noredudantA(traindata[50], mu, varss, A, pi, B, T = traindata[50].shape[0], cuda=False)"
   ]
  },
  {
   "cell_type": "markdown",
   "id": "8eefc556",
   "metadata": {},
   "source": [
    "# compute model entropy"
   ]
  },
  {
   "cell_type": "code",
   "execution_count": 15,
   "id": "ac8fa7b4",
   "metadata": {},
   "outputs": [
    {
     "name": "stdout",
     "output_type": "stream",
     "text": [
      "...... computing Entropy ......\n",
      "5.041815566369349\n"
     ]
    }
   ],
   "source": [
    "# compute entropy for this model\n",
    "Hsp, Htrans, Hgauss = full_entropy(model)\n",
    "Htot = Hsp+Htrans+Hgauss\n",
    "print(Htot)"
   ]
  },
  {
   "cell_type": "markdown",
   "id": "c54763a0",
   "metadata": {},
   "source": [
    "# get hessian"
   ]
  },
  {
   "cell_type": "code",
   "execution_count": 15,
   "id": "98a78343",
   "metadata": {},
   "outputs": [],
   "source": [
    "# subsample the data\n",
    "ids = np.random.choice(len(traindata), size=10, replace=False)\n",
    "zt = [traindata[i] for i in ids]"
   ]
  },
  {
   "cell_type": "code",
   "execution_count": 16,
   "id": "31773f7f",
   "metadata": {},
   "outputs": [
    {
     "data": {
      "text/plain": [
       "10"
      ]
     },
     "execution_count": 16,
     "metadata": {},
     "output_type": "execute_result"
    }
   ],
   "source": [
    "len(zt)"
   ]
  },
  {
   "cell_type": "code",
   "execution_count": null,
   "id": "a7cbe66c",
   "metadata": {},
   "outputs": [],
   "source": [
    "\n",
    "# get hessian\n",
    "print('...... computing Hessian over %d sequences ......'%(len(zt)))\n",
    "\n",
    "Htotal = np.zeros((totparams, totparams))\n",
    "\n",
    "for i, z in enumerate(zt):\n",
    "    \n",
    "    H = compute_hessian(mu, varss, A, pi, B, z, cuda=CUDA)\n",
    "    \n",
    "    if np.sum(np.isnan(H))>0.:\n",
    "        continue\n",
    "        \n",
    "    Htotal += H \n",
    "    print('# done with %d / %d seqs # '%(i,len(zt)))\n",
    "\n",
    "\n",
    "Hdet = np.linalg.det(Htotal)\n",
    "\n",
    "if Hdet == 0.:\n",
    "    # it shouldn't be zero\n",
    "    pdb.set_trace()\n",
    "\n",
    "# loglikelihood\n",
    "LL =  model.score(np.concatenate(traindata), [len(t) for t in traindata])\n",
    "# BIC\n",
    "BIC = -2*LL + np.log(Hdet)"
   ]
  },
  {
   "cell_type": "code",
   "execution_count": null,
   "id": "e7f233bf",
   "metadata": {},
   "outputs": [],
   "source": []
  },
  {
   "cell_type": "code",
   "execution_count": null,
   "id": "98f3e3e3",
   "metadata": {},
   "outputs": [],
   "source": []
  }
 ],
 "metadata": {
  "kernelspec": {
   "display_name": "Python 3",
   "language": "python",
   "name": "python3"
  },
  "language_info": {
   "codemirror_mode": {
    "name": "ipython",
    "version": 3
   },
   "file_extension": ".py",
   "mimetype": "text/x-python",
   "name": "python",
   "nbconvert_exporter": "python",
   "pygments_lexer": "ipython3",
   "version": "3.8.8"
  }
 },
 "nbformat": 4,
 "nbformat_minor": 5
}
