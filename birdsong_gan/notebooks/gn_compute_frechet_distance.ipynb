{
 "cells": [
  {
   "cell_type": "markdown",
   "metadata": {},
   "source": [
    "# Compute Frechet Inception Distance for a model\n",
    "\n",
    "To do this, one needs an \"Inception Net\". A discriminator that discriminates between real and fake samples."
   ]
  },
  {
   "cell_type": "code",
   "execution_count": 1,
   "metadata": {},
   "outputs": [],
   "source": [
    "import os\n",
    "import sys\n",
    "sys.path.append(os.pardir)"
   ]
  },
  {
   "cell_type": "code",
   "execution_count": 2,
   "metadata": {},
   "outputs": [],
   "source": [
    "import numpy as np\n",
    "import matplotlib.pyplot as plt\n",
    "import torch "
   ]
  },
  {
   "cell_type": "code",
   "execution_count": 3,
   "metadata": {},
   "outputs": [],
   "source": [
    "import h5py"
   ]
  },
  {
   "cell_type": "code",
   "execution_count": 20,
   "metadata": {},
   "outputs": [],
   "source": [
    "import gc"
   ]
  },
  {
   "cell_type": "code",
   "execution_count": 4,
   "metadata": {},
   "outputs": [],
   "source": [
    "from glob import glob"
   ]
  },
  {
   "cell_type": "code",
   "execution_count": 5,
   "metadata": {},
   "outputs": [],
   "source": [
    "from utils.utils import load_netE, load_netG"
   ]
  },
  {
   "cell_type": "code",
   "execution_count": 6,
   "metadata": {},
   "outputs": [],
   "source": [
    "from models.nets_16col_residual import _netG, _netD, _netE, weights_init"
   ]
  },
  {
   "cell_type": "code",
   "execution_count": 7,
   "metadata": {},
   "outputs": [],
   "source": [
    "from data.dataset import bird_dataset"
   ]
  },
  {
   "cell_type": "markdown",
   "metadata": {},
   "source": [
    "# load a generator"
   ]
  },
  {
   "cell_type": "code",
   "execution_count": 14,
   "metadata": {},
   "outputs": [],
   "source": [
    "netG = load_netG('/home/gagan/data/zudeep/models/nz_12_residual/2021-05-05_10-41-37.547480/netG_epoch_5.pth', nz=12, ngf=128, cuda=True, resnet=True)"
   ]
  },
  {
   "cell_type": "code",
   "execution_count": 15,
   "metadata": {},
   "outputs": [
    {
     "name": "stdout",
     "output_type": "stream",
     "text": [
      "_netG(\n",
      "  (lnormlist): ModuleList(\n",
      "    (0): LayerNorm((1024, 3, 3), eps=1e-05, elementwise_affine=True)\n",
      "    (1): LayerNorm((512, 8, 4), eps=1e-05, elementwise_affine=True)\n",
      "    (2): LayerNorm((512, 8, 4), eps=1e-05, elementwise_affine=True)\n",
      "    (3): LayerNorm((512, 8, 4), eps=1e-05, elementwise_affine=True)\n",
      "    (4): LayerNorm((256, 31, 5), eps=1e-05, elementwise_affine=True)\n",
      "    (5): LayerNorm((256, 31, 5), eps=1e-05, elementwise_affine=True)\n",
      "    (6): LayerNorm((256, 31, 5), eps=1e-05, elementwise_affine=True)\n",
      "    (7): LayerNorm((128, 63, 8), eps=1e-05, elementwise_affine=True)\n",
      "  )\n",
      "  (relu): ReLU(inplace=True)\n",
      "  (convs): ModuleList(\n",
      "    (0): ConvTranspose2d(12, 1024, kernel_size=(3, 3), stride=(1, 1), bias=False)\n",
      "    (1): ConvTranspose2d(1024, 512, kernel_size=(4, 4), stride=(3, 1), padding=(1, 1), bias=False)\n",
      "    (2): ConvTranspose2d(512, 512, kernel_size=(3, 3), stride=(1, 1), padding=(1, 1))\n",
      "    (3): ConvTranspose2d(512, 512, kernel_size=(3, 3), stride=(1, 1), padding=(1, 1))\n",
      "    (4): ConvTranspose2d(512, 256, kernel_size=(5, 4), stride=(4, 1), padding=(1, 1), bias=False)\n",
      "    (5): ConvTranspose2d(256, 256, kernel_size=(3, 3), stride=(1, 1), padding=(1, 1))\n",
      "    (6): ConvTranspose2d(256, 256, kernel_size=(3, 3), stride=(1, 1), padding=(1, 1))\n",
      "    (7): ConvTranspose2d(256, 128, kernel_size=(5, 4), stride=(2, 1), padding=(1, 0), bias=False)\n",
      "    (8): ConvTranspose2d(128, 1, kernel_size=(5, 4), stride=(2, 2), padding=(0, 1))\n",
      "  )\n",
      "  (activation_last): Softplus(beta=1, threshold=20)\n",
      ")\n"
     ]
    }
   ],
   "source": [
    "print(netG)"
   ]
  },
  {
   "cell_type": "markdown",
   "metadata": {},
   "source": [
    "# make a generators"
   ]
  },
  {
   "cell_type": "code",
   "execution_count": 18,
   "metadata": {},
   "outputs": [],
   "source": [
    "netD = _netD(ndf=128, nc=1)\n",
    "netD = netD.cuda()"
   ]
  },
  {
   "cell_type": "code",
   "execution_count": 19,
   "metadata": {},
   "outputs": [
    {
     "name": "stdout",
     "output_type": "stream",
     "text": [
      "_netD(\n",
      "  (convs): ModuleList(\n",
      "    (0): Conv2d(1, 128, kernel_size=(4, 4), stride=(2, 2), padding=(1, 1), bias=False)\n",
      "    (1): Conv2d(128, 256, kernel_size=(4, 3), stride=(2, 1), padding=(1, 0), bias=False)\n",
      "    (2): Conv2d(256, 512, kernel_size=(4, 3), stride=(2, 1), padding=(2, 0), bias=False)\n",
      "    (3): Conv2d(512, 1024, kernel_size=(8, 4), stride=(2, 1), padding=(1, 1), bias=False)\n",
      "    (4): Conv2d(1024, 1, kernel_size=(6, 3), stride=(1, 1), bias=False)\n",
      "  )\n",
      "  (lns): ModuleList(\n",
      "    (0): LayerNorm((128, 64, 8), eps=1e-05, elementwise_affine=True)\n",
      "    (1): LayerNorm((256, 32, 6), eps=1e-05, elementwise_affine=True)\n",
      "    (2): LayerNorm((512, 17, 4), eps=1e-05, elementwise_affine=True)\n",
      "    (3): LayerNorm((1024, 6, 3), eps=1e-05, elementwise_affine=True)\n",
      "  )\n",
      "  (activations): ModuleList(\n",
      "    (0): LeakyReLU(negative_slope=0.2)\n",
      "    (1): LeakyReLU(negative_slope=0.2)\n",
      "    (2): LeakyReLU(negative_slope=0.2)\n",
      "    (3): LeakyReLU(negative_slope=0.2)\n",
      "  )\n",
      ")\n"
     ]
    }
   ],
   "source": [
    "print(netD)"
   ]
  },
  {
   "cell_type": "code",
   "execution_count": 21,
   "metadata": {},
   "outputs": [
    {
     "data": {
      "text/plain": [
       "2073"
      ]
     },
     "execution_count": 21,
     "metadata": {},
     "output_type": "execute_result"
    }
   ],
   "source": [
    "del netD\n",
    "gc.collect()"
   ]
  },
  {
   "cell_type": "code",
   "execution_count": null,
   "metadata": {},
   "outputs": [],
   "source": [
    "class _netD(nn.Module):\n",
    "    def __init__(self, ndf,nc):\n",
    "        super(_netD, self).__init__()\n",
    "        self.convs = nn.ModuleList([\n",
    "            nn.Conv2d(nc, ndf, kernel_size=4, stride=(2,2), padding=(1,1), bias=False),\n",
    "            # size H = (129 +2 -4)/2 + 1 = 64, W = (16 +2 -4)/2 + 1 = 8\n",
    "            nn.Conv2d(ndf, ndf * 2, kernel_size=(4, 3), stride=(2, 1), padding=(1, 0), bias=False),\n",
    "            # size H = (64 +2 -4)/2 + 1 = 32, W = (8 -3) + 1 = 6\n",
    "            nn.Conv2d(ndf * 2, ndf * 4, kernel_size=(4,3), stride=(2,1), padding=(2,0), bias=False),\n",
    "            # size H = (32 +4 -4)/2 + 1 = 17, W = (6 -3) + 1 = 4\n",
    "            nn.Conv2d(ndf * 4, ndf * 8, kernel_size=(8,4), stride=(2,1), padding=1, bias=False),\n",
    "            # H = (17 +2 -8)/2 + 1 = 6, W = (4 +2 -4) + 1 = 3\n",
    "            nn.Conv2d(ndf * 8, 1, kernel_size=(6,3), stride=1, padding=0, bias=False),\n",
    "            # H = 6-6 + 1 =1, W = (4 - 3) +1 =  \n",
    "        ])\n",
    "        self.lns = nn.ModuleList([nn.LayerNorm([ndf, 64, 8]),\n",
    "                                  nn.LayerNorm([ndf * 2, 32, 6]),\n",
    "                                  nn.LayerNorm([ndf * 4, 17, 4]),\n",
    "                                  nn.LayerNorm([ndf * 8, 6, 3])])\n",
    "        self.activations = nn.ModuleList([nn.LeakyReLU(0.2),nn.LeakyReLU(0.2),\n",
    "                                    nn.LeakyReLU(0.2),nn.LeakyReLU(0.2)])\n",
    "\n",
    "    def forward(self, x):\n",
    "        for i in range(4):\n",
    "            x = self.convs[i](x)\n",
    "            x = self.lns[i](x)\n",
    "            x = self.activations[i](x)\n",
    "        y = x.clone()\n",
    "        x = self.convs[-1](x)\n",
    "        x = nn.Sigmoid()(x)\n",
    "        output = x.view(-1,1)\n",
    "        return output, y"
   ]
  },
  {
   "cell_type": "markdown",
   "metadata": {},
   "source": [
    "# choose a set of birds as test dataset"
   ]
  },
  {
   "cell_type": "code",
   "execution_count": null,
   "metadata": {},
   "outputs": [],
   "source": [
    "all_birds = os.listdir('/home/gagan/data/zudeep/bird_hdfs/')\n",
    "all_birds"
   ]
  },
  {
   "cell_type": "code",
   "execution_count": 9,
   "metadata": {},
   "outputs": [
    {
     "data": {
      "text/plain": [
       "226"
      ]
     },
     "execution_count": 9,
     "metadata": {},
     "output_type": "execute_result"
    }
   ],
   "source": [
    "test_birds = glob('/home/gagan/data/zudeep/bird_hdfs/Box*')\n",
    "len(test_birds)"
   ]
  },
  {
   "cell_type": "code",
   "execution_count": 10,
   "metadata": {},
   "outputs": [
    {
     "data": {
      "text/plain": [
       "'/home/gagan/data/zudeep/bird_hdfs/Box5_HP24'"
      ]
     },
     "execution_count": 10,
     "metadata": {},
     "output_type": "execute_result"
    }
   ],
   "source": [
    "test_birds[0]"
   ]
  },
  {
   "cell_type": "code",
   "execution_count": 11,
   "metadata": {},
   "outputs": [],
   "source": [
    "file = h5py.File(test_birds[0], 'r')"
   ]
  },
  {
   "cell_type": "code",
   "execution_count": 12,
   "metadata": {},
   "outputs": [],
   "source": [
    "wavfilenames = list(file['Box5_HP24/FD'].keys())"
   ]
  },
  {
   "cell_type": "code",
   "execution_count": 13,
   "metadata": {},
   "outputs": [
    {
     "name": "stdout",
     "output_type": "stream",
     "text": [
      "...total number of folders = 1 ...\n"
     ]
    }
   ],
   "source": [
    "path2bird = test_birds[0]\n",
    "dataset = bird_dataset(path2bird)"
   ]
  },
  {
   "cell_type": "code",
   "execution_count": 14,
   "metadata": {},
   "outputs": [
    {
     "data": {
      "text/plain": [
       "ItemsViewHDF5(<HDF5 file \"Box5_HP24\" (mode r)>)"
      ]
     },
     "execution_count": 14,
     "metadata": {},
     "output_type": "execute_result"
    }
   ],
   "source": [
    "dataset.folders"
   ]
  },
  {
   "cell_type": "code",
   "execution_count": null,
   "metadata": {},
   "outputs": [],
   "source": [
    "X_real = []\n",
    "\n",
    "for n in range(dataset.nfolders):\n",
    "    \n",
    "    seqs = dataset.get(day = n, nsamps=-1)\n",
    "    for s in seqs:\n",
    "        segs = segment_image(s, width=16)\n",
    "        segs = [np.ndarray.flatten(s) for s in segs]\n",
    "        X_real += segs\n",
    "        \n",
    "        "
   ]
  }
 ],
 "metadata": {
  "kernelspec": {
   "display_name": "Python 3",
   "language": "python",
   "name": "python3"
  },
  "language_info": {
   "codemirror_mode": {
    "name": "ipython",
    "version": 3
   },
   "file_extension": ".py",
   "mimetype": "text/x-python",
   "name": "python",
   "nbconvert_exporter": "python",
   "pygments_lexer": "ipython3",
   "version": "3.8.8"
  }
 },
 "nbformat": 4,
 "nbformat_minor": 4
}
