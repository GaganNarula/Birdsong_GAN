{
 "cells": [
  {
   "cell_type": "markdown",
   "metadata": {},
   "source": [
    "# Compute Frechet Inception Distance for a model\n",
    "\n",
    "To do this, one needs an \"Inception Net\". A discriminator that discriminates between real and fake samples."
   ]
  },
  {
   "cell_type": "code",
   "execution_count": 25,
   "metadata": {},
   "outputs": [],
   "source": [
    "import os\n",
    "import numpy as np\n",
    "import matplotlib.pyplot as plt\n",
    "import torch \n",
    "import torch.nn as nn"
   ]
  },
  {
   "cell_type": "code",
   "execution_count": 22,
   "metadata": {},
   "outputs": [],
   "source": [
    "from random import shuffle"
   ]
  },
  {
   "cell_type": "code",
   "execution_count": 2,
   "metadata": {},
   "outputs": [],
   "source": [
    "import pdb"
   ]
  },
  {
   "cell_type": "code",
   "execution_count": 3,
   "metadata": {},
   "outputs": [],
   "source": [
    "import h5py\n",
    "import gc\n",
    "import joblib\n",
    "from glob import glob"
   ]
  },
  {
   "cell_type": "code",
   "execution_count": 4,
   "metadata": {},
   "outputs": [],
   "source": [
    "from utils.utils import load_netE, load_netG, segment_image, load_InceptionNet\n",
    "from hmm.hmm_utils import generate_samples"
   ]
  },
  {
   "cell_type": "code",
   "execution_count": 27,
   "metadata": {},
   "outputs": [],
   "source": [
    "from models.nets_16col_residual import _netG, InceptionNet, FID"
   ]
  },
  {
   "cell_type": "code",
   "execution_count": 6,
   "metadata": {},
   "outputs": [],
   "source": [
    "from data.dataset import bird_dataset_single_hdf"
   ]
  },
  {
   "cell_type": "code",
   "execution_count": 21,
   "metadata": {},
   "outputs": [],
   "source": [
    "from torch.utils.data import TensorDataset, DataLoader"
   ]
  },
  {
   "cell_type": "markdown",
   "metadata": {},
   "source": [
    "# load a bird, get its songs from some day"
   ]
  },
  {
   "cell_type": "code",
   "execution_count": 7,
   "metadata": {},
   "outputs": [
    {
     "name": "stdout",
     "output_type": "stream",
     "text": [
      "... total number of folders for bird r15y5 = 41 ...\n"
     ]
    }
   ],
   "source": [
    "dataset = bird_dataset_single_hdf('/home/songbird/datapartition/all_birds.hdf', 'r15y5')"
   ]
  },
  {
   "cell_type": "code",
   "execution_count": 8,
   "metadata": {},
   "outputs": [],
   "source": [
    "# choose a day\n",
    "X = dataset.get(day=18, nsamps=-1)"
   ]
  },
  {
   "cell_type": "code",
   "execution_count": 16,
   "metadata": {},
   "outputs": [
    {
     "data": {
      "text/plain": [
       "(129, 133)"
      ]
     },
     "execution_count": 16,
     "metadata": {},
     "output_type": "execute_result"
    }
   ],
   "source": [
    "X[0].shape"
   ]
  },
  {
   "cell_type": "markdown",
   "metadata": {},
   "source": [
    "# load a generator"
   ]
  },
  {
   "cell_type": "code",
   "execution_count": 10,
   "metadata": {},
   "outputs": [],
   "source": [
    "netG = load_netG('/home/songbird/datapartition/mdgan_output/daily_gan/r15y5_nz12_alldaysnets/netG_epoch_60_day_all.pth',\n",
    "                 nz=12, ngf=128, cuda=True, resnet=True)"
   ]
  },
  {
   "cell_type": "markdown",
   "metadata": {},
   "source": [
    "# load hmm"
   ]
  },
  {
   "cell_type": "code",
   "execution_count": 11,
   "metadata": {},
   "outputs": [],
   "source": [
    "# load hmm\n",
    "hmm = joblib.load('/home/songbird/datapartition/mdgan_output/daily_gan/r15y5_nz12_alldaysnets/day_18/hmm_hiddensize_100/model_day_18.pkl')\n",
    "hmm = hmm['model']"
   ]
  },
  {
   "cell_type": "code",
   "execution_count": 12,
   "metadata": {},
   "outputs": [],
   "source": [
    "timesteps_per_sample = [x.shape[1]//16 for x in X]"
   ]
  },
  {
   "cell_type": "code",
   "execution_count": null,
   "metadata": {},
   "outputs": [],
   "source": [
    "sample_seqs = generate_samples(netG, hmm, nsamples=len(X), invtemp=1., timesteps=timesteps_per_sample, cuda=True)"
   ]
  },
  {
   "cell_type": "code",
   "execution_count": null,
   "metadata": {},
   "outputs": [],
   "source": [
    "len(sample_seqs)"
   ]
  },
  {
   "cell_type": "code",
   "execution_count": null,
   "metadata": {},
   "outputs": [],
   "source": [
    "sample_seqs[0].shape"
   ]
  },
  {
   "cell_type": "markdown",
   "metadata": {},
   "source": [
    "# load a trained Inception Net"
   ]
  },
  {
   "cell_type": "code",
   "execution_count": 18,
   "metadata": {},
   "outputs": [],
   "source": [
    "netI = load_InceptionNet('/home/songbird/datapartition/mdgan_output/daily_gan/r15s12_nz12_alldaysnets/netD3_epoch_60_day_all.pth', \n",
    "                ndf = 128, cuda=True, resnet=True)"
   ]
  },
  {
   "cell_type": "markdown",
   "metadata": {},
   "source": [
    "# train a new Inception Net"
   ]
  },
  {
   "cell_type": "code",
   "execution_count": 155,
   "metadata": {},
   "outputs": [
    {
     "name": "stdout",
     "output_type": "stream",
     "text": [
      "(123114, 129, 16)\n"
     ]
    }
   ],
   "source": [
    "# make a dataset\n",
    "\n",
    "real = []\n",
    "fake = []\n",
    "for x,s in zip(X, sample_seqs):\n",
    "    \n",
    "    real.append(np.stack(segment_image(x, width = 16)))\n",
    "    fake.append(np.stack(segment_image(s, width = 16)))\n",
    "\n",
    "real = np.concatenate(real)\n",
    "fake = np.concatenate(fake)\n",
    "\n",
    "x = np.concatenate([real, fake], axis=0)\n",
    "\n",
    "print(x.shape)\n",
    "\n",
    "x = torch.from_numpy(x).view(-1, real.shape[1], real.shape[2]).to(torch.float32).cuda()\n"
   ]
  },
  {
   "cell_type": "code",
   "execution_count": null,
   "metadata": {},
   "outputs": [],
   "source": []
  },
  {
   "cell_type": "code",
   "execution_count": 157,
   "metadata": {},
   "outputs": [],
   "source": [
    "y = np.concatenate([np.ones((real.shape[0], 1)), np.zeros((fake.shape[0],1))])\n",
    "y = torch.from_numpy(y).to(torch.float32).cuda()"
   ]
  },
  {
   "cell_type": "code",
   "execution_count": 134,
   "metadata": {},
   "outputs": [],
   "source": [
    "x = None\n",
    "y = None\n",
    "gc.collect()\n",
    "torch.cuda.empty_cache()"
   ]
  },
  {
   "cell_type": "code",
   "execution_count": 158,
   "metadata": {},
   "outputs": [],
   "source": [
    "#y = torch.from_numpy(y).to(torch.long).cuda()\n",
    "#y = y.to(torch.long).cuda()\n",
    "dataset = TensorDataset(x, y)\n",
    "dataloader = DataLoader(dataset, shuffle=True, batch_size=32)"
   ]
  },
  {
   "cell_type": "code",
   "execution_count": 159,
   "metadata": {},
   "outputs": [
    {
     "data": {
      "text/plain": [
       "3848"
      ]
     },
     "execution_count": 159,
     "metadata": {},
     "output_type": "execute_result"
    }
   ],
   "source": [
    "len(dataloader)"
   ]
  },
  {
   "cell_type": "code",
   "execution_count": 167,
   "metadata": {},
   "outputs": [],
   "source": [
    "model = None\n",
    "gc.collect()\n",
    "torch.cuda.empty_cache()"
   ]
  },
  {
   "cell_type": "code",
   "execution_count": 103,
   "metadata": {},
   "outputs": [],
   "source": [
    "nepochs = 5\n",
    "lr = 3e-5\n",
    "l2 = 1e-4\n",
    "log_every = 500"
   ]
  },
  {
   "cell_type": "code",
   "execution_count": 104,
   "metadata": {},
   "outputs": [],
   "source": [
    "model = InceptionNet(ndf=8, nc=1, lr = lr, l2=l2, log_every=log_every)\n",
    "model = model.cuda()"
   ]
  },
  {
   "cell_type": "code",
   "execution_count": 153,
   "metadata": {},
   "outputs": [],
   "source": [
    "model = InceptionNetRecurrent(indims=129, nrnn=100, nrnnlayers=1, nembed=12, \n",
    "                                 lr=1e-4, l2=1e-4, log_every=100)\n",
    "model = model.cuda()"
   ]
  },
  {
   "cell_type": "code",
   "execution_count": 160,
   "metadata": {},
   "outputs": [
    {
     "name": "stdout",
     "output_type": "stream",
     "text": [
      "..... batch=200/3848 loss = 0.001 .....\n",
      "..... batch=300/3848 loss = 0.000 .....\n",
      "..... batch=400/3848 loss = 0.000 .....\n",
      "..... batch=500/3848 loss = 0.000 .....\n",
      "..... batch=600/3848 loss = 0.000 .....\n",
      "..... batch=700/3848 loss = 0.000 .....\n",
      "..... batch=800/3848 loss = 0.000 .....\n",
      "..... batch=900/3848 loss = 0.000 .....\n",
      "..... batch=1000/3848 loss = 0.002 .....\n",
      "..... batch=1100/3848 loss = 0.000 .....\n",
      "..... batch=1200/3848 loss = 0.000 .....\n",
      "..... batch=1300/3848 loss = 0.000 .....\n",
      "..... batch=1400/3848 loss = 0.000 .....\n",
      "..... batch=1500/3848 loss = 0.000 .....\n",
      "..... batch=1600/3848 loss = 0.001 .....\n",
      "..... batch=1700/3848 loss = 0.000 .....\n",
      "..... batch=1800/3848 loss = 0.001 .....\n",
      "..... batch=1900/3848 loss = 0.017 .....\n",
      "..... batch=2000/3848 loss = 0.000 .....\n",
      "..... batch=2100/3848 loss = 0.000 .....\n",
      "..... batch=2200/3848 loss = 0.000 .....\n",
      "..... batch=2300/3848 loss = 0.001 .....\n",
      "..... batch=2400/3848 loss = 0.000 .....\n",
      "..... batch=2500/3848 loss = 0.000 .....\n",
      "..... batch=2600/3848 loss = 0.000 .....\n",
      "..... batch=2700/3848 loss = 0.000 .....\n",
      "..... batch=2800/3848 loss = 0.000 .....\n",
      "..... batch=2900/3848 loss = 0.000 .....\n",
      "..... batch=3000/3848 loss = 0.000 .....\n",
      "..... batch=3100/3848 loss = 0.002 .....\n",
      "..... batch=3200/3848 loss = 0.000 .....\n",
      "..... batch=3300/3848 loss = 0.000 .....\n",
      "..... batch=3400/3848 loss = 0.000 .....\n",
      "..... batch=3500/3848 loss = 0.000 .....\n",
      "..... batch=3600/3848 loss = 0.001 .....\n",
      "..... batch=3700/3848 loss = 0.001 .....\n",
      "..... batch=3800/3848 loss = 0.027 .....\n"
     ]
    }
   ],
   "source": [
    "for n in range(nepochs):\n",
    "    model.fit(dataloader)"
   ]
  },
  {
   "cell_type": "code",
   "execution_count": 89,
   "metadata": {},
   "outputs": [
    {
     "data": {
      "text/plain": [
       "17"
      ]
     },
     "execution_count": 89,
     "metadata": {},
     "output_type": "execute_result"
    }
   ],
   "source": [
    "dataset = None\n",
    "dataloader = None\n",
    "gc.collect()"
   ]
  },
  {
   "cell_type": "code",
   "execution_count": 130,
   "metadata": {},
   "outputs": [
    {
     "data": {
      "text/plain": [
       "7"
      ]
     },
     "execution_count": 130,
     "metadata": {},
     "output_type": "execute_result"
    }
   ],
   "source": [
    "len(X) // 400"
   ]
  },
  {
   "cell_type": "markdown",
   "metadata": {},
   "source": [
    "# get FID scores"
   ]
  },
  {
   "cell_type": "code",
   "execution_count": 131,
   "metadata": {},
   "outputs": [
    {
     "name": "stdout",
     "output_type": "stream",
     "text": [
      "..... done with 6.538 percent .....\n",
      "..... FID: 171.75294126320696 .....\n",
      "..... done with 25.809 percent .....\n",
      "..... FID: 170.89524257133695 .....\n",
      "..... done with 42.326 percent .....\n",
      "..... FID: 172.86820605063426 .....\n",
      "..... done with 55.747 percent .....\n",
      "..... FID: 174.6679658202172 .....\n",
      "..... done with 62.629 percent .....\n",
      "..... FID: 168.94993283932493 .....\n",
      "..... done with 65.382 percent .....\n",
      "..... FID: 171.80010611306625 .....\n",
      "..... done with 72.608 percent .....\n",
      "..... FID: 172.4665467598073 .....\n",
      "..... done with 94.976 percent .....\n",
      "..... FID: 173.71792651971512 .....\n"
     ]
    }
   ],
   "source": [
    "\n",
    "FID_scores = []\n",
    "\n",
    "N = 0\n",
    "minsamps = 800\n",
    "x_real = []\n",
    "x_fake = []\n",
    "\n",
    "with torch.no_grad():\n",
    "    \n",
    "    for n in range(len(X)):\n",
    "         \n",
    "        x_r = np.stack(segment_image(X[n], width = 16))\n",
    "        x_f = np.stack(segment_image(sample_seqs[n], width = 16))\n",
    "\n",
    "        \n",
    "        if len(x_real) < minsamps:\n",
    "            \n",
    "            if len(x_real)==0:\n",
    "                x_real = x_r * 1.\n",
    "                x_fake = x_f * 1.\n",
    "            else:\n",
    "                x_real = np.concatenate([x_real, x_r])\n",
    "                x_fake = np.concatenate([x_fake, x_f])\n",
    "                \n",
    "            continue\n",
    "            \n",
    "        x_r = torch.from_numpy(x_real).view(-1, 1, x_real.shape[1], x_real.shape[2]).to(torch.float32).cuda()\n",
    "        x_f = torch.from_numpy(x_fake).view(-1, 1, x_fake.shape[1], x_fake.shape[2]).to(torch.float32).cuda()\n",
    "        \n",
    "        x_real, x_fake = [], []\n",
    "        \n",
    "        score = model.fid_score(x_r, x_f)\n",
    "\n",
    "        FID_scores.append(score)\n",
    "\n",
    "        if n % 10 == 0:\n",
    "            print('..... done with %.3f percent .....'%(n*100 / len(X)))\n",
    "            print(f'..... FID: {score} .....')"
   ]
  },
  {
   "cell_type": "code",
   "execution_count": 136,
   "metadata": {},
   "outputs": [
    {
     "data": {
      "text/plain": [
       "12"
      ]
     },
     "execution_count": 136,
     "metadata": {},
     "output_type": "execute_result"
    }
   ],
   "source": [
    "hmm.n_features"
   ]
  },
  {
   "cell_type": "code",
   "execution_count": 137,
   "metadata": {},
   "outputs": [
    {
     "data": {
      "text/plain": [
       "[<matplotlib.lines.Line2D at 0x7f110d1c2340>]"
      ]
     },
     "execution_count": 137,
     "metadata": {},
     "output_type": "execute_result"
    },
    {
     "data": {
      "image/png": "[encoded data removed]",
      "text/plain": [
       "<Figure size 432x288 with 1 Axes>"
      ]
     },
     "metadata": {
      "needs_background": "light"
     },
     "output_type": "display_data"
    }
   ],
   "source": [
    "plt.plot(FID_scores)"
   ]
  },
  {
   "cell_type": "markdown",
   "metadata": {},
   "source": [
    "# FID score for full sequences"
   ]
  },
  {
   "cell_type": "code",
   "execution_count": 165,
   "metadata": {},
   "outputs": [
    {
     "ename": "ValueError",
     "evalue": "all the input array dimensions for the concatenation axis must match exactly, but along dimension 2, the array at index 0 has size 133 and the array at index 1 has size 148",
     "output_type": "error",
     "traceback": [
      "\u001b[0;31m---------------------------------------------------------------------------\u001b[0m",
      "\u001b[0;31mValueError\u001b[0m                                Traceback (most recent call last)",
      "\u001b[0;32m<ipython-input-165-8caa5418086f>\u001b[0m in \u001b[0;36m<module>\u001b[0;34m\u001b[0m\n\u001b[1;32m     21\u001b[0m \u001b[0;34m\u001b[0m\u001b[0m\n\u001b[1;32m     22\u001b[0m             \u001b[0;32melse\u001b[0m\u001b[0;34m:\u001b[0m\u001b[0;34m\u001b[0m\u001b[0;34m\u001b[0m\u001b[0m\n\u001b[0;32m---> 23\u001b[0;31m                 \u001b[0mx_real\u001b[0m \u001b[0;34m=\u001b[0m \u001b[0mnp\u001b[0m\u001b[0;34m.\u001b[0m\u001b[0mconcatenate\u001b[0m\u001b[0;34m(\u001b[0m\u001b[0;34m[\u001b[0m\u001b[0mx_real\u001b[0m\u001b[0;34m,\u001b[0m \u001b[0mx_r\u001b[0m\u001b[0;34m]\u001b[0m\u001b[0;34m,\u001b[0m \u001b[0maxis\u001b[0m\u001b[0;34m=\u001b[0m\u001b[0;36m0\u001b[0m\u001b[0;34m)\u001b[0m\u001b[0;34m\u001b[0m\u001b[0;34m\u001b[0m\u001b[0m\n\u001b[0m\u001b[1;32m     24\u001b[0m                 \u001b[0mx_fake\u001b[0m \u001b[0;34m=\u001b[0m \u001b[0mnp\u001b[0m\u001b[0;34m.\u001b[0m\u001b[0mconcatenate\u001b[0m\u001b[0;34m(\u001b[0m\u001b[0;34m[\u001b[0m\u001b[0mx_fake\u001b[0m\u001b[0;34m,\u001b[0m \u001b[0mx_f\u001b[0m\u001b[0;34m]\u001b[0m\u001b[0;34m,\u001b[0m \u001b[0maxis\u001b[0m\u001b[0;34m=\u001b[0m\u001b[0;36m0\u001b[0m\u001b[0;34m)\u001b[0m\u001b[0;34m\u001b[0m\u001b[0;34m\u001b[0m\u001b[0m\n\u001b[1;32m     25\u001b[0m \u001b[0;34m\u001b[0m\u001b[0m\n",
      "\u001b[0;32m<__array_function__ internals>\u001b[0m in \u001b[0;36mconcatenate\u001b[0;34m(*args, **kwargs)\u001b[0m\n",
      "\u001b[0;31mValueError\u001b[0m: all the input array dimensions for the concatenation axis must match exactly, but along dimension 2, the array at index 0 has size 133 and the array at index 1 has size 148"
     ]
    }
   ],
   "source": [
    "FID_scores = []\n",
    "\n",
    "N = 0\n",
    "minsamps = 32\n",
    "x_real = np.array([])\n",
    "x_fake = np.array([])\n",
    "\n",
    "with torch.no_grad():\n",
    "    \n",
    "    for n in range(len(X)):\n",
    "         \n",
    "        x_r = np.expand_dims(X[n], axis=0)\n",
    "        x_f = np.expand_dims(sample_seqs[n],axis=0)\n",
    "\n",
    "        \n",
    "        if len(x_real) < minsamps:\n",
    "            \n",
    "            if len(x_real)==0:\n",
    "                x_real = x_r\n",
    "                x_fake = x_f\n",
    "                \n",
    "            else:\n",
    "                x_real = np.concatenate([x_real, x_r], axis=0)\n",
    "                x_fake = np.concatenate([x_fake, x_f], axis=0)\n",
    "                \n",
    "            continue\n",
    "            \n",
    "        pdb.set_trace()\n",
    "        x_r = torch.from_numpy(x_real).to(torch.float32).cuda()\n",
    "        x_f = torch.from_numpy(x_fake).to(torch.float32).cuda()\n",
    "        \n",
    "        x_real, x_fake = np.array([]), np.array([])\n",
    "        \n",
    "        score = model.fid_score(x_r, x_f)\n",
    "\n",
    "        FID_scores.append(score)\n",
    "\n",
    "        if n % 10 == 0:\n",
    "            print('..... done with %.3f percent .....'%(n*100 / len(X)))\n",
    "            print(f'..... FID: {score} .....')"
   ]
  },
  {
   "cell_type": "code",
   "execution_count": 152,
   "metadata": {},
   "outputs": [],
   "source": [
    "class InceptionNetRecurrent(nn.Module):\n",
    "    \"\"\"A discriminator network from which fid_score can be computed\n",
    "        Inputs are assumed to be full spectrograms.\n",
    "    \"\"\"\n",
    "    def __init__(self, indims=129, nrnn=100, nrnnlayers=1, nembed=12, nlin=50, leak=0.1,\n",
    "                 dropout=0.0, lr=1e-4, l2=1e-4, bidirectional=False, log_every=100):\n",
    "        super(InceptionNetRecurrent, self).__init__()\n",
    "        \n",
    "        self.encoder_rnn = nn.GRU(indims, nrnn, nrnnlayers, bidirectional=False,\n",
    "                          dropout=dropout, batch_first=True)\n",
    "        self.decoder_rnn = nn.GRU(nembed, nrnn, nrnnlayers, bidirectional=False,\n",
    "                          dropout=dropout, batch_first=True)\n",
    "        \n",
    "        bid = 2 if bidirectional else 1\n",
    "        \n",
    "        self.mlp_in = nn.Sequential(\n",
    "            nn.Linear(nrnn*bid, nlin),\n",
    "            nn.LayerNorm(nlin),\n",
    "            nn.LeakyReLU(leak),\n",
    "            \n",
    "            nn.Linear(nlin, nlin),\n",
    "            nn.LayerNorm(nlin),\n",
    "            nn.LeakyReLU(leak),\n",
    "            \n",
    "            nn.Linear(nlin, nembed)\n",
    "        )\n",
    "        \n",
    "        self.classifier = nn.Linear(nembed, 1)\n",
    "        \n",
    "        self.len_in = None\n",
    "        \n",
    "        self.out_act =nn.Sigmoid()\n",
    "        self.optimizer = torch.optim.Adam(self.parameters(), lr=lr, weight_decay=l2, betas = (0.5, 0.9))\n",
    "        self.costfunc = nn.BCELoss()\n",
    "        self.log_every = log_every\n",
    "    \n",
    "    def encode(self, x):\n",
    "        # x is a spectrogram of shape (N,H,L)\n",
    "        # H = feature dims\n",
    "        # L = length\n",
    "        x = x.permute(0,2,1)\n",
    "        \n",
    "        self.len_in = x.shape[1]\n",
    "        \n",
    "        x,_ = self.encoder_rnn(x)\n",
    "        # take last time step value\n",
    "        x = x[:,-1,:]\n",
    "        return self.mlp_in(x) # z\n",
    "    \n",
    "    def fid_score(self, x_real, x_gen):\n",
    "        x_real = self.encode(x_real)\n",
    "        \n",
    "        x_gen = self.encode(x_gen)\n",
    "        \n",
    "        return FID(x_real, x_gen)\n",
    "    \n",
    "    def forward(self, x):\n",
    "        x = self.encode(x)\n",
    "        return self.out_act(self.classifier(x))\n",
    "        \n",
    "    def fit(self, traindataloader):\n",
    "        \n",
    "        N = len(traindataloader)\n",
    "        for i, batch in enumerate(traindataloader):\n",
    "            x, y = batch\n",
    "            \n",
    "            yhat = self.forward(x)\n",
    "            \n",
    "            loss = self.costfunc(yhat, y)\n",
    "            \n",
    "            self.optimizer.zero_grad()\n",
    "            loss.backward()\n",
    "            self.optimizer.step()\n",
    "            \n",
    "            if i % self.log_every == 0:\n",
    "                print('..... batch=%d/%d loss = %.3f .....'%(i,N,float(loss.detach())))\n",
    "                "
   ]
  },
  {
   "cell_type": "code",
   "execution_count": null,
   "metadata": {},
   "outputs": [],
   "source": []
  }
 ],
 "metadata": {
  "kernelspec": {
   "display_name": "Python 3",
   "language": "python",
   "name": "python3"
  },
  "language_info": {
   "codemirror_mode": {
    "name": "ipython",
    "version": 3
   },
   "file_extension": ".py",
   "mimetype": "text/x-python",
   "name": "python",
   "nbconvert_exporter": "python",
   "pygments_lexer": "ipython3",
   "version": "3.8.8"
  }
 },
 "nbformat": 4,
 "nbformat_minor": 4
}
