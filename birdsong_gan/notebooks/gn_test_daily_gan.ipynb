{
 "cells": [
  {
   "cell_type": "code",
   "execution_count": 1,
   "id": "numerous-hearing",
   "metadata": {},
   "outputs": [],
   "source": [
    "%load_ext autoreload\n",
    "%autoreload 2"
   ]
  },
  {
   "cell_type": "code",
   "execution_count": 30,
   "id": "reported-quality",
   "metadata": {},
   "outputs": [],
   "source": [
    "import sys\n",
    "import os\n",
    "from os.path import join\n",
    "sys.path.append(os.pardir)"
   ]
  },
  {
   "cell_type": "code",
   "execution_count": 63,
   "id": "approved-praise",
   "metadata": {},
   "outputs": [],
   "source": [
    "from train.train_daily_gan import Model\n",
    "from utils.utils import make_output_folder"
   ]
  },
  {
   "cell_type": "code",
   "execution_count": null,
   "id": "fifth-relative",
   "metadata": {},
   "outputs": [],
   "source": []
  },
  {
   "cell_type": "code",
   "execution_count": 17,
   "id": "toxic-deficit",
   "metadata": {},
   "outputs": [],
   "source": [
    "from data.dataset import bird_dataset_single_hdf"
   ]
  },
  {
   "cell_type": "code",
   "execution_count": 14,
   "id": "circular-impact",
   "metadata": {},
   "outputs": [],
   "source": [
    "import random\n",
    "import gc"
   ]
  },
  {
   "cell_type": "code",
   "execution_count": 5,
   "id": "experienced-macro",
   "metadata": {},
   "outputs": [],
   "source": [
    "import torch\n",
    "import numpy as np"
   ]
  },
  {
   "cell_type": "code",
   "execution_count": null,
   "id": "impressive-monroe",
   "metadata": {},
   "outputs": [],
   "source": [
    "opts"
   ]
  },
  {
   "cell_type": "code",
   "execution_count": 57,
   "id": "missing-trading",
   "metadata": {},
   "outputs": [],
   "source": [
    "opts['ngf'] = 96\n",
    "opts['ndf'] =96\n",
    "opts['train_residual'] = True\n",
    "opts['batchSize'] = 64\n",
    "opts['lr'] = 1e-4\n",
    "opts['nepochs'] = 10\n",
    "opts['init_params'] = 'kmeans'\n",
    "opts['manualSeed'] = 90\n",
    "opts['nz'] = 12\n",
    "opts['outf'] = '/home/songbird/datapartition/mdgan_output/daily_gan/r15y5_nz12/'\n",
    "opts['datapath'] = '/home/songbird/datapartition/all_birds.hdf'"
   ]
  },
  {
   "cell_type": "code",
   "execution_count": 58,
   "id": "requested-casino",
   "metadata": {},
   "outputs": [],
   "source": [
    "opts['cuda'] = True"
   ]
  },
  {
   "cell_type": "code",
   "execution_count": 59,
   "id": "continued-blade",
   "metadata": {},
   "outputs": [
    {
     "name": "stdout",
     "output_type": "stream",
     "text": [
      "Random Seed:  90\n"
     ]
    }
   ],
   "source": [
    "# fix seed\n",
    "print(\"Random Seed: \", opts['manualSeed'])\n",
    "random.seed(opts['manualSeed'])\n",
    "torch.manual_seed(opts['manualSeed'])\n",
    "if opts['cuda']:\n",
    "    torch.cuda.manual_seed(opts['manualSeed'])\n",
    "opts['hmm_random_state'] = opts['manualSeed']\n",
    "\n"
   ]
  },
  {
   "cell_type": "markdown",
   "id": "accompanied-manor",
   "metadata": {},
   "source": [
    "# make dataset object"
   ]
  },
  {
   "cell_type": "code",
   "execution_count": 60,
   "id": "wanted-control",
   "metadata": {},
   "outputs": [],
   "source": [
    "opts['birdname'] = 'r15y5'"
   ]
  },
  {
   "cell_type": "code",
   "execution_count": 28,
   "id": "trained-adjustment",
   "metadata": {},
   "outputs": [
    {
     "name": "stdout",
     "output_type": "stream",
     "text": [
      "... total number of folders for bird r15y5 = 41 ...\n"
     ]
    }
   ],
   "source": [
    "# make bird dataset\n",
    "dataset = bird_dataset_single_hdf(opts['datapath'], opts['birdname'])\n",
    "# how many days are there ? \n",
    "ndays = dataset.ndays\n",
    "\n",
    "    "
   ]
  },
  {
   "cell_type": "code",
   "execution_count": 34,
   "id": "comic-lightweight",
   "metadata": {},
   "outputs": [
    {
     "data": {
      "text/plain": [
       "880"
      ]
     },
     "execution_count": 34,
     "metadata": {},
     "output_type": "execute_result"
    }
   ],
   "source": [
    "len(traindataloader)"
   ]
  },
  {
   "cell_type": "markdown",
   "id": "thirty-craps",
   "metadata": {},
   "source": [
    "# build initial model object"
   ]
  },
  {
   "cell_type": "code",
   "execution_count": 64,
   "id": "vocal-wholesale",
   "metadata": {},
   "outputs": [
    {
     "name": "stdout",
     "output_type": "stream",
     "text": [
      "Using L1 loss\n"
     ]
    }
   ],
   "source": [
    "# make model\n",
    "model = Model(dataset, '', opts, None)\n",
    "# make a save folder (run e.g. 2021-09-10_15_12_31)\n",
    "opts['outf'] = make_output_folder(opts['outf'])"
   ]
  },
  {
   "cell_type": "code",
   "execution_count": null,
   "id": "undefined-league",
   "metadata": {},
   "outputs": [],
   "source": []
  },
  {
   "cell_type": "code",
   "execution_count": null,
   "id": "under-crash",
   "metadata": {},
   "outputs": [],
   "source": [
    "\n",
    "\n",
    "for day in range(ndays):\n",
    "    print('\\n\\n.... ### WORKING ON DAY %d for bird %s ### .....'%(day, opts['birdname']))\n",
    "\n",
    "    # update output folder\n",
    "    outpath = join(opts['outf'], 'day_' + str(day))\n",
    "    os.makedirs(outpath, exist_ok=True)\n",
    "    model.outpath = outpath\n",
    "\n",
    "    # re-initialize networks\n",
    "    if day > 0 and not opts['chain_networks']:\n",
    "        model._init_networks()\n",
    "\n",
    "    # make traindataloader\n",
    "    #traindataloader = model.make_dataloader(day)\n",
    "    # train networks\n",
    "    model.train_one_day(day, traindataloader)\n",
    "\n",
    "    # then, train hmm\n",
    "    for k in range(opts['hidden_state_size']):\n",
    "\n",
    "        model.train_hmm(day, opts['hidden_state_size'][k])\n",
    "\n",
    "    # clear the saved spectrogram and latent vectors arrays\n",
    "    model.X = None \n",
    "    model.Z = None"
   ]
  },
  {
   "cell_type": "code",
   "execution_count": 66,
   "id": "delayed-dakota",
   "metadata": {},
   "outputs": [
    {
     "data": {
      "text/plain": [
       "3919"
      ]
     },
     "execution_count": 66,
     "metadata": {},
     "output_type": "execute_result"
    }
   ],
   "source": [
    "del model\n",
    "gc.collect()"
   ]
  },
  {
   "cell_type": "code",
   "execution_count": null,
   "id": "sudden-evening",
   "metadata": {},
   "outputs": [],
   "source": []
  }
 ],
 "metadata": {
  "kernelspec": {
   "display_name": "Python 3",
   "language": "python",
   "name": "python3"
  },
  "language_info": {
   "codemirror_mode": {
    "name": "ipython",
    "version": 3
   },
   "file_extension": ".py",
   "mimetype": "text/x-python",
   "name": "python",
   "nbconvert_exporter": "python",
   "pygments_lexer": "ipython3",
   "version": "3.8.8"
  }
 },
 "nbformat": 4,
 "nbformat_minor": 5
}
