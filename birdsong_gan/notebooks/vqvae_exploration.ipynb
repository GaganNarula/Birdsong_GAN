{
 "cells": [
  {
   "cell_type": "code",
   "execution_count": 1,
   "id": "08440beb-c4b3-46e5-bbd5-3cfcece875a7",
   "metadata": {},
   "outputs": [],
   "source": [
    "import torch"
   ]
  },
  {
   "cell_type": "code",
   "execution_count": 47,
   "id": "9416266e-0cbf-4283-8af8-cb69d7ed2f83",
   "metadata": {},
   "outputs": [],
   "source": [
    "import diffusers"
   ]
  },
  {
   "cell_type": "code",
   "execution_count": null,
   "id": "de358714-8d6c-40d0-963c-c38d6077acab",
   "metadata": {},
   "outputs": [],
   "source": [
    "from diffusers import VQModel, DownEnc"
   ]
  },
  {
   "cell_type": "markdown",
   "id": "6298c361-b52f-43e1-8f29-05fcf9bfa8de",
   "metadata": {},
   "source": [
    "# Test VQModeL"
   ]
  },
  {
   "cell_type": "code",
   "execution_count": 15,
   "id": "40084fbb-31fb-400a-8732-ada4b8c26297",
   "metadata": {},
   "outputs": [],
   "source": [
    "vq = VQModel(in_channels=1, out_channels=1, latent_channels=1, vq_embed_dim=512, num_vq_embeddings=1000, layers_per_block=3)"
   ]
  },
  {
   "cell_type": "code",
   "execution_count": 6,
   "id": "90bbb78d-105b-4b6a-a9b5-a140807133aa",
   "metadata": {},
   "outputs": [
    {
     "data": {
      "text/plain": [
       "device(type='cpu')"
      ]
     },
     "execution_count": 6,
     "metadata": {},
     "output_type": "execute_result"
    }
   ],
   "source": [
    "vq.device"
   ]
  },
  {
   "cell_type": "code",
   "execution_count": 16,
   "id": "024c3089-3a1c-4f18-afd5-c549a32c262f",
   "metadata": {},
   "outputs": [
    {
     "data": {
      "text/plain": [
       "torch.Size([32, 1, 129, 16])"
      ]
     },
     "execution_count": 16,
     "metadata": {},
     "output_type": "execute_result"
    }
   ],
   "source": [
    "x = torch.randn(32,1,129,16)\n",
    "x.shape"
   ]
  },
  {
   "cell_type": "code",
   "execution_count": 39,
   "id": "df9cc435-e87b-47cb-80db-398617cc0053",
   "metadata": {},
   "outputs": [],
   "source": [
    "#with torch.no_grad():\n",
    "h = vq.encode(x)\n",
    "z = vq.decode(h.latents).sample"
   ]
  },
  {
   "cell_type": "code",
   "execution_count": 28,
   "id": "aeefa971-8a1c-4802-ae49-435549fe69b8",
   "metadata": {},
   "outputs": [
    {
     "data": {
      "text/plain": [
       "torch.Size([32, 1, 129, 16])"
      ]
     },
     "execution_count": 28,
     "metadata": {},
     "output_type": "execute_result"
    }
   ],
   "source": [
    "z.shape"
   ]
  },
  {
   "cell_type": "code",
   "execution_count": 41,
   "id": "a063ff2e-8d04-47b0-8e99-ea179b3211f1",
   "metadata": {},
   "outputs": [
    {
     "data": {
      "text/plain": [
       "odict_keys(['latents'])"
      ]
     },
     "execution_count": 41,
     "metadata": {},
     "output_type": "execute_result"
    }
   ],
   "source": [
    "h.keys()"
   ]
  },
  {
   "cell_type": "code",
   "execution_count": 33,
   "id": "0e748794-54db-4b02-a9e0-0f053a0628f8",
   "metadata": {},
   "outputs": [],
   "source": [
    "e = vq.quantize(h.latents)"
   ]
  },
  {
   "cell_type": "code",
   "execution_count": 42,
   "id": "ad489e14-66f5-450e-9ae1-5faee6d26b47",
   "metadata": {},
   "outputs": [
    {
     "data": {
      "text/plain": [
       "torch.Size([32, 512, 129, 16])"
      ]
     },
     "execution_count": 42,
     "metadata": {},
     "output_type": "execute_result"
    }
   ],
   "source": [
    "e[0].shape"
   ]
  },
  {
   "cell_type": "code",
   "execution_count": 43,
   "id": "21c227db-bc8d-4bd0-918a-0f7136a02b39",
   "metadata": {},
   "outputs": [
    {
     "data": {
      "text/plain": [
       "torch.float32"
      ]
     },
     "execution_count": 43,
     "metadata": {},
     "output_type": "execute_result"
    }
   ],
   "source": [
    "e[0].dtype"
   ]
  },
  {
   "cell_type": "code",
   "execution_count": 46,
   "id": "574c557e-3248-480e-89f7-fc054d2faf65",
   "metadata": {},
   "outputs": [
    {
     "data": {
      "text/plain": [
       "tensor(0.4473, grad_fn=<AddBackward0>)"
      ]
     },
     "execution_count": 46,
     "metadata": {},
     "output_type": "execute_result"
    }
   ],
   "source": [
    "e[1]"
   ]
  },
  {
   "cell_type": "code",
   "execution_count": 45,
   "id": "9e3a24b9-b2d8-49f1-9c8d-2f6b48cccd10",
   "metadata": {},
   "outputs": [
    {
     "data": {
      "text/plain": [
       "(None, None, tensor([68, 68, 68,  ..., 68, 68, 68]))"
      ]
     },
     "execution_count": 45,
     "metadata": {},
     "output_type": "execute_result"
    }
   ],
   "source": [
    "e[-1]"
   ]
  },
  {
   "cell_type": "code",
   "execution_count": 51,
   "id": "6351a34f-526f-49c0-9ac6-1d5f5f5f5cb9",
   "metadata": {},
   "outputs": [],
   "source": [
    "c = vq.quantize.get_codebook_entry(indices=torch.LongTensor([68,102,220]), shape=None)"
   ]
  },
  {
   "cell_type": "code",
   "execution_count": 52,
   "id": "6a51881c-2e27-4ebd-9983-ee7831664279",
   "metadata": {},
   "outputs": [
    {
     "data": {
      "text/plain": [
       "torch.Size([3, 512])"
      ]
     },
     "execution_count": 52,
     "metadata": {},
     "output_type": "execute_result"
    }
   ],
   "source": [
    "c.shape"
   ]
  },
  {
   "cell_type": "code",
   "execution_count": 98,
   "id": "071e2553-2085-4c2b-9887-34545846001e",
   "metadata": {},
   "outputs": [],
   "source": [
    "vq.quantize.legacy = False\n",
    "vq.quantize.beta = 95 / 5"
   ]
  },
  {
   "cell_type": "markdown",
   "id": "d3172ba1-828c-45eb-a256-0896f656d800",
   "metadata": {},
   "source": [
    "# load dataset"
   ]
  },
  {
   "cell_type": "code",
   "execution_count": 60,
   "id": "2e1c8040-c938-4e96-95c8-1c2f0023fada",
   "metadata": {},
   "outputs": [],
   "source": [
    "from datasets import load_from_disk\n",
    "import numpy as np\n",
    "import matplotlib.pyplot as plt"
   ]
  },
  {
   "cell_type": "code",
   "execution_count": 54,
   "id": "e2aa92e4-b147-4d77-b152-56e84a1132f5",
   "metadata": {},
   "outputs": [],
   "source": [
    "ds = load_from_disk(\"/media/gagan/Gagan_external/songbird_data/age_resampled_hfdataset/\")"
   ]
  },
  {
   "cell_type": "code",
   "execution_count": 55,
   "id": "6e1c9655-f26e-48f5-8344-470edb74ae3a",
   "metadata": {},
   "outputs": [
    {
     "data": {
      "text/plain": [
       "514229"
      ]
     },
     "execution_count": 55,
     "metadata": {},
     "output_type": "execute_result"
    }
   ],
   "source": [
    "len(ds)"
   ]
  },
  {
   "cell_type": "code",
   "execution_count": 57,
   "id": "a88f3a4b-28ee-493a-bd83-ba165427a76d",
   "metadata": {},
   "outputs": [
    {
     "data": {
      "text/plain": [
       "(129, 250)"
      ]
     },
     "execution_count": 57,
     "metadata": {},
     "output_type": "execute_result"
    }
   ],
   "source": [
    "x = np.array(ds[0][\"spectrogram\"])\n",
    "x.shape"
   ]
  },
  {
   "cell_type": "code",
   "execution_count": 58,
   "id": "a6b1d838-7b31-41ba-8388-fce3bb278905",
   "metadata": {},
   "outputs": [],
   "source": [
    "from birdsong_gan.utils.audio_utils import random_time_crop_spectrogram"
   ]
  },
  {
   "cell_type": "code",
   "execution_count": 59,
   "id": "aa9c223a-ba61-42fe-9266-0f49a588701b",
   "metadata": {},
   "outputs": [
    {
     "data": {
      "text/plain": [
       "(129, 16)"
      ]
     },
     "execution_count": 59,
     "metadata": {},
     "output_type": "execute_result"
    }
   ],
   "source": [
    "y = random_time_crop_spectrogram(x, crop_length=16)\n",
    "y.shape"
   ]
  },
  {
   "cell_type": "code",
   "execution_count": 81,
   "id": "2d2f0347-514c-420e-957c-88ed5a2dbf41",
   "metadata": {},
   "outputs": [],
   "source": [
    "class SpectrogramSnippets(torch.utils.data.Dataset):\n",
    "\n",
    "    def __init__(self, ds, ntimeframes: int = 16, spec_dtype: str = \"float32\", log_scale: bool = True):\n",
    "        super().__init__()\n",
    "        self.ds = ds\n",
    "        self.ntimeframes = ntimeframes\n",
    "        self.log_scale = log_scale\n",
    "        if spec_dtype == \"float16\":\n",
    "            self.spec_dtype = torch.float16\n",
    "        else:\n",
    "            self.spec_dtype = torch.float32\n",
    "\n",
    "    def __len__(self):\n",
    "        return len(self.ds)\n",
    "        \n",
    "    def __getitem__(self, index: int):\n",
    "        x = np.array(ds[index][\"spectrogram\"])\n",
    "        x = random_time_crop_spectrogram(x, self.ntimeframes)\n",
    "        if self.log_scale:\n",
    "            x = np.log1p(x)\n",
    "        x = torch.from_numpy(x).to(self.spec_dtype)\n",
    "        x = x.view(1, x.shape[0], x.shape[1])  # add channel dim\n",
    "        return x"
   ]
  },
  {
   "cell_type": "code",
   "execution_count": 88,
   "id": "a5efff41-3df2-489d-ada4-8bdac08eca35",
   "metadata": {},
   "outputs": [],
   "source": [
    "dataset = SpectrogramSnippets(ds)"
   ]
  },
  {
   "cell_type": "code",
   "execution_count": 89,
   "id": "dfdffda0-c362-42af-a43b-cc14ffdb55d6",
   "metadata": {},
   "outputs": [
    {
     "data": {
      "text/plain": [
       "514229"
      ]
     },
     "execution_count": 89,
     "metadata": {},
     "output_type": "execute_result"
    }
   ],
   "source": [
    "len(dataset)"
   ]
  },
  {
   "cell_type": "code",
   "execution_count": 96,
   "id": "99277b25-4613-4da7-a872-49590bcbfcfd",
   "metadata": {},
   "outputs": [
    {
     "data": {
      "text/plain": [
       "torch.Size([1, 129, 16])"
      ]
     },
     "execution_count": 96,
     "metadata": {},
     "output_type": "execute_result"
    }
   ],
   "source": [
    "xx = dataset[124124]\n",
    "xx.shape"
   ]
  },
  {
   "cell_type": "markdown",
   "id": "79f35569-ee66-4cb1-b0b8-93dd2706c061",
   "metadata": {},
   "source": [
    "# Training function setup"
   ]
  },
  {
   "cell_type": "code",
   "execution_count": 112,
   "id": "831cd497-5bbb-4454-a884-f7f53463a89b",
   "metadata": {},
   "outputs": [],
   "source": [
    "from dataclasses import dataclass\n",
    "\n",
    "@dataclass\n",
    "class TrainingConfig:\n",
    "\n",
    "    lr: float = 1e-4\n",
    "    batch_size: int = 128\n",
    "    gradient_accumulation_steps: int = 1\n",
    "    alpha: float = 10.\n",
    "    weight_decay: float = 0.0\n",
    "    log_every: int = 50\n",
    "    num_epochs: int = 5\n",
    "    \n",
    "config = TrainingConfig()"
   ]
  },
  {
   "cell_type": "code",
   "execution_count": 110,
   "id": "ed4d9b9f-0ba8-420b-b622-b2c2488523ed",
   "metadata": {},
   "outputs": [
    {
     "data": {
      "text/plain": [
       "TrainingConfig(lr=0.0001, batch_size=128, gradient_accumulation_steps=1, alpha=10.0, weight_decay=0.0, log_every=50)"
      ]
     },
     "execution_count": 110,
     "metadata": {},
     "output_type": "execute_result"
    }
   ],
   "source": [
    "config"
   ]
  },
  {
   "cell_type": "code",
   "execution_count": 101,
   "id": "5c9a289a-f9b7-419a-999d-cc40023a9d2d",
   "metadata": {},
   "outputs": [],
   "source": [
    "model = VQModel(in_channels=1, out_channels=1, latent_channels=1, vq_embed_dim=512, num_vq_embeddings=2000, layers_per_block=3)"
   ]
  },
  {
   "cell_type": "code",
   "execution_count": 102,
   "id": "af4b99c5-04a7-4873-a019-83cb6216db23",
   "metadata": {},
   "outputs": [
    {
     "data": {
      "text/plain": [
       "1876995"
      ]
     },
     "execution_count": 102,
     "metadata": {},
     "output_type": "execute_result"
    }
   ],
   "source": [
    "model.num_parameters()"
   ]
  },
  {
   "cell_type": "code",
   "execution_count": 103,
   "id": "59b9076a-14c3-4804-b884-774073e7f024",
   "metadata": {},
   "outputs": [],
   "source": [
    "model = model.to(\"cuda\")"
   ]
  },
  {
   "cell_type": "code",
   "execution_count": null,
   "id": "2942f2e9-f36f-4d3a-a3fe-ebaac3ac793c",
   "metadata": {},
   "outputs": [],
   "source": [
    "# Separate LayerNorm and non-LayerNorm parameters\n",
    "no_decay = [\"bias\", \"LayerNorm.weight\"]\n",
    "optimizer_grouped_parameters = [\n",
    "    {\n",
    "        \"params\": [p for n, p in model.named_parameters() if not any(nd in n for nd in no_decay)],\n",
    "        \"weight_decay\": weight_decay,\n",
    "    },\n",
    "    {\n",
    "        \"params\": [p for n, p in model.named_parameters() if any(nd in n for nd in no_decay)],\n",
    "        \"weight_decay\": 0.0,\n",
    "    },\n",
    "]"
   ]
  },
  {
   "cell_type": "code",
   "execution_count": 111,
   "id": "a75e4dd0-1265-44ea-8f53-0cd5a5e8e590",
   "metadata": {},
   "outputs": [],
   "source": [
    "optimizer = torch.optim.AdamW(model.parameters(), lr=config.lr, weight_decay=config.weight_decay)"
   ]
  },
  {
   "cell_type": "code",
   "execution_count": 113,
   "id": "5588c6dd-5117-432a-82aa-ec90972b1416",
   "metadata": {},
   "outputs": [],
   "source": [
    "train_dataloader = torch.utils.data.DataLoader(dataset, batch_size=config.batch_size)"
   ]
  },
  {
   "cell_type": "code",
   "execution_count": 108,
   "id": "0a48b258-aa59-4b2c-a44a-f8f846443fb8",
   "metadata": {},
   "outputs": [],
   "source": [
    "l2loss = torch.nn.MSELoss()\n",
    "\n",
    "def train(dataloader, model, optimizer, epoch, config):\n",
    "\n",
    "    for i, x in enumerate(dataloader):\n",
    "\n",
    "        x = x.to(model.device)\n",
    "\n",
    "        # commitment loss\n",
    "        ze = model.encode(x)\n",
    "        zq, commloss, _ = model.quantize(ze.latents)\n",
    "\n",
    "        # recon loss\n",
    "        xhat = model.decode(zq).sample\n",
    "\n",
    "        l2 = l2loss(xhat, x)\n",
    "\n",
    "        total_loss = l2 + config.alpha * commloss\n",
    "\n",
    "        total_loss /= config.gradient_accumulation_steps\n",
    "        total_loss.backward()\n",
    "\n",
    "        if (i + 1) % config.gradient_accumulation_steps == 0:\n",
    "            torch.nn.utils.clip_grad_norm_(model.parameters(), 1.)\n",
    "            optimizer.step()\n",
    "            optimizer.zero_grad()\n",
    "\n",
    "        if (i + 1) % config.log_every == 0:\n",
    "            print(f\"L2 loss at epoch={epoch}, batch={i} is = {float(l2.detach())}\")\n",
    "            print(f\"Comm loss at epoch={epoch}, batch={i} is = {float(commloss.detach())}\")\n",
    "\n",
    "    return model"
   ]
  },
  {
   "cell_type": "code",
   "execution_count": null,
   "id": "d1480bef-39f0-4cc0-80be-eb1090468fcb",
   "metadata": {},
   "outputs": [],
   "source": [
    "for n in range(config.num_epochs):\n",
    "\n",
    "    model = train(train_dataloader, model, optimizer, n, config)"
   ]
  },
  {
   "cell_type": "code",
   "execution_count": null,
   "id": "eb30831c-7ba9-421f-8ba1-43770640c1c8",
   "metadata": {},
   "outputs": [],
   "source": [
    "model."
   ]
  },
  {
   "cell_type": "markdown",
   "id": "2d23b037-1a3b-4052-994b-3a0c7e6a113b",
   "metadata": {},
   "source": [
    "# Discriminator based"
   ]
  },
  {
   "cell_type": "code",
   "execution_count": null,
   "id": "66bdda2f-00eb-4e9b-8add-737e9cdf7402",
   "metadata": {},
   "outputs": [],
   "source": [
    "from birdsong_gan.models.nets_16col_residual import _netD\n",
    "\n",
    "\n",
    "class Discriminator(torch.nn.Module):\n",
    "\n",
    "    def __init__(self, num_discriminator_multiplier: int = 32):\n",
    "        super().__init__()\n",
    "\n",
    "        self.convs = nn.ModuleList([\n",
    "            nn.Conv2d(nc, ndf, kernel_size=4, stride=(2,2), padding=(1,1), bias=False),\n",
    "            # size H = (129 +2 -4)/2 + 1 = 64, W = (16 +2 -4)/2 + 1 = 8\n",
    "            nn.Conv2d(ndf, ndf * 2, kernel_size=(4, 3), stride=(2, 1), padding=(1, 0), bias=False),\n",
    "            # size H = (64 +2 -4)/2 + 1 = 32, W = (8 -3) + 1 = 6\n",
    "            nn.Conv2d(ndf * 2, ndf * 4, kernel_size=(4,3), stride=(2,1), padding=(2,0), bias=False),\n",
    "            # size H = (32 +4 -4)/2 + 1 = 17, W = (6 -3) + 1 = 4\n",
    "            nn.Conv2d(ndf * 4, ndf * 8, kernel_size=(8,4), stride=(2,1), padding=1, bias=False),\n",
    "            # H = (17 +2 -8)/2 + 1 = 6, W = (4 +2 -4) + 1 = 3\n",
    "            nn.Conv2d(ndf * 8, 1, kernel_size=(6,3), stride=1, padding=0, bias=False),\n",
    "            # H = 6-6 + 1 =1, W = (4 - 3) +1 =  \n",
    "        ])\n",
    "        self.lns = nn.ModuleList([nn.LayerNorm([ndf, 64, 8]),\n",
    "                                  nn.LayerNorm([ndf * 2, 32, 6]),\n",
    "                                  nn.LayerNorm([ndf * 4, 17, 4]),\n",
    "                                  nn.LayerNorm([ndf * 8, 6, 3])])\n",
    "        self.activations = nn.ModuleList([nn.LeakyReLU(0.2),nn.LeakyReLU(0.2),\n",
    "                                    nn.LeakyReLU(0.2),nn.LeakyReLU(0.2)])\n",
    "        \n",
    "        self.loss = torch.nn.BCEWithLogitsLoss()\n",
    "        \n",
    "    def true_wp(self, prob, size):\n",
    "        # generate a uniform random number\n",
    "        p = torch.rand(size).to(self.device).float()\n",
    "        # if prob = 0.9, most of the time, this will be True\n",
    "        p = (p < prob).float()\n",
    "        return p \n",
    "\n",
    "    def forward(self, x: torch.Tensor, label: str = \"real\") -> torch.Tensor:\n",
    "        for i in range(4):\n",
    "            x = self.convs[i](x)\n",
    "            x = self.lns[i](x)\n",
    "            x = self.activations[i](x)\n",
    "            x = self.convs[-1](x)\n",
    "        x = x.view(-1, 1) # flatten\n",
    "\n",
    "        if label == \"real\":\n",
    "            \n",
    "        return self.loss("
   ]
  }
 ],
 "metadata": {
  "kernelspec": {
   "display_name": "Python 3 (ipykernel)",
   "language": "python",
   "name": "python3"
  },
  "language_info": {
   "codemirror_mode": {
    "name": "ipython",
    "version": 3
   },
   "file_extension": ".py",
   "mimetype": "text/x-python",
   "name": "python",
   "nbconvert_exporter": "python",
   "pygments_lexer": "ipython3",
   "version": "3.10.13"
  }
 },
 "nbformat": 4,
 "nbformat_minor": 5
}
