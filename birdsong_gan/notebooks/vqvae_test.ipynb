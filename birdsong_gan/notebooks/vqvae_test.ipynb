{
 "cells": [
  {
   "cell_type": "code",
   "execution_count": 1,
   "id": "b7021659-a61a-4d65-b307-49cc5d23b6ed",
   "metadata": {},
   "outputs": [],
   "source": [
    "import os\n",
    "import json \n",
    "import numpy as np\n",
    "import torch"
   ]
  },
  {
   "cell_type": "code",
   "execution_count": 2,
   "id": "40d840f8-9869-48cf-b716-ec99b809815b",
   "metadata": {},
   "outputs": [
    {
     "name": "stderr",
     "output_type": "stream",
     "text": [
      "/home/gagan/anaconda3/envs/birdsonggan/lib/python3.10/site-packages/diffusers/utils/outputs.py:63: UserWarning: torch.utils._pytree._register_pytree_node is deprecated. Please use torch.utils._pytree.register_pytree_node instead.\n",
      "  torch.utils._pytree._register_pytree_node(\n",
      "/home/gagan/anaconda3/envs/birdsonggan/lib/python3.10/site-packages/diffusers/utils/outputs.py:63: UserWarning: torch.utils._pytree._register_pytree_node is deprecated. Please use torch.utils._pytree.register_pytree_node instead.\n",
      "  torch.utils._pytree._register_pytree_node(\n"
     ]
    }
   ],
   "source": [
    "from birdsong_gan.models.vqvae import VQVAEModel"
   ]
  },
  {
   "cell_type": "code",
   "execution_count": 3,
   "id": "785c02f0-d72b-40d5-8113-3a827bf9837f",
   "metadata": {},
   "outputs": [],
   "source": [
    "from birdsong_gan.utils.audio_utils import plot_spectrogram"
   ]
  },
  {
   "cell_type": "markdown",
   "id": "6f865ef0-add7-4223-8d1c-f0cfd388dde2",
   "metadata": {},
   "source": [
    "# Load model"
   ]
  },
  {
   "cell_type": "code",
   "execution_count": 4,
   "id": "3a0131e9-82bb-4531-9c48-4e8393d61a95",
   "metadata": {},
   "outputs": [],
   "source": [
    "model_dir = \"/home/gagan/ek_experiments/vqvae/2024-02-17_23-20-13/\"\n",
    "model_checkpoint_path = \"/home/gagan/ek_experiments/vqvae/2024-02-17_23-20-13/model_checkpoint_1_999.pt\""
   ]
  },
  {
   "cell_type": "code",
   "execution_count": 5,
   "id": "d2a55523-f02b-484e-af58-d3a558cf9cba",
   "metadata": {},
   "outputs": [
    {
     "name": "stdout",
     "output_type": "stream",
     "text": [
      "Downsampled latent shape: 32 4\n"
     ]
    }
   ],
   "source": [
    "model = VQVAEModel.from_pretrained(model_dir, model_checkpoint_path).eval()\n",
    "# model = model.eval()"
   ]
  },
  {
   "cell_type": "markdown",
   "id": "9b1243dd-5ebb-4596-85bc-b696d3d59eec",
   "metadata": {},
   "source": [
    "# Load dataset"
   ]
  },
  {
   "cell_type": "code",
   "execution_count": 6,
   "id": "b687da69-7221-4cc7-b057-7eee9d47a04f",
   "metadata": {},
   "outputs": [],
   "source": [
    "from datasets import load_from_disk"
   ]
  },
  {
   "cell_type": "code",
   "execution_count": 27,
   "id": "79e1f3ba-6454-4463-98b4-3155428783ba",
   "metadata": {},
   "outputs": [
    {
     "data": {
      "text/plain": [
       "488517"
      ]
     },
     "execution_count": 27,
     "metadata": {},
     "output_type": "execute_result"
    }
   ],
   "source": [
    "ds = load_from_disk(\"/media/gagan/Gagan_external/songbird_data/age_resampled_hfdataset/train/\")\n",
    "len(ds)"
   ]
  },
  {
   "cell_type": "markdown",
   "id": "0e18b4cf-1a14-42c5-8671-df671a955be3",
   "metadata": {},
   "source": [
    "# Infer codes"
   ]
  },
  {
   "cell_type": "code",
   "execution_count": 28,
   "id": "330e33b8-8517-470b-aebc-937b729a1d6d",
   "metadata": {},
   "outputs": [],
   "source": [
    "from birdsong_gan.data.data_utils import get_bird_subset, get_age_range_subset, get_all_unique_values, get_random_sample"
   ]
  },
  {
   "cell_type": "code",
   "execution_count": 29,
   "id": "79c9ffdc-7193-4d8d-8ab2-5629a69e5e0d",
   "metadata": {},
   "outputs": [],
   "source": [
    "birds = get_all_unique_values(ds, \"bird_name\")"
   ]
  },
  {
   "cell_type": "code",
   "execution_count": 30,
   "id": "c9afa323-5836-40a8-98cd-f15e6a89c0f4",
   "metadata": {},
   "outputs": [
    {
     "data": {
      "text/plain": [
       "['k3r16',\n",
       " 'b7r16',\n",
       " 'b13r16',\n",
       " 'b4g20',\n",
       " 'b3g20',\n",
       " 'r15y2',\n",
       " 'r15y5',\n",
       " 'p20r16',\n",
       " 'b6r17',\n",
       " 'b8r17',\n",
       " 'g7r15',\n",
       " 'b14r16',\n",
       " 'k6r16',\n",
       " 'g20r15',\n",
       " 'g19r15_tutor',\n",
       " 'p3r16',\n",
       " 'g19r15',\n",
       " 'r15s12',\n",
       " 'b8r17_tutor',\n",
       " 'g20r15_tutor',\n",
       " 'r15y2_tutor',\n",
       " 'b4g20_tutor',\n",
       " 'g7r15_tutor',\n",
       " 'k3r16_tutor',\n",
       " 'r15y5_tutor',\n",
       " 'r15s12_tutor',\n",
       " 'p3r16_tutor',\n",
       " 'b7r16_tutor',\n",
       " 'p20r16_tutor',\n",
       " 'b13r16_tutor',\n",
       " 'b6r17_tutor',\n",
       " 'k6r16_tutor',\n",
       " 'b3g20_tutor',\n",
       " 'b14r16_tutor']"
      ]
     },
     "execution_count": 30,
     "metadata": {},
     "output_type": "execute_result"
    }
   ],
   "source": [
    "birds"
   ]
  },
  {
   "cell_type": "code",
   "execution_count": 31,
   "id": "bce4456c-74eb-40c1-96fc-9af33518a274",
   "metadata": {},
   "outputs": [
    {
     "data": {
      "text/plain": [
       "35813"
      ]
     },
     "execution_count": 31,
     "metadata": {},
     "output_type": "execute_result"
    }
   ],
   "source": [
    "subds = get_bird_subset(ds, bird=\"b7r16\")\n",
    "len(subds)"
   ]
  },
  {
   "cell_type": "code",
   "execution_count": 32,
   "id": "0b974867-ccfc-4e56-bf71-635c3b31f4f5",
   "metadata": {},
   "outputs": [],
   "source": [
    "dph = np.unique(subds[\"days_post_hatch\"])"
   ]
  },
  {
   "cell_type": "code",
   "execution_count": 33,
   "id": "13a5d1ed-ef0f-4cab-88ce-a3246bf58188",
   "metadata": {},
   "outputs": [
    {
     "data": {
      "text/plain": [
       "array([39, 40, 41, 42, 43, 44, 45, 46, 47, 48, 49, 50, 51, 52, 53, 54, 55,\n",
       "       56, 57, 58, 59, 60, 61, 62, 63, 64, 65, 66, 67, 68, 69, 70, 71, 72,\n",
       "       73, 74, 75, 76, 77, 78, 79, 80, 81, 82, 83, 84, 85, 86, 87, 88, 89,\n",
       "       90])"
      ]
     },
     "execution_count": 33,
     "metadata": {},
     "output_type": "execute_result"
    }
   ],
   "source": [
    "dph"
   ]
  },
  {
   "cell_type": "code",
   "execution_count": 39,
   "id": "1612ff37-4c1a-4d81-bf5c-2f2304d50808",
   "metadata": {},
   "outputs": [
    {
     "data": {
      "text/plain": [
       "595"
      ]
     },
     "execution_count": 39,
     "metadata": {},
     "output_type": "execute_result"
    }
   ],
   "source": [
    "subds_day = get_age_range_subset(subds, dph_lower=65, dph_upper=65)\n",
    "len(subds_day)"
   ]
  },
  {
   "cell_type": "code",
   "execution_count": 35,
   "id": "aea581bd-bc7a-4615-aff0-1c78d0e46e53",
   "metadata": {},
   "outputs": [],
   "source": [
    "def preprocess_example(x, device: str = \"cuda\"):\n",
    "    x = np.array(x[\"spectrogram\"])\n",
    "    x = np.log1p(x)\n",
    "    return torch.from_numpy(x).to(torch.float32).to(device)\n",
    "\n",
    "\n",
    "def encode_sample(sample):\n",
    "    x = preprocess_example(sample)\n",
    "    codes = model.infer_latent_codes_for_spectrogram(x)\n",
    "    x = model.chunk_spectrogram(x, 16)\n",
    "    xhat = model.reconstruct(x)\n",
    "    return codes, xhat, x"
   ]
  },
  {
   "cell_type": "code",
   "execution_count": 40,
   "id": "8ce5bbb2-395f-4ea8-bfb0-242c5ff9a305",
   "metadata": {},
   "outputs": [],
   "source": [
    "c, xhat, x = encode_sample(subds_day[1])"
   ]
  },
  {
   "cell_type": "markdown",
   "id": "cd96c3b5-ed70-4cda-af0f-d2da9adef11c",
   "metadata": {},
   "source": [
    "# Plot both"
   ]
  },
  {
   "cell_type": "code",
   "execution_count": 37,
   "id": "9e0436a7-7209-4168-a6c7-cbacc83f94bc",
   "metadata": {},
   "outputs": [],
   "source": [
    "import matplotlib.pyplot as plt\n",
    "from birdsong_gan.utils.audio_utils import rescale_spectrogram\n",
    "\n",
    "def plot_reconstruction_and_original(\n",
    "    x: torch.Tensor,\n",
    "    xhat: torch.Tensor,\n",
    "    figsize: tuple[int, int] = (20, 6),\n",
    ") -> None:\n",
    "    \"\"\"Plot original and reconstructed spectrograms.\n",
    "\n",
    "    Input spectrgrams have shape (batch_size, nfreq, ntimeframes).\n",
    "    Converts them to (nfreq, ntimeframes x batch_size) for plotting.\n",
    "\n",
    "    :param x: original spectrogram\n",
    "    :type x: torch.Tensor\n",
    "    :param xhat: reconstructed spectrogram\n",
    "    :type xhat: torch.Tensor\n",
    "    :param epoch: current epoch\n",
    "    :type epoch: int\n",
    "    :param batch: current batch\n",
    "    :type batch: int\n",
    "    :param experiment_dir: directory to save plots\n",
    "    :type experiment_dir: str\n",
    "    :param figsize: figure size, defaults to (12, 8)\n",
    "    :type figsize: tuple[int, int], optional\n",
    "\n",
    "    \"\"\"\n",
    "    x = x.squeeze()\n",
    "    x = np.concatenate([xx.cpu().detach().numpy() for xx in x], axis=-1)\n",
    "    xhat = xhat.squeeze()\n",
    "    xhat = np.concatenate([xx.cpu().detach().numpy() for xx in xhat], axis=-1)\n",
    "    x = rescale_spectrogram(x)\n",
    "    xhat = rescale_spectrogram(xhat)\n",
    "    fig, axes = plt.subplots(nrows=2, ncols=1, figsize=figsize)\n",
    "    axes[0].imshow(x, origin=\"lower\", cmap=\"gray\")\n",
    "    axes[0].set_title(\"Original\")\n",
    "    axes[1].imshow(xhat, origin=\"lower\", cmap=\"gray\")\n",
    "    axes[1].set_title(\"Reconstructed\")\n",
    "    # Adjust the space between the subplots\n",
    "    plt.subplots_adjust(hspace=0.2)  # Adjusts the horizontal space\n",
    "    plt.show()"
   ]
  },
  {
   "cell_type": "code",
   "execution_count": 41,
   "id": "261f5f2c-a19c-4c6d-b9b8-174cf2fca142",
   "metadata": {},
   "outputs": [
    {
     "data": {
      "image/png": "[encoded data removed]",
      "text/plain": [
       "<Figure size 2000x600 with 2 Axes>"
      ]
     },
     "metadata": {},
     "output_type": "display_data"
    }
   ],
   "source": [
    "plot_reconstruction_and_original(x, xhat)"
   ]
  },
  {
   "cell_type": "markdown",
   "id": "afe3980e-aa68-4fef-9f54-e866f79e1eff",
   "metadata": {},
   "source": [
    "## Try with random shuffle of chunks"
   ]
  },
  {
   "cell_type": "code",
   "execution_count": 47,
   "id": "b14215e3-8edd-4e9d-884f-39a920064b4d",
   "metadata": {},
   "outputs": [
    {
     "data": {
      "text/plain": [
       "torch.Size([19, 1, 129, 16])"
      ]
     },
     "execution_count": 47,
     "metadata": {},
     "output_type": "execute_result"
    }
   ],
   "source": [
    "x = preprocess_example(subds_day[1])\n",
    "x = model.chunk_spectrogram(x)\n",
    "x.shape"
   ]
  },
  {
   "cell_type": "code",
   "execution_count": 60,
   "id": "18b5fcb4-999f-48b5-9147-021629fd1d30",
   "metadata": {},
   "outputs": [],
   "source": [
    "# create random order\n",
    "order = np.random.permutation(19)\n",
    "x2 = x[order]"
   ]
  },
  {
   "cell_type": "code",
   "execution_count": 61,
   "id": "b365a6dd-0268-48bb-8c6b-8b436d2b0946",
   "metadata": {},
   "outputs": [
    {
     "data": {
      "text/plain": [
       "array([ 7,  4,  1,  6, 12,  2, 17, 11, 10, 15,  0,  8,  5, 16,  9, 18,  3,\n",
       "       13, 14])"
      ]
     },
     "execution_count": 61,
     "metadata": {},
     "output_type": "execute_result"
    }
   ],
   "source": [
    "order"
   ]
  },
  {
   "cell_type": "code",
   "execution_count": 62,
   "id": "066600c4-7811-472e-8eed-eab42375d03f",
   "metadata": {},
   "outputs": [
    {
     "data": {
      "text/plain": [
       "torch.Size([19, 1, 129, 16])"
      ]
     },
     "execution_count": 62,
     "metadata": {},
     "output_type": "execute_result"
    }
   ],
   "source": [
    "x2.shape"
   ]
  },
  {
   "cell_type": "code",
   "execution_count": 63,
   "id": "505dc5dc-2ee1-4939-b3ef-4a4250eb2ba8",
   "metadata": {},
   "outputs": [],
   "source": [
    "xhat, l2, commloss, _, _ = model(x2)"
   ]
  },
  {
   "cell_type": "code",
   "execution_count": 64,
   "id": "ff0adcf1-7d05-48f8-880a-5c6d19e49ef2",
   "metadata": {},
   "outputs": [
    {
     "data": {
      "text/plain": [
       "tensor(0.0057, device='cuda:0', grad_fn=<MseLossBackward0>)"
      ]
     },
     "execution_count": 64,
     "metadata": {},
     "output_type": "execute_result"
    }
   ],
   "source": [
    "l2"
   ]
  },
  {
   "cell_type": "code",
   "execution_count": 65,
   "id": "165d1d93-7b58-4e7c-85da-12dc6d2424c4",
   "metadata": {},
   "outputs": [
    {
     "data": {
      "text/plain": [
       "torch.Size([19, 32, 4])"
      ]
     },
     "execution_count": 65,
     "metadata": {},
     "output_type": "execute_result"
    }
   ],
   "source": [
    "c.shape"
   ]
  },
  {
   "cell_type": "code",
   "execution_count": 66,
   "id": "7f64b78b-ab63-4cf9-9a58-25e8e38195ec",
   "metadata": {},
   "outputs": [
    {
     "data": {
      "text/plain": [
       "torch.Size([19, 1, 129, 16])"
      ]
     },
     "execution_count": 66,
     "metadata": {},
     "output_type": "execute_result"
    }
   ],
   "source": [
    "xhat.shape"
   ]
  },
  {
   "cell_type": "code",
   "execution_count": 67,
   "id": "83df0233-fd5c-4df1-bc02-d62fa18b35a0",
   "metadata": {},
   "outputs": [],
   "source": [
    "xhat = model.unchunk_spectrogram(xhat).detach()\n",
    "x2 = model.unchunk_spectrogram(x2).detach()"
   ]
  },
  {
   "cell_type": "code",
   "execution_count": null,
   "id": "5f925974-159f-4189-af1e-c27fdb3267ac",
   "metadata": {},
   "outputs": [],
   "source": []
  },
  {
   "cell_type": "code",
   "execution_count": null,
   "id": "c4381dbe-e56f-4dba-90ba-da6e7b567674",
   "metadata": {},
   "outputs": [],
   "source": []
  }
 ],
 "metadata": {
  "kernelspec": {
   "display_name": "Python 3 (ipykernel)",
   "language": "python",
   "name": "python3"
  },
  "language_info": {
   "codemirror_mode": {
    "name": "ipython",
    "version": 3
   },
   "file_extension": ".py",
   "mimetype": "text/x-python",
   "name": "python",
   "nbconvert_exporter": "python",
   "pygments_lexer": "ipython3",
   "version": "3.10.13"
  }
 },
 "nbformat": 4,
 "nbformat_minor": 5
}
